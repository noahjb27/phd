{
 "cells": [
  {
   "cell_type": "code",
   "execution_count": null,
   "id": "d80646bd",
   "metadata": {},
   "outputs": [],
   "source": [
    "import pandas as pd\n",
    "import json"
   ]
  },
  {
   "cell_type": "code",
   "execution_count": null,
   "id": "00e396ba",
   "metadata": {},
   "outputs": [],
   "source": [
    "with open(\"../../web/backend/data/berlin_postal_districts.json\", \"r\", encoding=\"utf-8\") as f:\n",
    "    data = json.load(f)"
   ]
  },
  {
   "cell_type": "code",
   "execution_count": null,
   "id": "77c13955",
   "metadata": {},
   "outputs": [
    {
     "name": "stdout",
     "output_type": "stream",
     "text": [
      "Number of features: 225\n"
     ]
    }
   ],
   "source": [
    "# If the file is a GeoJSON, features are usually under 'features'\n",
    "features = data\n",
    "print(f\"Number of features: {len(features)}\")"
   ]
  },
  {
   "cell_type": "code",
   "execution_count": null,
   "id": "1c4d1fe2",
   "metadata": {},
   "outputs": [],
   "source": [
    "# Remove postcode_geometry from each feature for inspection\n",
    "for feature in features:\n",
    "    if \"postal_geometry\" in feature:\n",
    "        feature.pop(\"postal_geometry\")\n",
    "# Remove neighborhood_geometry from each feature for inspection\n",
    "for feature in features:\n",
    "    if \"neighborhood_geometry\" in feature:\n",
    "        feature.pop(\"neighborhood_geometry\")\n",
    "\n",
    "\n",
    "# Remember the geometries look like this:\n",
    "# \"postal_geometry\": {\n",
    "#       \"type\": \"MultiPolygon\",\n",
    "#       \"coordinates\": [\n",
    "#         [\n",
    "#           [\n",
    "#             [\n",
    "#               389373.0621017474,\n",
    "#               5821922.280477124\n",
    "#             ],\n",
    "#             [\n",
    "#               389357.215288683,\n",
    "#               5821947.676252604\n",
    "#             ],\n",
    "#             [\n",
    "#               389333.0156890175,\n",
    "#               5821930.752676883..."
   ]
  },
  {
   "cell_type": "code",
   "execution_count": 12,
   "id": "d961095c",
   "metadata": {},
   "outputs": [
    {
     "data": {
      "text/plain": [
       "{'postal_code': '10115',\n",
       " 'district': 'Mitte',\n",
       " 'neighborhood': 'Mitte',\n",
       " 'east_west': 'east',\n",
       " 'postal_area_km2': 2.308054731806728,\n",
       " 'neighborhood_area_km2': 10.638748,\n",
       " 'area_ratio': 0.2169479652875252,\n",
       " 'centroid_x': 390425.4069628683,\n",
       " 'centroid_y': 5821466.267325718}"
      ]
     },
     "execution_count": 12,
     "metadata": {},
     "output_type": "execute_result"
    }
   ],
   "source": [
    "# Display the first feature to understand the structure\n",
    "features[0]\n"
   ]
  },
  {
   "cell_type": "code",
   "execution_count": 13,
   "id": "410d035a",
   "metadata": {},
   "outputs": [
    {
     "data": {
      "application/vnd.microsoft.datawrangler.viewer.v0+json": {
       "columns": [
        {
         "name": "index",
         "rawType": "int64",
         "type": "integer"
        },
        {
         "name": "postal_code",
         "rawType": "object",
         "type": "string"
        },
        {
         "name": "district",
         "rawType": "object",
         "type": "string"
        },
        {
         "name": "neighborhood",
         "rawType": "object",
         "type": "string"
        },
        {
         "name": "east_west",
         "rawType": "object",
         "type": "string"
        },
        {
         "name": "postal_area_km2",
         "rawType": "float64",
         "type": "float"
        },
        {
         "name": "neighborhood_area_km2",
         "rawType": "float64",
         "type": "float"
        },
        {
         "name": "area_ratio",
         "rawType": "float64",
         "type": "float"
        },
        {
         "name": "centroid_x",
         "rawType": "float64",
         "type": "float"
        },
        {
         "name": "centroid_y",
         "rawType": "float64",
         "type": "float"
        }
       ],
       "ref": "b501910c-7d0e-49e7-8b25-920ffd44acdf",
       "rows": [
        [
         "0",
         "10115",
         "Mitte",
         "Mitte",
         "east",
         "2.308054731806728",
         "10.638748",
         "0.2169479652875252",
         "390425.4069628683",
         "5821466.267325718"
        ],
        [
         "1",
         "10117",
         "Friedrichshain-Kreuzberg",
         "Kreuzberg",
         "west",
         "3.4393192408554016",
         "10.339177999999999",
         "0.3326491952121728",
         "390565.62314075464",
         "5819761.409149799"
        ],
        [
         "2",
         "10119",
         "Pankow",
         "Prenzlauer Berg",
         "east",
         "0.9749474534805187",
         "10.969869000000001",
         "0.08887503155056078",
         "391826.7840279792",
         "5821236.955892086"
        ],
        [
         "3",
         "10178",
         "Friedrichshain-Kreuzberg",
         "Friedrichshain",
         "east",
         "1.8577151863388157",
         "9.912352",
         "0.18741416631883287",
         "392096.4740611341",
         "5820211.20960285"
        ],
        [
         "4",
         "10179",
         "Friedrichshain-Kreuzberg",
         "Kreuzberg",
         "west",
         "2.199621764293813",
         "10.339177999999999",
         "0.21274629030410477",
         "392529.17982466216",
         "5819186.464013053"
        ]
       ],
       "shape": {
        "columns": 9,
        "rows": 5
       }
      },
      "text/html": [
       "<div>\n",
       "<style scoped>\n",
       "    .dataframe tbody tr th:only-of-type {\n",
       "        vertical-align: middle;\n",
       "    }\n",
       "\n",
       "    .dataframe tbody tr th {\n",
       "        vertical-align: top;\n",
       "    }\n",
       "\n",
       "    .dataframe thead th {\n",
       "        text-align: right;\n",
       "    }\n",
       "</style>\n",
       "<table border=\"1\" class=\"dataframe\">\n",
       "  <thead>\n",
       "    <tr style=\"text-align: right;\">\n",
       "      <th></th>\n",
       "      <th>postal_code</th>\n",
       "      <th>district</th>\n",
       "      <th>neighborhood</th>\n",
       "      <th>east_west</th>\n",
       "      <th>postal_area_km2</th>\n",
       "      <th>neighborhood_area_km2</th>\n",
       "      <th>area_ratio</th>\n",
       "      <th>centroid_x</th>\n",
       "      <th>centroid_y</th>\n",
       "    </tr>\n",
       "  </thead>\n",
       "  <tbody>\n",
       "    <tr>\n",
       "      <th>0</th>\n",
       "      <td>10115</td>\n",
       "      <td>Mitte</td>\n",
       "      <td>Mitte</td>\n",
       "      <td>east</td>\n",
       "      <td>2.308055</td>\n",
       "      <td>10.638748</td>\n",
       "      <td>0.216948</td>\n",
       "      <td>390425.406963</td>\n",
       "      <td>5.821466e+06</td>\n",
       "    </tr>\n",
       "    <tr>\n",
       "      <th>1</th>\n",
       "      <td>10117</td>\n",
       "      <td>Friedrichshain-Kreuzberg</td>\n",
       "      <td>Kreuzberg</td>\n",
       "      <td>west</td>\n",
       "      <td>3.439319</td>\n",
       "      <td>10.339178</td>\n",
       "      <td>0.332649</td>\n",
       "      <td>390565.623141</td>\n",
       "      <td>5.819761e+06</td>\n",
       "    </tr>\n",
       "    <tr>\n",
       "      <th>2</th>\n",
       "      <td>10119</td>\n",
       "      <td>Pankow</td>\n",
       "      <td>Prenzlauer Berg</td>\n",
       "      <td>east</td>\n",
       "      <td>0.974947</td>\n",
       "      <td>10.969869</td>\n",
       "      <td>0.088875</td>\n",
       "      <td>391826.784028</td>\n",
       "      <td>5.821237e+06</td>\n",
       "    </tr>\n",
       "    <tr>\n",
       "      <th>3</th>\n",
       "      <td>10178</td>\n",
       "      <td>Friedrichshain-Kreuzberg</td>\n",
       "      <td>Friedrichshain</td>\n",
       "      <td>east</td>\n",
       "      <td>1.857715</td>\n",
       "      <td>9.912352</td>\n",
       "      <td>0.187414</td>\n",
       "      <td>392096.474061</td>\n",
       "      <td>5.820211e+06</td>\n",
       "    </tr>\n",
       "    <tr>\n",
       "      <th>4</th>\n",
       "      <td>10179</td>\n",
       "      <td>Friedrichshain-Kreuzberg</td>\n",
       "      <td>Kreuzberg</td>\n",
       "      <td>west</td>\n",
       "      <td>2.199622</td>\n",
       "      <td>10.339178</td>\n",
       "      <td>0.212746</td>\n",
       "      <td>392529.179825</td>\n",
       "      <td>5.819186e+06</td>\n",
       "    </tr>\n",
       "  </tbody>\n",
       "</table>\n",
       "</div>"
      ],
      "text/plain": [
       "  postal_code                  district     neighborhood east_west  \\\n",
       "0       10115                     Mitte            Mitte      east   \n",
       "1       10117  Friedrichshain-Kreuzberg        Kreuzberg      west   \n",
       "2       10119                    Pankow  Prenzlauer Berg      east   \n",
       "3       10178  Friedrichshain-Kreuzberg   Friedrichshain      east   \n",
       "4       10179  Friedrichshain-Kreuzberg        Kreuzberg      west   \n",
       "\n",
       "   postal_area_km2  neighborhood_area_km2  area_ratio     centroid_x  \\\n",
       "0         2.308055              10.638748    0.216948  390425.406963   \n",
       "1         3.439319              10.339178    0.332649  390565.623141   \n",
       "2         0.974947              10.969869    0.088875  391826.784028   \n",
       "3         1.857715               9.912352    0.187414  392096.474061   \n",
       "4         2.199622              10.339178    0.212746  392529.179825   \n",
       "\n",
       "     centroid_y  \n",
       "0  5.821466e+06  \n",
       "1  5.819761e+06  \n",
       "2  5.821237e+06  \n",
       "3  5.820211e+06  \n",
       "4  5.819186e+06  "
      ]
     },
     "execution_count": 13,
     "metadata": {},
     "output_type": "execute_result"
    }
   ],
   "source": [
    "# Convert to DataFrame for easier analysis (if properties exist)\n",
    "if \"properties\" in features[0]:\n",
    "    df = pd.DataFrame([f[\"properties\"] for f in features])\n",
    "else:\n",
    "    df = pd.DataFrame(features)\n",
    "df.head()\n",
    "\n"
   ]
  },
  {
   "cell_type": "code",
   "execution_count": 14,
   "id": "3cbcc79f",
   "metadata": {},
   "outputs": [
    {
     "name": "stdout",
     "output_type": "stream",
     "text": [
      "<class 'pandas.core.frame.DataFrame'>\n",
      "RangeIndex: 225 entries, 0 to 224\n",
      "Data columns (total 9 columns):\n",
      " #   Column                 Non-Null Count  Dtype  \n",
      "---  ------                 --------------  -----  \n",
      " 0   postal_code            225 non-null    object \n",
      " 1   district               225 non-null    object \n",
      " 2   neighborhood           225 non-null    object \n",
      " 3   east_west              225 non-null    object \n",
      " 4   postal_area_km2        225 non-null    float64\n",
      " 5   neighborhood_area_km2  212 non-null    float64\n",
      " 6   area_ratio             212 non-null    float64\n",
      " 7   centroid_x             225 non-null    float64\n",
      " 8   centroid_y             225 non-null    float64\n",
      "dtypes: float64(5), object(4)\n",
      "memory usage: 15.9+ KB\n"
     ]
    }
   ],
   "source": [
    "# Summarize the columns and data types\n",
    "df.info()\n"
   ]
  },
  {
   "cell_type": "code",
   "execution_count": 15,
   "id": "2cb01af9",
   "metadata": {},
   "outputs": [
    {
     "data": {
      "application/vnd.microsoft.datawrangler.viewer.v0+json": {
       "columns": [
        {
         "name": "index",
         "rawType": "object",
         "type": "string"
        },
        {
         "name": "postal_code",
         "rawType": "object",
         "type": "unknown"
        },
        {
         "name": "district",
         "rawType": "object",
         "type": "unknown"
        },
        {
         "name": "neighborhood",
         "rawType": "object",
         "type": "unknown"
        },
        {
         "name": "east_west",
         "rawType": "object",
         "type": "unknown"
        },
        {
         "name": "postal_area_km2",
         "rawType": "float64",
         "type": "float"
        },
        {
         "name": "neighborhood_area_km2",
         "rawType": "float64",
         "type": "float"
        },
        {
         "name": "area_ratio",
         "rawType": "float64",
         "type": "float"
        },
        {
         "name": "centroid_x",
         "rawType": "float64",
         "type": "float"
        },
        {
         "name": "centroid_y",
         "rawType": "float64",
         "type": "float"
        }
       ],
       "ref": "5db6dfd8-bb4d-4f3f-bab6-bab3a34b6493",
       "rows": [
        [
         "count",
         "225",
         "225",
         "225",
         "225",
         "225.0",
         "212.0",
         "212.0",
         "225.0",
         "225.0"
        ],
        [
         "unique",
         "225",
         "13",
         "81",
         "2",
         null,
         null,
         null,
         null,
         null
        ],
        [
         "top",
         "10115",
         "Treptow-Köpenick",
         "Lichterfelde",
         "west",
         null,
         null,
         null,
         null,
         null
        ],
        [
         "freq",
         "1",
         "31",
         "13",
         "131",
         null,
         null,
         null,
         null,
         null
        ],
        [
         "mean",
         null,
         null,
         null,
         null,
         "10.913757599850255",
         "11.858959910377356",
         "0.7647345638844358",
         "391221.7751710722",
         "5818375.956011048"
        ],
        [
         "std",
         null,
         null,
         null,
         null,
         "24.44120306569759",
         "7.176074042422859",
         "1.744524909275325",
         "9539.565636450188",
         "8578.913417936368"
        ],
        [
         "min",
         null,
         null,
         null,
         null,
         "0.4457183365936644",
         "1.090465",
         "0.04204415582861258",
         "367219.91601980955",
         "5793775.652351623"
        ],
        [
         "25%",
         null,
         null,
         null,
         null,
         "1.7070138379789876",
         "7.092692499999999",
         "0.1807881741076655",
         "385465.3012567366",
         "5813449.224181451"
        ],
        [
         "50%",
         null,
         null,
         null,
         null,
         "3.4540443448414644",
         "10.441907",
         "0.3277121482589569",
         "390331.2138191263",
         "5818307.563068906"
        ],
        [
         "75%",
         null,
         null,
         null,
         null,
         "8.117784140406489",
         "13.613629000000001",
         "0.7356319513892964",
         "395919.3306248244",
         "5823195.349632108"
        ],
        [
         "max",
         null,
         null,
         null,
         null,
         "180.57789081202657",
         "34.766151",
         "21.549848275913334",
         "425473.542877056",
         "5847743.983248975"
        ]
       ],
       "shape": {
        "columns": 9,
        "rows": 11
       }
      },
      "text/html": [
       "<div>\n",
       "<style scoped>\n",
       "    .dataframe tbody tr th:only-of-type {\n",
       "        vertical-align: middle;\n",
       "    }\n",
       "\n",
       "    .dataframe tbody tr th {\n",
       "        vertical-align: top;\n",
       "    }\n",
       "\n",
       "    .dataframe thead th {\n",
       "        text-align: right;\n",
       "    }\n",
       "</style>\n",
       "<table border=\"1\" class=\"dataframe\">\n",
       "  <thead>\n",
       "    <tr style=\"text-align: right;\">\n",
       "      <th></th>\n",
       "      <th>postal_code</th>\n",
       "      <th>district</th>\n",
       "      <th>neighborhood</th>\n",
       "      <th>east_west</th>\n",
       "      <th>postal_area_km2</th>\n",
       "      <th>neighborhood_area_km2</th>\n",
       "      <th>area_ratio</th>\n",
       "      <th>centroid_x</th>\n",
       "      <th>centroid_y</th>\n",
       "    </tr>\n",
       "  </thead>\n",
       "  <tbody>\n",
       "    <tr>\n",
       "      <th>count</th>\n",
       "      <td>225</td>\n",
       "      <td>225</td>\n",
       "      <td>225</td>\n",
       "      <td>225</td>\n",
       "      <td>225.000000</td>\n",
       "      <td>212.000000</td>\n",
       "      <td>212.000000</td>\n",
       "      <td>225.000000</td>\n",
       "      <td>2.250000e+02</td>\n",
       "    </tr>\n",
       "    <tr>\n",
       "      <th>unique</th>\n",
       "      <td>225</td>\n",
       "      <td>13</td>\n",
       "      <td>81</td>\n",
       "      <td>2</td>\n",
       "      <td>NaN</td>\n",
       "      <td>NaN</td>\n",
       "      <td>NaN</td>\n",
       "      <td>NaN</td>\n",
       "      <td>NaN</td>\n",
       "    </tr>\n",
       "    <tr>\n",
       "      <th>top</th>\n",
       "      <td>10115</td>\n",
       "      <td>Treptow-Köpenick</td>\n",
       "      <td>Lichterfelde</td>\n",
       "      <td>west</td>\n",
       "      <td>NaN</td>\n",
       "      <td>NaN</td>\n",
       "      <td>NaN</td>\n",
       "      <td>NaN</td>\n",
       "      <td>NaN</td>\n",
       "    </tr>\n",
       "    <tr>\n",
       "      <th>freq</th>\n",
       "      <td>1</td>\n",
       "      <td>31</td>\n",
       "      <td>13</td>\n",
       "      <td>131</td>\n",
       "      <td>NaN</td>\n",
       "      <td>NaN</td>\n",
       "      <td>NaN</td>\n",
       "      <td>NaN</td>\n",
       "      <td>NaN</td>\n",
       "    </tr>\n",
       "    <tr>\n",
       "      <th>mean</th>\n",
       "      <td>NaN</td>\n",
       "      <td>NaN</td>\n",
       "      <td>NaN</td>\n",
       "      <td>NaN</td>\n",
       "      <td>10.913758</td>\n",
       "      <td>11.858960</td>\n",
       "      <td>0.764735</td>\n",
       "      <td>391221.775171</td>\n",
       "      <td>5.818376e+06</td>\n",
       "    </tr>\n",
       "    <tr>\n",
       "      <th>std</th>\n",
       "      <td>NaN</td>\n",
       "      <td>NaN</td>\n",
       "      <td>NaN</td>\n",
       "      <td>NaN</td>\n",
       "      <td>24.441203</td>\n",
       "      <td>7.176074</td>\n",
       "      <td>1.744525</td>\n",
       "      <td>9539.565636</td>\n",
       "      <td>8.578913e+03</td>\n",
       "    </tr>\n",
       "    <tr>\n",
       "      <th>min</th>\n",
       "      <td>NaN</td>\n",
       "      <td>NaN</td>\n",
       "      <td>NaN</td>\n",
       "      <td>NaN</td>\n",
       "      <td>0.445718</td>\n",
       "      <td>1.090465</td>\n",
       "      <td>0.042044</td>\n",
       "      <td>367219.916020</td>\n",
       "      <td>5.793776e+06</td>\n",
       "    </tr>\n",
       "    <tr>\n",
       "      <th>25%</th>\n",
       "      <td>NaN</td>\n",
       "      <td>NaN</td>\n",
       "      <td>NaN</td>\n",
       "      <td>NaN</td>\n",
       "      <td>1.707014</td>\n",
       "      <td>7.092692</td>\n",
       "      <td>0.180788</td>\n",
       "      <td>385465.301257</td>\n",
       "      <td>5.813449e+06</td>\n",
       "    </tr>\n",
       "    <tr>\n",
       "      <th>50%</th>\n",
       "      <td>NaN</td>\n",
       "      <td>NaN</td>\n",
       "      <td>NaN</td>\n",
       "      <td>NaN</td>\n",
       "      <td>3.454044</td>\n",
       "      <td>10.441907</td>\n",
       "      <td>0.327712</td>\n",
       "      <td>390331.213819</td>\n",
       "      <td>5.818308e+06</td>\n",
       "    </tr>\n",
       "    <tr>\n",
       "      <th>75%</th>\n",
       "      <td>NaN</td>\n",
       "      <td>NaN</td>\n",
       "      <td>NaN</td>\n",
       "      <td>NaN</td>\n",
       "      <td>8.117784</td>\n",
       "      <td>13.613629</td>\n",
       "      <td>0.735632</td>\n",
       "      <td>395919.330625</td>\n",
       "      <td>5.823195e+06</td>\n",
       "    </tr>\n",
       "    <tr>\n",
       "      <th>max</th>\n",
       "      <td>NaN</td>\n",
       "      <td>NaN</td>\n",
       "      <td>NaN</td>\n",
       "      <td>NaN</td>\n",
       "      <td>180.577891</td>\n",
       "      <td>34.766151</td>\n",
       "      <td>21.549848</td>\n",
       "      <td>425473.542877</td>\n",
       "      <td>5.847744e+06</td>\n",
       "    </tr>\n",
       "  </tbody>\n",
       "</table>\n",
       "</div>"
      ],
      "text/plain": [
       "       postal_code          district  neighborhood east_west  postal_area_km2  \\\n",
       "count          225               225           225       225       225.000000   \n",
       "unique         225                13            81         2              NaN   \n",
       "top          10115  Treptow-Köpenick  Lichterfelde      west              NaN   \n",
       "freq             1                31            13       131              NaN   \n",
       "mean           NaN               NaN           NaN       NaN        10.913758   \n",
       "std            NaN               NaN           NaN       NaN        24.441203   \n",
       "min            NaN               NaN           NaN       NaN         0.445718   \n",
       "25%            NaN               NaN           NaN       NaN         1.707014   \n",
       "50%            NaN               NaN           NaN       NaN         3.454044   \n",
       "75%            NaN               NaN           NaN       NaN         8.117784   \n",
       "max            NaN               NaN           NaN       NaN       180.577891   \n",
       "\n",
       "        neighborhood_area_km2  area_ratio     centroid_x    centroid_y  \n",
       "count              212.000000  212.000000     225.000000  2.250000e+02  \n",
       "unique                    NaN         NaN            NaN           NaN  \n",
       "top                       NaN         NaN            NaN           NaN  \n",
       "freq                      NaN         NaN            NaN           NaN  \n",
       "mean                11.858960    0.764735  391221.775171  5.818376e+06  \n",
       "std                  7.176074    1.744525    9539.565636  8.578913e+03  \n",
       "min                  1.090465    0.042044  367219.916020  5.793776e+06  \n",
       "25%                  7.092692    0.180788  385465.301257  5.813449e+06  \n",
       "50%                 10.441907    0.327712  390331.213819  5.818308e+06  \n",
       "75%                 13.613629    0.735632  395919.330625  5.823195e+06  \n",
       "max                 34.766151   21.549848  425473.542877  5.847744e+06  "
      ]
     },
     "execution_count": 15,
     "metadata": {},
     "output_type": "execute_result"
    }
   ],
   "source": [
    "# Show basic statistics for numeric columns\n",
    "df.describe(include=\"all\")\n"
   ]
  },
  {
   "cell_type": "code",
   "execution_count": 16,
   "id": "e38191c9",
   "metadata": {},
   "outputs": [
    {
     "name": "stdout",
     "output_type": "stream",
     "text": [
      "['10115' '10117' '10119' '10178' '10179' '10243' '10245' '10247' '10249'\n",
      " '10315' '10317' '10318' '10319' '10365' '10367' '10369' '10405' '10407'\n",
      " '10409' '10435' '10437' '10439' '10551' '10553' '10555' '10557' '10559'\n",
      " '10585' '10587' '10589' '10623' '10625' '10627' '10629' '10707' '10709'\n",
      " '10711' '10713' '10715' '10717' '10719' '10777' '10779' '10781' '10783'\n",
      " '10785' '10787' '10789' '10823' '10825' '10827' '10829' '10961' '10963'\n",
      " '10965' '10967' '10969' '10997' '10999' '12043' '12045' '12047' '12049'\n",
      " '12051' '12053' '12055' '12057' '12059' '12099' '12101' '12103' '12105'\n",
      " '12107' '12109' '12157' '12159' '12161' '12163' '12165' '12167' '12169'\n",
      " '12203' '12205' '12207' '12209' '12247' '12249' '12277' '12279' '12305'\n",
      " '12307' '12309' '12347' '12349' '12351' '12353' '12355' '12357' '12359'\n",
      " '12435' '12437' '12439' '12459' '12487' '12489' '12524' '12526' '12527'\n",
      " '12529' '12555' '12557' '12559' '12587' '12589' '12619' '12621' '12623'\n",
      " '12627' '12629' '12679' '12681' '12683' '12685' '12687' '12689' '13051'\n",
      " '13053' '13055' '13057' '13059' '13086' '13088' '13089' '13125' '13127'\n",
      " '13129' '13156' '13158' '13159' '13187' '13189' '13347' '13349' '13351'\n",
      " '13353' '13355' '13357' '13359' '13403' '13405' '13407' '13409' '13435'\n",
      " '13437' '13439' '13465' '13467' '13469' '13503' '13505' '13507' '13509'\n",
      " '13581' '13583' '13585' '13587' '13589' '13591' '13593' '13595' '13597'\n",
      " '13599' '13627' '13629' '14050' '14052' '14053' '14055' '14057' '14059'\n",
      " '14089' '14109' '14129' '14163' '14165' '14167' '14169' '14193' '14195'\n",
      " '14197' '14199' '14467' '14473' '14482' '14513' '14532' '14612' '15344'\n",
      " '15366' '15370' '15537' '15562' '15566' '15569' '15711' '15713' '15732'\n",
      " '15738' '15745' '15827' '15831' '15834' '16321' '16341' '16356' '16515'\n",
      " '16540' '16547' '16548' '16552' '16556' '16562' '16567' '16727' '16761']\n"
     ]
    }
   ],
   "source": [
    "# List unique postal codes (or relevant field)\n",
    "if \"postal_code\" in df.columns:\n",
    "    print(df[\"postal_code\"].unique())"
   ]
  },
  {
   "cell_type": "code",
   "execution_count": 17,
   "id": "fa608d0b",
   "metadata": {},
   "outputs": [
    {
     "name": "stdout",
     "output_type": "stream",
     "text": [
      "['Mitte' 'Friedrichshain-Kreuzberg' 'Pankow' 'Treptow-Köpenick'\n",
      " 'Lichtenberg' 'Charlottenburg-Wilmersdorf' 'Tempelhof-Schöneberg'\n",
      " 'Neukölln' 'Steglitz-Zehlendorf' 'Marzahn-Hellersdorf' 'Reinickendorf'\n",
      " 'Spandau' 'Brandenburg']\n"
     ]
    }
   ],
   "source": [
    "# List unique postal codes (or relevant field)\n",
    "if \"district\" in df.columns:\n",
    "    print(df[\"district\"].unique())"
   ]
  },
  {
   "cell_type": "code",
   "execution_count": 18,
   "id": "b96cd6c5",
   "metadata": {},
   "outputs": [
    {
     "name": "stdout",
     "output_type": "stream",
     "text": [
      "['Mitte' 'Kreuzberg' 'Prenzlauer Berg' 'Friedrichshain' 'Plänterwald'\n",
      " 'Lichtenberg' 'Rummelsburg' 'Köpenick' 'Moabit' 'Charlottenburg-Nord'\n",
      " 'Tiergarten' 'Charlottenburg' 'Halensee' 'Wilmersdorf' 'Schmargendorf'\n",
      " 'Friedenau' 'Schöneberg' 'Tempelhof' 'Neukölln' 'Alt-Treptow' 'Britz'\n",
      " 'Lankwitz' 'Buckow' 'Steglitz' 'Dahlem' 'Lichterfelde' 'Lichtenrade'\n",
      " 'Rudow' 'Altglienicke' 'Johannisthal' 'Baumschulenweg' 'Adlershof'\n",
      " 'Grünau' 'Bohnsdorf' 'Schmöckwitz' 'Müggelheim' 'Kaulsdorf' 'Mahlsdorf'\n",
      " 'Hellersdorf' 'Marzahn' 'Friedrichsfelde' 'Biesdorf' 'Weißensee'\n",
      " 'Malchow' 'Fennpfuhl' 'Stadtrandsiedlung Malchow' 'Pankow'\n",
      " 'Niederschönhausen' 'Französisch Buchholz' 'Wedding' 'Reinickendorf'\n",
      " 'Wittenau' 'Tegel' 'Blankenfelde' 'Haselhorst' 'Wilhelmstadt' 'Spandau'\n",
      " 'Staaken' 'Gatow' 'Westend' 'Grunewald' 'Wannsee' 'Zehlendorf'\n",
      " 'Potsdam-Süd' 'Strausberg' 'Petershagen-Eggersdorf-Fredersdorf'\n",
      " 'Rüdersdorf' 'Rahnsdorf' 'Königs Wusterhausen' 'Wildau'\n",
      " 'Blankenfelde-Mahlow' 'Rangsdorf-Groß Machnow' 'Rüdnitz' 'Karow'\n",
      " 'Oranienburg' 'Heiligensee' 'Birkenwerder' 'Frohnau'\n",
      " 'Hohen Neuendorf-Borgsdorf' 'Velten' 'Hakenfelde']\n"
     ]
    }
   ],
   "source": [
    "# List unique postal codes (or relevant field)\n",
    "if \"neighborhood\" in df.columns:\n",
    "    print(df[\"neighborhood\"].unique())"
   ]
  }
 ],
 "metadata": {
  "kernelspec": {
   "display_name": ".venv",
   "language": "python",
   "name": "python3"
  },
  "language_info": {
   "codemirror_mode": {
    "name": "ipython",
    "version": 3
   },
   "file_extension": ".py",
   "mimetype": "text/x-python",
   "name": "python",
   "nbconvert_exporter": "python",
   "pygments_lexer": "ipython3",
   "version": "3.12.6"
  }
 },
 "nbformat": 4,
 "nbformat_minor": 5
}
