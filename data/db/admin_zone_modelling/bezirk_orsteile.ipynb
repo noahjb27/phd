{
 "cells": [
  {
   "cell_type": "code",
   "execution_count": 3,
   "id": "de0a4bd9",
   "metadata": {},
   "outputs": [],
   "source": [
    "import requests\n",
    "import json"
   ]
  },
  {
   "cell_type": "code",
   "execution_count": null,
   "id": "0b23231d",
   "metadata": {},
   "outputs": [
    {
     "name": "stdout",
     "output_type": "stream",
     "text": [
      "Saved moderne_ortsteile.json\n"
     ]
    }
   ],
   "source": [
    "url = \"https://gdi.berlin.de/services/wfs/alkis_ortsteile\"\n",
    "params = {\n",
    "    \"service\": \"WFS\",\n",
    "    \"version\": \"2.0.0\",\n",
    "    \"request\": \"GetFeature\",\n",
    "    \"typeNames\": \"alkis_ortsteile:ortsteile\",\n",
    "    \"outputFormat\": \"application/json\"\n",
    "}\n",
    "\n",
    "response = requests.get(url, params=params)\n",
    "response.raise_for_status()\n",
    "\n",
    "with open(\"moderne_ortsteile.json\", \"w\", encoding=\"utf-8\") as f:\n",
    "    f.write(response.text)\n",
    "\n",
    "print(\"Saved moderne_ortsteile.json\")"
   ]
  },
  {
   "cell_type": "code",
   "execution_count": null,
   "id": "ab7dabeb",
   "metadata": {},
   "outputs": [],
   "source": [
    "with open(\"ortsteil_assignments.json\", \"r\", encoding=\"utf-8\") as f:\n",
    "    data_ortsteil = json.load(f)\n",
    "\n",
    "ortsteile = {}\n",
    "# Iterate over the list of assignments\n",
    "for assignment in data_ortsteil[\"assignments\"]:\n",
    "    # Example: collect by Ortsteil name (assuming 'ortsteil' is a key)\n",
    "    ortsteil_name = assignment.get(\"ortsteil_name\")\n",
    "    if ortsteil_name:\n",
    "        ortsteile[ortsteil_name] = assignment\n",
    "\n",
    "\n",
    "with open(\"moderne_ortsteile.json\", \"r\", encoding=\"utf-8\") as f:\n",
    "    moderne_orsteile_json = json.load(f)\n",
    "\n",
    "# Collect unique 'nam' values\n",
    "unique_nam = set()\n",
    "for feature in moderne_orsteile_json['features']:\n",
    "    nam = feature.get('properties', {}).get('nam')\n",
    "    if nam:\n",
    "        unique_nam.add(nam)"
   ]
  },
  {
   "cell_type": "code",
   "execution_count": 7,
   "id": "113b6fad",
   "metadata": {},
   "outputs": [
    {
     "name": "stdout",
     "output_type": "stream",
     "text": [
      "Top-level keys: ['type', 'features', 'totalFeatures', 'numberMatched', 'numberReturned', 'timeStamp', 'crs', 'bbox']\n",
      "\n",
      "Keys in a feature: ['type', 'id', 'geometry', 'geometry_name', 'properties', 'bbox']\n",
      "\n",
      "Properties in a feature: ['uuid', 'sch', 'nam', 'gdf', 'bezeich']\n"
     ]
    }
   ],
   "source": [
    "# List all keys at the top level of the moderne_orsteile_json dictionary\n",
    "print(\"Top-level keys:\", list(moderne_orsteile_json.keys()))\n",
    "\n",
    "# Check the structure of the first feature\n",
    "if \"features\" in moderne_orsteile_json and len(moderne_orsteile_json[\"features\"]) > 0:\n",
    "    first_feature = moderne_orsteile_json[\"features\"][0]\n",
    "    print(\"\\nKeys in a feature:\", list(first_feature.keys()))\n",
    "    print(\"\\nProperties in a feature:\", list(first_feature.get(\"properties\", {}).keys()))\n",
    "else:\n",
    "    print(\"No features found in moderne_orsteile_json.\")"
   ]
  },
  {
   "cell_type": "code",
   "execution_count": 5,
   "id": "4d266b17",
   "metadata": {},
   "outputs": [
    {
     "name": "stdout",
     "output_type": "stream",
     "text": [
      "In both: {'Prenzlauer Berg', 'Lübars', 'Marzahn', 'Wilhelmstadt', 'Niederschönhausen', 'Waidmannslust', 'Lichterfelde', 'Kreuzberg', 'Halensee', 'Gatow', 'Lankwitz', 'Westend', 'Buckow', 'Blankenfelde', 'Charlottenburg-Nord', 'Gropiusstadt', 'Neu-Hohenschönhausen', 'Wartenberg', 'Hellersdorf', 'Wilmersdorf', 'Charlottenburg', 'Lichtenberg', 'Mitte', 'Staaken', 'Konradshöhe', 'Stadtrandsiedlung Malchow', 'Grünau', 'Friedrichsfelde', 'Mariendorf', 'Oberschöneweide', 'Borsigwalde', 'Moabit', 'Steglitz', 'Schmöckwitz', 'Wilhelmsruh', 'Schlachtensee', 'Siemensstadt', 'Dahlem', 'Falkenberg', 'Friedrichshain', 'Blankenburg', 'Karlshorst', 'Plänterwald', 'Schmargendorf', 'Mahlsdorf', 'Niederschöneweide', 'Kladow', 'Wannsee', 'Heiligensee', 'Alt-Hohenschönhausen', 'Zehlendorf', 'Fennpfuhl', 'Baumschulenweg', 'Tempelhof', 'Malchow', 'Pankow', 'Köpenick', 'Neukölln', 'Rahnsdorf', 'Weißensee', 'Friedrichshagen', 'Französisch Buchholz', 'Nikolassee', 'Buch', 'Britz', 'Heinersdorf', 'Grunewald', 'Karow', 'Alt-Treptow', 'Frohnau', 'Friedenau', 'Spandau', 'Marienfelde', 'Hansaviertel', 'Märkisches Viertel', 'Rummelsburg', 'Rosenthal', 'Reinickendorf', 'Hermsdorf', 'Johannisthal', 'Falkenhagener Feld', 'Adlershof', 'Wedding', 'Rudow', 'Altglienicke', 'Bohnsdorf', 'Schöneberg', 'Müggelheim', 'Tegel', 'Wittenau', 'Lichtenrade', 'Hakenfelde', 'Haselhorst', 'Tiergarten', 'Kaulsdorf', 'Gesundbrunnen', 'Biesdorf'}\n",
      "Only in ortsteile: set()\n",
      "Only in neighborhoods: set()\n"
     ]
    }
   ],
   "source": [
    "ortsteil_keys = set(ortsteile.keys())\n",
    "\n",
    "in_both = ortsteil_keys & unique_nam\n",
    "only_in_ortsteile = ortsteil_keys - unique_nam\n",
    "only_in_neighborhoods = unique_nam - ortsteil_keys\n",
    "\n",
    "print(\"In both:\", in_both)\n",
    "print(\"Only in ortsteile:\", only_in_ortsteile)\n",
    "print(\"Only in neighborhoods:\", only_in_neighborhoods)"
   ]
  }
 ],
 "metadata": {
  "kernelspec": {
   "display_name": ".venv",
   "language": "python",
   "name": "python3"
  },
  "language_info": {
   "codemirror_mode": {
    "name": "ipython",
    "version": 3
   },
   "file_extension": ".py",
   "mimetype": "text/x-python",
   "name": "python",
   "nbconvert_exporter": "python",
   "pygments_lexer": "ipython3",
   "version": "3.12.6"
  }
 },
 "nbformat": 4,
 "nbformat_minor": 5
}
