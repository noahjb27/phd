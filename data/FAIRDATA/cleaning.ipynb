{
 "cells": [
  {
   "cell_type": "markdown",
   "id": "39bd7684",
   "metadata": {},
   "source": [
    "Goal for this file is to clean the csv files. Specifically, \n",
    "- standardise missing values\n",
    "- split start start_stop column into start and stop columns in lines.csv\n",
    "- standardise station names in stations.csv\n",
    "- fix that lines in lines.csv that look like O30, O37, O40 are Oberleitungsbusse and not Omnibusse\n",
    "- fix spelling of things to german, so fähre, strassenbahn, autobus, u-bahn, s-bahn, oberleitungsbus, omnibus\n",
    "- remove stop_description column in stations.csv\n",
    "- remove Unnamed: 0 column in lines.csv and line_stops.csv\n",
    "- remove stop_name from line_stops.csv\n",
    "\n",
    "\n",
    "Then I want to create a list of all the columns in every table."
   ]
  },
  {
   "cell_type": "code",
   "execution_count": 27,
   "id": "013816d1",
   "metadata": {},
   "outputs": [],
   "source": [
    "# 1. Import Required Libraries\n",
    "import pandas as pd\n",
    "import numpy as np\n",
    "import os"
   ]
  },
  {
   "cell_type": "code",
   "execution_count": 28,
   "id": "111db5aa",
   "metadata": {},
   "outputs": [],
   "source": [
    "# 2. Load CSV Files\n",
    "stations = pd.read_csv('./raw/stations.csv')\n",
    "lines = pd.read_csv('./raw/lines.csv')\n",
    "line_stops = pd.read_csv('./raw/line_stops.csv')\n"
   ]
  },
  {
   "cell_type": "code",
   "execution_count": 29,
   "id": "78200557",
   "metadata": {},
   "outputs": [],
   "source": [
    "# 3. Standardise Missing Values (replace common missing value markers with np.nan)\n",
    "for df in [stations, lines, line_stops]:\n",
    "    df.replace(['', 'NA', 'N/A', 'na', '-', '--', 'null', 'None'], np.nan, inplace=True)\n",
    "\n",
    "    for col in ['Length (km)', 'Length (time)']:\n",
    "        if col in lines.columns:\n",
    "            lines.loc[lines[col] == 0, col] = np.nan\n"
   ]
  },
  {
   "cell_type": "code",
   "execution_count": 30,
   "id": "d8e62456",
   "metadata": {},
   "outputs": [],
   "source": [
    "# 4. Split start_stop column in lines.csv, strip whitespace, and print rows without '<>'\n",
    "if 'start_stop' in lines.columns:\n",
    "    # Print rows where '<>' is not present\n",
    "    no_split = lines[~lines['start_stop'].str.contains('<>', na=False)]\n",
    "    if not no_split.empty:\n",
    "        print(\"Rows where 'start_stop' does not contain '<>':\")\n",
    "        print(no_split[['start_stop']])\n",
    "    # Split and strip whitespace\n",
    "    split_df = lines['start_stop'].str.split('<>', expand=True)\n",
    "    lines['start'] = split_df[0].str.strip()\n",
    "    lines['stop'] = split_df[1].str.strip()\n",
    "    lines.drop('start_stop', axis=1, inplace=True)"
   ]
  },
  {
   "cell_type": "code",
   "execution_count": 31,
   "id": "13a4e54c",
   "metadata": {},
   "outputs": [],
   "source": [
    "# 5. Standardise station names in stations.csv (strip whitespace, title case)\n",
    "if 'station_name' in stations.columns:\n",
    "    stations['station_name'] = stations['station_name'].str.strip().str.title()\n"
   ]
  },
  {
   "cell_type": "code",
   "execution_count": 32,
   "id": "cb21fffc",
   "metadata": {},
   "outputs": [],
   "source": [
    "# 6. Fix Oberleitungsbusse in lines.csv\n",
    "if 'line' in lines.columns and 'type' in lines.columns:\n",
    "    mask = lines['line'].str.match(r'O\\s?\\d{2,}', na=False)\n",
    "    lines.loc[mask, 'type'] = 'oberleitungsbus'"
   ]
  },
  {
   "cell_type": "code",
   "execution_count": 33,
   "id": "2b47689c",
   "metadata": {},
   "outputs": [],
   "source": [
    "# 7. Standardise vehicle type spellings in lines.csv\n",
    "type_map = {\n",
    "    'ferry': 'fähre',\n",
    "    'strassenbahn': 'straßenbahn',\n",
    "    'autobus': 'autobus',\n",
    "    'u-bahn': 'u-bahn',\n",
    "    's-bahn': 's-bahn',\n",
    "    'oberleitungsbus': 'oberleitungsbus',\n",
    "    'omnibus': 'omnibus',\n",
    "    'bus': 'autobus',\n",
    "    'tram': 'straßenbahn'\n",
    "}\n",
    "if 'type' in lines.columns:\n",
    "    lines['type'] = lines['type'].str.lower().replace(type_map)\n"
   ]
  },
  {
   "cell_type": "code",
   "execution_count": 34,
   "id": "a1144e11",
   "metadata": {},
   "outputs": [],
   "source": [
    "# 8. Remove unnecessary columns\n",
    "if 'stop_description' in stations.columns:\n",
    "    stations.drop('stop_description', axis=1, inplace=True)\n",
    "if 'Unnamed: 0' in lines.columns:\n",
    "    lines.drop('Unnamed: 0', axis=1, inplace=True)\n",
    "if 'Unnamed: 0' in line_stops.columns:\n",
    "    line_stops.drop('Unnamed: 0', axis=1, inplace=True)\n",
    "if 'stop_name' in line_stops.columns:\n",
    "    line_stops.drop('stop_name', axis=1, inplace=True)"
   ]
  },
  {
   "cell_type": "code",
   "execution_count": 35,
   "id": "53ce5229",
   "metadata": {},
   "outputs": [
    {
     "name": "stdout",
     "output_type": "stream",
     "text": [
      "Stations columns: ['stop_id', 'stop_name', 'type', 'location', 'in_lines', 'identifier']\n",
      "Lines columns: ['line_id', 'year', 'line_name', 'type', 'Length (time)', 'east_west', 'Frequency', 'Length (km)', 'start', 'stop']\n",
      "Line_stops columns: ['line_id', 'stop_order', 'stop_id']\n"
     ]
    }
   ],
   "source": [
    "print(\"Stations columns:\", list(stations.columns))\n",
    "print(\"Lines columns:\", list(lines.columns))\n",
    "print(\"Line_stops columns:\", list(line_stops.columns))"
   ]
  },
  {
   "cell_type": "code",
   "execution_count": 36,
   "id": "16c9162c",
   "metadata": {},
   "outputs": [],
   "source": [
    "# Rename columns in lines.csv to German\n",
    "rename_map = {\n",
    "    'Length (time)': 'dauer (min)',\n",
    "    'Length (km)': 'länge (km)',\n",
    "    'year': 'jahr',\n",
    "    'line_name': 'linien_name',\n",
    "    'type': 'typ',\n",
    "    'east_west': 'ost_west',\n",
    "    'Frequency': 'frequenz',\n",
    "    'start': 'start',\n",
    "    'stop': 'ziel'\n",
    "}\n",
    "lines.rename(columns=rename_map, inplace=True)"
   ]
  },
  {
   "cell_type": "code",
   "execution_count": 37,
   "id": "294c3919",
   "metadata": {},
   "outputs": [
    {
     "name": "stdout",
     "output_type": "stream",
     "text": [
      "\n",
      "Stations (first 4 rows):\n",
      "   stop_id     stop_name     type                               location  \\\n",
      "0    19460     Adlershof   s-bahn        52.434722222222,13.541388888889   \n",
      "1    19461  Akazienallee  omnibus  52.47849809201335, 13.607179083668733   \n",
      "\n",
      "                   in_lines identifier  \n",
      "0  ['KBS 100a', 'KBS 100c']    Q323551  \n",
      "1                     ['D']        NaN  \n",
      "Stations (last 4 rows):\n",
      "        stop_id        stop_name     type  \\\n",
      "19756  19892666  Öschebronnerweg  autobus   \n",
      "19757  19892667         Übergang  autobus   \n",
      "\n",
      "                                     location in_lines identifier  \n",
      "19756   52.61154475375042, 13.337669105320359   {'20'}        NaN  \n",
      "19757  52.543078667825824, 13.157884773521127   {'63'}        NaN  \n",
      "\n",
      "Lines (first 4 rows):\n",
      "   line_id  jahr linien_name          typ  dauer (min)     ost_west  frequenz  \\\n",
      "0    19461  1946           1      autobus          NaN  both/unkown        25   \n",
      "1    19462  1946           1  straßenbahn         15.0  both/unkown        10   \n",
      "\n",
      "   länge (km)             start                 ziel  \n",
      "0         NaN         Flughafen  Alt-Friedrichsfelde  \n",
      "1         NaN  Hackescher Markt     Anhalter Bahnhof  \n",
      "Lines (last 4 rows):\n",
      "      line_id  jahr linien_name      typ  dauer (min) ost_west  frequenz  \\\n",
      "2097  1989197  1989          98  autobus          7.0      ost         0   \n",
      "2098  1989198  1989          99  autobus         39.0      ost        20   \n",
      "\n",
      "      länge (km)                  start                          ziel  \n",
      "2097         NaN  Franz-Stenzer-Strasse  Arbeitsstättengebiet Marzahn  \n",
      "2098         NaN   Greifswalder Strasse    S-Bhf. Friedrichsfelde Ost  \n",
      "\n",
      "Line_stops (first 4 rows):\n",
      "   line_id  stop_order  stop_id\n",
      "0    19461           0  1946151\n",
      "1    19461           1  1946158\n",
      "Line_stops (last 4 rows):\n",
      "       line_id  stop_order   stop_id\n",
      "28980  1989198          11  19891172\n",
      "28981  1989198          12  19891860\n"
     ]
    }
   ],
   "source": [
    "# 9. List all columns in every table\n",
    "print(\"\\nStations (first 4 rows):\")\n",
    "print(stations.head(2))\n",
    "print(\"Stations (last 4 rows):\")\n",
    "print(stations.tail(2))\n",
    "print(\"\\nLines (first 4 rows):\")\n",
    "print(lines.head(2))\n",
    "print(\"Lines (last 4 rows):\")\n",
    "print(lines.tail(2))\n",
    "print(\"\\nLine_stops (first 4 rows):\")\n",
    "print(line_stops.head(2))\n",
    "print(\"Line_stops (last 4 rows):\")\n",
    "print(line_stops.tail(2))\n"
   ]
  },
  {
   "cell_type": "code",
   "execution_count": 38,
   "id": "6e235cb5",
   "metadata": {},
   "outputs": [],
   "source": [
    "# 10. Save cleaned data to CSV files\n",
    "stations.to_csv('./data/stations.csv', index=False)\n",
    "lines.to_csv('./data/lines.csv', index=False)\n",
    "line_stops.to_csv('./data/line_stops.csv', index=False)"
   ]
  }
 ],
 "metadata": {
  "kernelspec": {
   "display_name": ".venv",
   "language": "python",
   "name": "python3"
  },
  "language_info": {
   "codemirror_mode": {
    "name": "ipython",
    "version": 3
   },
   "file_extension": ".py",
   "mimetype": "text/x-python",
   "name": "python",
   "nbconvert_exporter": "python",
   "pygments_lexer": "ipython3",
   "version": "3.12.6"
  }
 },
 "nbformat": 4,
 "nbformat_minor": 5
}
