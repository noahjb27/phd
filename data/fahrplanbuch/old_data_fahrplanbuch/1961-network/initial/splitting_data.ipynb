{
 "cells": [
  {
   "cell_type": "code",
   "execution_count": 8,
   "metadata": {},
   "outputs": [],
   "source": [
    "import pandas as pd"
   ]
  },
  {
   "cell_type": "code",
   "execution_count": 9,
   "metadata": {},
   "outputs": [],
   "source": [
    "year = 1961"
   ]
  },
  {
   "cell_type": "code",
   "execution_count": 10,
   "metadata": {},
   "outputs": [],
   "source": [
    "# Read the CSV files into DataFrames\n",
    "df = pd.read_csv(f'line_data_{year}.csv', encoding='utf-8')"
   ]
  },
  {
   "cell_type": "code",
   "execution_count": 11,
   "metadata": {},
   "outputs": [
    {
     "name": "stdout",
     "output_type": "stream",
     "text": [
      "['Ost' 'West']\n"
     ]
    }
   ],
   "source": [
    "df['east-west'] = df['east-west'].str.strip()\n",
    "print(df['east-west'].unique())"
   ]
  },
  {
   "cell_type": "code",
   "execution_count": 12,
   "metadata": {},
   "outputs": [],
   "source": [
    "import os\n",
    "\n",
    "# Define the directory structure\n",
    "directories = [\n",
    "    \"../east/initial\",\n",
    "    \"../east/intermediate\",\n",
    "    \"../east/final\",\n",
    "    \"../west/initial\",\n",
    "    \"../west/intermediate\",\n",
    "    \"../west/final\"\n",
    "]\n",
    "\n",
    "# Create the directories\n",
    "for directory in directories:\n",
    "    os.makedirs(directory, exist_ok=True)"
   ]
  },
  {
   "cell_type": "code",
   "execution_count": 13,
   "metadata": {},
   "outputs": [
    {
     "name": "stdout",
     "output_type": "stream",
     "text": [
      "Empty DataFrame\n",
      "Columns: [line_name, Stops, Frequency_7-30, Length (time), type, east-west, year]\n",
      "Index: []\n"
     ]
    }
   ],
   "source": [
    "df_nan_east_west = df[df['east-west'].isna()]\n",
    "print(df_nan_east_west)"
   ]
  },
  {
   "cell_type": "code",
   "execution_count": 14,
   "metadata": {},
   "outputs": [],
   "source": [
    "df_east = df.loc[df['east-west'] == \"Ost\"]\n",
    "df_west = df.loc[df['east-west'] == \"West\"]"
   ]
  },
  {
   "cell_type": "code",
   "execution_count": 15,
   "metadata": {},
   "outputs": [],
   "source": [
    "df_east.to_csv(f\"../east/initial/line_data_{year}_east.csv\")\n",
    "df_west.to_csv(f\"../west/initial/line_data_{year}_west.csv\")"
   ]
  }
 ],
 "metadata": {
  "kernelspec": {
   "display_name": ".venv",
   "language": "python",
   "name": "python3"
  },
  "language_info": {
   "codemirror_mode": {
    "name": "ipython",
    "version": 3
   },
   "file_extension": ".py",
   "mimetype": "text/x-python",
   "name": "python",
   "nbconvert_exporter": "python",
   "pygments_lexer": "ipython3",
   "version": "3.12.6"
  }
 },
 "nbformat": 4,
 "nbformat_minor": 2
}
