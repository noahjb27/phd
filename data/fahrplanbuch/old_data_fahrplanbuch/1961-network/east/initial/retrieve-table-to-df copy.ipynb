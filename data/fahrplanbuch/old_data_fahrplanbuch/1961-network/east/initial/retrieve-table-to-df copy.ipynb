{
 "cells": [
  {
   "cell_type": "code",
   "execution_count": 84,
   "metadata": {},
   "outputs": [],
   "source": [
    "import pandas as pd\n",
    "import ast\n",
    "import re"
   ]
  },
  {
   "cell_type": "code",
   "execution_count": 85,
   "metadata": {},
   "outputs": [],
   "source": [
    "year = 1961\n",
    "direction = \"east\""
   ]
  },
  {
   "cell_type": "code",
   "execution_count": 86,
   "metadata": {},
   "outputs": [],
   "source": [
    "# Read the CSV files into DataFrames\n",
    "df = pd.read_csv(f'line_data_{year}_{direction}.csv', encoding='utf-8')"
   ]
  },
  {
   "cell_type": "code",
   "execution_count": 87,
   "metadata": {},
   "outputs": [],
   "source": [
    "# Replace U+00a0 with regular whitespace in the entire DataFrame\n",
    "df.replace('\\u00a0', ' ', regex=True, inplace=True)"
   ]
  },
  {
   "cell_type": "code",
   "execution_count": 88,
   "metadata": {},
   "outputs": [
    {
     "data": {
      "text/html": [
       "<div>\n",
       "<style scoped>\n",
       "    .dataframe tbody tr th:only-of-type {\n",
       "        vertical-align: middle;\n",
       "    }\n",
       "\n",
       "    .dataframe tbody tr th {\n",
       "        vertical-align: top;\n",
       "    }\n",
       "\n",
       "    .dataframe thead th {\n",
       "        text-align: right;\n",
       "    }\n",
       "</style>\n",
       "<table border=\"1\" class=\"dataframe\">\n",
       "  <thead>\n",
       "    <tr style=\"text-align: right;\">\n",
       "      <th></th>\n",
       "      <th>Unnamed: 0</th>\n",
       "      <th>line_name</th>\n",
       "      <th>Stops</th>\n",
       "      <th>Frequency</th>\n",
       "      <th>Length (time)</th>\n",
       "      <th>type</th>\n",
       "      <th>east-west</th>\n",
       "      <th>year</th>\n",
       "    </tr>\n",
       "  </thead>\n",
       "  <tbody>\n",
       "    <tr>\n",
       "      <th>0</th>\n",
       "      <td>0</td>\n",
       "      <td>1</td>\n",
       "      <td>Ostbahnhof - Breslauer Strasse Ecke Andreasstr...</td>\n",
       "      <td>20.0</td>\n",
       "      <td>39.0</td>\n",
       "      <td>strassenbahn</td>\n",
       "      <td>Ost</td>\n",
       "      <td>1961</td>\n",
       "    </tr>\n",
       "    <tr>\n",
       "      <th>1</th>\n",
       "      <td>3</td>\n",
       "      <td>3</td>\n",
       "      <td>Warschauer Strasse - Warschauer Brücke - Koper...</td>\n",
       "      <td>12.0</td>\n",
       "      <td>46.0</td>\n",
       "      <td>strassenbahn</td>\n",
       "      <td>Ost</td>\n",
       "      <td>1961</td>\n",
       "    </tr>\n",
       "    <tr>\n",
       "      <th>2</th>\n",
       "      <td>4</td>\n",
       "      <td>4</td>\n",
       "      <td>Warschauer Strasse - Warschauer Brücke - Koper...</td>\n",
       "      <td>8.0</td>\n",
       "      <td>25.0</td>\n",
       "      <td>strassenbahn</td>\n",
       "      <td>Ost</td>\n",
       "      <td>1961</td>\n",
       "    </tr>\n",
       "    <tr>\n",
       "      <th>3</th>\n",
       "      <td>5</td>\n",
       "      <td>11</td>\n",
       "      <td>Heinrich-Heine-Strasse - S-Bhf. Jannowitzbrück...</td>\n",
       "      <td>20.0</td>\n",
       "      <td>19.0</td>\n",
       "      <td>strassenbahn</td>\n",
       "      <td>Ost</td>\n",
       "      <td>1961</td>\n",
       "    </tr>\n",
       "    <tr>\n",
       "      <th>4</th>\n",
       "      <td>6</td>\n",
       "      <td>13</td>\n",
       "      <td>Klingenberg, Blockdammweg - Kraftwerk Klingenb...</td>\n",
       "      <td>8.0</td>\n",
       "      <td>35.0</td>\n",
       "      <td>strassenbahn</td>\n",
       "      <td>Ost</td>\n",
       "      <td>1961</td>\n",
       "    </tr>\n",
       "  </tbody>\n",
       "</table>\n",
       "</div>"
      ],
      "text/plain": [
       "   Unnamed: 0 line_name                                              Stops  \\\n",
       "0           0         1  Ostbahnhof - Breslauer Strasse Ecke Andreasstr...   \n",
       "1           3         3  Warschauer Strasse - Warschauer Brücke - Koper...   \n",
       "2           4         4  Warschauer Strasse - Warschauer Brücke - Koper...   \n",
       "3           5        11  Heinrich-Heine-Strasse - S-Bhf. Jannowitzbrück...   \n",
       "4           6        13  Klingenberg, Blockdammweg - Kraftwerk Klingenb...   \n",
       "\n",
       "   Frequency  Length (time)          type east-west  year  \n",
       "0       20.0           39.0  strassenbahn       Ost  1961  \n",
       "1       12.0           46.0  strassenbahn       Ost  1961  \n",
       "2        8.0           25.0  strassenbahn       Ost  1961  \n",
       "3       20.0           19.0  strassenbahn       Ost  1961  \n",
       "4        8.0           35.0  strassenbahn       Ost  1961  "
      ]
     },
     "execution_count": 88,
     "metadata": {},
     "output_type": "execute_result"
    }
   ],
   "source": [
    "df.head()"
   ]
  },
  {
   "cell_type": "code",
   "execution_count": 89,
   "metadata": {},
   "outputs": [],
   "source": [
    "df['line_name'] = df['line_name'].astype(str).str.strip()\n",
    "df['Stops'] = df['Stops'].astype(str).str.strip()\n",
    "df['year'] = df['year'].astype(int)\n",
    "df['Frequency'] = pd.to_numeric(df['Frequency'], errors='coerce').fillna(0).astype(int)\n",
    "df['Length (time)'] = pd.to_numeric(df['Length (time)'], errors='coerce').fillna(0).astype(int)\n",
    "df['type'] = df['type'].astype(str).str.strip()\n",
    "df['east-west'] = df['east-west'].astype(str).str.strip()"
   ]
  },
  {
   "cell_type": "code",
   "execution_count": 90,
   "metadata": {},
   "outputs": [],
   "source": [
    "# Define a function to remove leftover parentheses from a column\n",
    "def remove_double_whitespace(text):\n",
    "    text = text.replace(\"   \", \" \")\n",
    "    text = text.replace(\"  \", \" \")\n",
    "    text = text.replace(\"–\", \"-\")\n",
    "    text = text.replace(\" - \", \" - \")\n",
    "    return text\n",
    "\n",
    "# Apply the function to the 'line_stops' column\n",
    "df['Stops'] = df['Stops'].apply(remove_double_whitespace)\n",
    "df['Stops'] = df['Stops'].str.replace(r'\\s*–\\s*', ' - ', regex=True)\n"
   ]
  },
  {
   "cell_type": "code",
   "execution_count": 91,
   "metadata": {},
   "outputs": [
    {
     "data": {
      "text/html": [
       "<div>\n",
       "<style scoped>\n",
       "    .dataframe tbody tr th:only-of-type {\n",
       "        vertical-align: middle;\n",
       "    }\n",
       "\n",
       "    .dataframe tbody tr th {\n",
       "        vertical-align: top;\n",
       "    }\n",
       "\n",
       "    .dataframe thead th {\n",
       "        text-align: right;\n",
       "    }\n",
       "</style>\n",
       "<table border=\"1\" class=\"dataframe\">\n",
       "  <thead>\n",
       "    <tr style=\"text-align: right;\">\n",
       "      <th></th>\n",
       "      <th>Unnamed: 0</th>\n",
       "      <th>line_name</th>\n",
       "      <th>Stops</th>\n",
       "      <th>Frequency</th>\n",
       "      <th>Length (time)</th>\n",
       "      <th>type</th>\n",
       "      <th>east-west</th>\n",
       "      <th>year</th>\n",
       "    </tr>\n",
       "  </thead>\n",
       "  <tbody>\n",
       "  </tbody>\n",
       "</table>\n",
       "</div>"
      ],
      "text/plain": [
       "Empty DataFrame\n",
       "Columns: [Unnamed: 0, line_name, Stops, Frequency, Length (time), type, east-west, year]\n",
       "Index: []"
      ]
     },
     "execution_count": 91,
     "metadata": {},
     "output_type": "execute_result"
    }
   ],
   "source": [
    "mask = df['Stops'].str.contains(\" - \").fillna(True)\n",
    "none_df = df[~mask]\n",
    "none_df"
   ]
  },
  {
   "cell_type": "code",
   "execution_count": 92,
   "metadata": {},
   "outputs": [
    {
     "data": {
      "text/html": [
       "<div>\n",
       "<style scoped>\n",
       "    .dataframe tbody tr th:only-of-type {\n",
       "        vertical-align: middle;\n",
       "    }\n",
       "\n",
       "    .dataframe tbody tr th {\n",
       "        vertical-align: top;\n",
       "    }\n",
       "\n",
       "    .dataframe thead th {\n",
       "        text-align: right;\n",
       "    }\n",
       "</style>\n",
       "<table border=\"1\" class=\"dataframe\">\n",
       "  <thead>\n",
       "    <tr style=\"text-align: right;\">\n",
       "      <th></th>\n",
       "      <th>Unnamed: 0</th>\n",
       "      <th>line_name</th>\n",
       "      <th>Stops</th>\n",
       "      <th>Frequency</th>\n",
       "      <th>Length (time)</th>\n",
       "      <th>type</th>\n",
       "      <th>east-west</th>\n",
       "      <th>year</th>\n",
       "    </tr>\n",
       "  </thead>\n",
       "  <tbody>\n",
       "  </tbody>\n",
       "</table>\n",
       "</div>"
      ],
      "text/plain": [
       "Empty DataFrame\n",
       "Columns: [Unnamed: 0, line_name, Stops, Frequency, Length (time), type, east-west, year]\n",
       "Index: []"
      ]
     },
     "execution_count": 92,
     "metadata": {},
     "output_type": "execute_result"
    }
   ],
   "source": [
    "# Filter rows where 'line_stops' is not a string\n",
    "non_string_rows = df[~df['Stops'].apply(lambda x: isinstance(x, str))]\n",
    "non_string_rows"
   ]
  },
  {
   "cell_type": "code",
   "execution_count": 93,
   "metadata": {},
   "outputs": [],
   "source": [
    "def create_stops_df(df):\n",
    "    # Split line1 into individual stops and stack them into a new dataframe\n",
    "    stops_df = df['Stops'].str.split(' - ', expand=True).stack().reset_index(level=1, drop=True).reset_index(name='stop_name')\n",
    "        \n",
    "    # Count the occurrences of each stop_name\n",
    "    stop_counts = stops_df['stop_name'].value_counts().reset_index()\n",
    "    stop_counts.columns = ['stop_name', 'line_count']\n",
    "\n",
    "    # Merge the count information back into the original DataFrame\n",
    "    stops_df = pd.merge(stops_df, stop_counts, on='stop_name', how='left')\n",
    "\n",
    "    # Clean the 'Stop Name' column by removing whitespace and non-breaking spaces\n",
    "    stops_df['stop_name'] = stops_df['stop_name'].str.replace(u'\\xa0', ' ').str.replace(u\"U+00a0\", \"\").str.replace(r'\\.{2,}', '.').str.replace(\"[Früh]\", \"\").str.strip()\n",
    "\n",
    "    # reset index so that it can be used for foreign key\n",
    "    stops_df = stops_df.rename_axis(\"station_id\").reset_index()\n",
    "    stops_df[\"station_id\"] += 1\n",
    "\n",
    "    # Create a dictionary where the keys are the stop names and the values are lists of line names that contain the stop.\n",
    "    stop_lines_dict = {}\n",
    "\n",
    "    # Iterate over the rows in the line_stops dataframe and update the dictionary with the line name for each stop in the line\n",
    "    for index, row in df.iterrows():\n",
    "        line_name = row['line_name']\n",
    "        stops = row['Stops'].split(' - ')\n",
    "        stop_type = row[\"type\"]\n",
    "        for stop in stops:\n",
    "            stop_name = stop.replace(u'\\xa0', ' ').replace(u\"U+00a0\", \"\").strip()\n",
    "            if stop_name in stop_lines_dict:\n",
    "                if stop_type in stop_lines_dict[stop_name]:\n",
    "                    stop_lines_dict[stop_name][stop_type].append(line_name)\n",
    "                else:\n",
    "                    stop_lines_dict[stop_name][stop_type] = [line_name]\n",
    "            else:\n",
    "                stop_lines_dict[stop_name] = {stop_type: [line_name]}\n",
    "\n",
    "    # Create a new DataFrame with the stops and their corresponding lines\n",
    "    stops_data = []\n",
    "    for stop_name, lines_by_type in stop_lines_dict.items():\n",
    "        row = {'stop_name': stop_name, 'type': lines_by_type}\n",
    "        stops_data.append(row)\n",
    "    stops_in_lines_df = pd.DataFrame(stops_data)\n",
    "\n",
    "    # Merge the count information back into the original DataFrame\n",
    "    stops_df = pd.merge(stops_df, stops_in_lines_df, on='stop_name', how='left')\n",
    "\n",
    "    return stops_df\n"
   ]
  },
  {
   "cell_type": "code",
   "execution_count": 94,
   "metadata": {},
   "outputs": [],
   "source": [
    "stops_df = create_stops_df(df)"
   ]
  },
  {
   "cell_type": "code",
   "execution_count": 95,
   "metadata": {},
   "outputs": [],
   "source": [
    "# Function to transform dictionary values to nested lists\n",
    "def transform_dict_to_nested_list(d):\n",
    "    if isinstance(d, dict):\n",
    "        nested_list = []\n",
    "        for key, value in d.items():\n",
    "            nested_list.append([key, value])\n",
    "        return nested_list\n",
    "    else:\n",
    "        print(d)\n",
    "        return d\n",
    "\n",
    "# Apply the transformation to the 'type' column\n",
    "stops_df['type'] = stops_df['type'].apply(transform_dict_to_nested_list)\n",
    "stops_df = stops_df.explode('type').reset_index(drop=True)"
   ]
  },
  {
   "cell_type": "code",
   "execution_count": 96,
   "metadata": {},
   "outputs": [],
   "source": [
    "stops_df[\"row_type\"] = None\n",
    "stops_df[\"in_lines\"] = None\n",
    "for index, row in stops_df.iterrows():\n",
    "    try:\n",
    "        row_type = row[\"type\"][0]\n",
    "        stops_df.at[index, \"row_type\"] = row_type\n",
    "        if len(row[\"type\"]) > 1:\n",
    "            lines = row[\"type\"][1]\n",
    "            lines = list(set(lines))\n",
    "            stops_df.at[index, \"in_lines\"] = lines\n",
    "    except:\n",
    "        print(row)\n",
    "stops_df.drop(columns=\"type\", inplace=True)\n",
    "stops_df.drop(columns=\"index\", inplace=True)\n",
    "\n",
    "# Rename the 'row_type' column to 'type'\n",
    "stops_df.rename(columns={'row_type': 'type'}, inplace=True)"
   ]
  },
  {
   "cell_type": "code",
   "execution_count": 97,
   "metadata": {},
   "outputs": [],
   "source": [
    "# Define a custom aggregation function to combine lists into a set\n",
    "def combine_lists(lists):\n",
    "    combined_set = set()\n",
    "    for lst in lists:\n",
    "        combined_set.update(lst)\n",
    "    return combined_set"
   ]
  },
  {
   "cell_type": "code",
   "execution_count": 98,
   "metadata": {},
   "outputs": [],
   "source": [
    "# Group by the 'stop_name' column and aggregate other columns as needed\n",
    "aggregation_functions = {\n",
    "'in_lines': combine_lists\n",
    "}\n",
    "\n",
    "# Assuming stops_df is your DataFrame\n",
    "stops_df = stops_df.groupby(['stop_name', 'type'], group_keys=False).agg(aggregation_functions).reset_index()"
   ]
  },
  {
   "cell_type": "code",
   "execution_count": 99,
   "metadata": {},
   "outputs": [],
   "source": [
    "# Reset the index and rename the index column to 'stop_id'\n",
    "stops_df.reset_index(inplace=True)\n",
    "stops_df.rename(columns={'index': 'stop_id'}, inplace=True)\n"
   ]
  },
  {
   "cell_type": "code",
   "execution_count": 100,
   "metadata": {},
   "outputs": [
    {
     "data": {
      "text/html": [
       "<div>\n",
       "<style scoped>\n",
       "    .dataframe tbody tr th:only-of-type {\n",
       "        vertical-align: middle;\n",
       "    }\n",
       "\n",
       "    .dataframe tbody tr th {\n",
       "        vertical-align: top;\n",
       "    }\n",
       "\n",
       "    .dataframe thead th {\n",
       "        text-align: right;\n",
       "    }\n",
       "</style>\n",
       "<table border=\"1\" class=\"dataframe\">\n",
       "  <thead>\n",
       "    <tr style=\"text-align: right;\">\n",
       "      <th></th>\n",
       "      <th>stop_id</th>\n",
       "      <th>stop_name</th>\n",
       "      <th>type</th>\n",
       "      <th>in_lines</th>\n",
       "    </tr>\n",
       "  </thead>\n",
       "  <tbody>\n",
       "  </tbody>\n",
       "</table>\n",
       "</div>"
      ],
      "text/plain": [
       "Empty DataFrame\n",
       "Columns: [stop_id, stop_name, type, in_lines]\n",
       "Index: []"
      ]
     },
     "execution_count": 100,
     "metadata": {},
     "output_type": "execute_result"
    }
   ],
   "source": [
    "empty_in_lines = stops_df[stops_df['in_lines'].apply(lambda x: len(x) == 0)]\n",
    "empty_in_lines\n",
    "# a few types of data errors that need to be fixed manually, done to df"
   ]
  },
  {
   "cell_type": "code",
   "execution_count": 101,
   "metadata": {},
   "outputs": [],
   "source": [
    "for index, row in stops_df.iterrows():\n",
    "    stops_df.at[index, \"stop_id\"] = row[\"stop_id\"] + 1"
   ]
  },
  {
   "cell_type": "code",
   "execution_count": 102,
   "metadata": {},
   "outputs": [],
   "source": [
    "# Function to convert string representation of set to list\n",
    "def convert_to_list(value):\n",
    "    try:\n",
    "        # Use ast.literal_eval to safely convert string to set\n",
    "        items = ast.literal_eval(value)\n",
    "        # Convert the set to a list\n",
    "        return list(items)\n",
    "    except (SyntaxError, ValueError):\n",
    "        # Handle the case where literal_eval fails (e.g., invalid string)\n",
    "        return [value]\n",
    "\n",
    "# Apply the function to the 'in_lines' column\n",
    "stops_df['in_lines'] = stops_df['in_lines'].apply(convert_to_list)"
   ]
  },
  {
   "cell_type": "code",
   "execution_count": 103,
   "metadata": {},
   "outputs": [],
   "source": [
    "stops_df['in_lines'] = stops_df['in_lines'].apply(lambda x: ','.join(map(str, x)))"
   ]
  },
  {
   "cell_type": "code",
   "execution_count": 104,
   "metadata": {},
   "outputs": [
    {
     "data": {
      "text/html": [
       "<div>\n",
       "<style scoped>\n",
       "    .dataframe tbody tr th:only-of-type {\n",
       "        vertical-align: middle;\n",
       "    }\n",
       "\n",
       "    .dataframe tbody tr th {\n",
       "        vertical-align: top;\n",
       "    }\n",
       "\n",
       "    .dataframe thead th {\n",
       "        text-align: right;\n",
       "    }\n",
       "</style>\n",
       "<table border=\"1\" class=\"dataframe\">\n",
       "  <thead>\n",
       "    <tr style=\"text-align: right;\">\n",
       "      <th></th>\n",
       "      <th>stop_id</th>\n",
       "      <th>stop_name</th>\n",
       "      <th>type</th>\n",
       "      <th>in_lines</th>\n",
       "    </tr>\n",
       "  </thead>\n",
       "  <tbody>\n",
       "    <tr>\n",
       "      <th>0</th>\n",
       "      <td>1</td>\n",
       "      <td>Adlershof</td>\n",
       "      <td>s-bahn</td>\n",
       "      <td>{'KBS 103', 'KBS 106'}</td>\n",
       "    </tr>\n",
       "    <tr>\n",
       "      <th>1</th>\n",
       "      <td>2</td>\n",
       "      <td>Ahrensfeld, Kirche</td>\n",
       "      <td>bus</td>\n",
       "      <td>{'A46'}</td>\n",
       "    </tr>\n",
       "    <tr>\n",
       "      <th>2</th>\n",
       "      <td>3</td>\n",
       "      <td>Albrechtshof</td>\n",
       "      <td>s-bahn</td>\n",
       "      <td>{'KBS 103'}</td>\n",
       "    </tr>\n",
       "    <tr>\n",
       "      <th>3</th>\n",
       "      <td>4</td>\n",
       "      <td>Alexanderplatz</td>\n",
       "      <td>s-bahn</td>\n",
       "      <td>{'KBS 101', 'KBS 102', 'KBS 103'}</td>\n",
       "    </tr>\n",
       "    <tr>\n",
       "      <th>4</th>\n",
       "      <td>5</td>\n",
       "      <td>Alexanderplatz</td>\n",
       "      <td>u-bahn</td>\n",
       "      <td>{'A', 'E'}</td>\n",
       "    </tr>\n",
       "  </tbody>\n",
       "</table>\n",
       "</div>"
      ],
      "text/plain": [
       "   stop_id           stop_name    type                           in_lines\n",
       "0        1           Adlershof  s-bahn             {'KBS 103', 'KBS 106'}\n",
       "1        2  Ahrensfeld, Kirche     bus                            {'A46'}\n",
       "2        3        Albrechtshof  s-bahn                        {'KBS 103'}\n",
       "3        4      Alexanderplatz  s-bahn  {'KBS 101', 'KBS 102', 'KBS 103'}\n",
       "4        5      Alexanderplatz  u-bahn                         {'A', 'E'}"
      ]
     },
     "execution_count": 104,
     "metadata": {},
     "output_type": "execute_result"
    }
   ],
   "source": [
    "stops_df.head()"
   ]
  },
  {
   "cell_type": "code",
   "execution_count": 105,
   "metadata": {},
   "outputs": [],
   "source": [
    "stops_df.to_csv(f\"stops_df_{year}_{direction}.csv\")"
   ]
  }
 ],
 "metadata": {
  "kernelspec": {
   "display_name": ".venv",
   "language": "python",
   "name": "python3"
  },
  "language_info": {
   "codemirror_mode": {
    "name": "ipython",
    "version": 3
   },
   "file_extension": ".py",
   "mimetype": "text/x-python",
   "name": "python",
   "nbconvert_exporter": "python",
   "pygments_lexer": "ipython3",
   "version": "3.12.6"
  },
  "orig_nbformat": 4
 },
 "nbformat": 4,
 "nbformat_minor": 2
}
