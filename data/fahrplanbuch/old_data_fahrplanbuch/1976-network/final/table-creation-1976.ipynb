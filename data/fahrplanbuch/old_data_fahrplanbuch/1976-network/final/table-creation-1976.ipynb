{
 "cells": [
  {
   "cell_type": "code",
   "execution_count": 1,
   "metadata": {},
   "outputs": [],
   "source": [
    "import pandas as pd\n",
    "import re"
   ]
  },
  {
   "cell_type": "code",
   "execution_count": 2,
   "metadata": {},
   "outputs": [],
   "source": [
    "df_stops = pd.read_csv(\"1976-stops-localised-final.csv\")  "
   ]
  },
  {
   "cell_type": "code",
   "execution_count": 3,
   "metadata": {},
   "outputs": [],
   "source": [
    "df_stops.drop(['Column'], axis=1, inplace=True)\n",
    "df_stops['stop_name'] = df_stops['stop_name'].astype(str).str.strip()\n",
    "df_stops['location'] = df_stops['location'].astype(str).str.strip()"
   ]
  },
  {
   "cell_type": "code",
   "execution_count": 4,
   "metadata": {},
   "outputs": [
    {
     "name": "stdout",
     "output_type": "stream",
     "text": [
      "<class 'pandas.core.frame.DataFrame'>\n",
      "RangeIndex: 1727 entries, 0 to 1726\n",
      "Data columns (total 7 columns):\n",
      " #   Column             Non-Null Count  Dtype \n",
      "---  ------             --------------  ----- \n",
      " 0   stop_name          1727 non-null   object\n",
      " 1   type               1727 non-null   object\n",
      " 2   in_lines           1727 non-null   object\n",
      " 3   location           1727 non-null   object\n",
      " 4   identifier         357 non-null    object\n",
      " 5   previous_in_lines  756 non-null    object\n",
      " 6   stop_description   679 non-null    object\n",
      "dtypes: object(7)\n",
      "memory usage: 94.6+ KB\n"
     ]
    }
   ],
   "source": [
    "df_stops.info()"
   ]
  },
  {
   "cell_type": "code",
   "execution_count": 5,
   "metadata": {},
   "outputs": [],
   "source": [
    "split_df = pd.concat([df_stops[col].astype(str).str.split(';', expand=True).stack().str.strip() for col in df_stops.columns], axis=1, keys=df_stops.columns)\n",
    "df_stops = split_df.groupby(level=0).ffill().reset_index(drop=True)"
   ]
  },
  {
   "cell_type": "code",
   "execution_count": 6,
   "metadata": {},
   "outputs": [
    {
     "name": "stdout",
     "output_type": "stream",
     "text": [
      "<class 'pandas.core.frame.DataFrame'>\n",
      "RangeIndex: 1796 entries, 0 to 1795\n",
      "Data columns (total 6 columns):\n",
      " #   Column      Non-Null Count  Dtype \n",
      "---  ------      --------------  ----- \n",
      " 0   stop_id     1796 non-null   int64 \n",
      " 1   stop_name   1796 non-null   object\n",
      " 2   type        1796 non-null   object\n",
      " 3   location    1796 non-null   object\n",
      " 4   in_lines    1796 non-null   object\n",
      " 5   identifier  1796 non-null   object\n",
      "dtypes: int64(1), object(5)\n",
      "memory usage: 84.3+ KB\n"
     ]
    }
   ],
   "source": [
    "df_stops = df_stops.fillna('').groupby(['stop_name', 'type', 'location']).agg({\n",
    "    'in_lines': ', '.join,\n",
    "    'identifier': ', '.join\n",
    "}).reset_index()\n",
    "\n",
    "# Reset the index\n",
    "df_stops.reset_index(inplace=True)\n",
    "df_stops.rename(columns={'index': 'stop_id'}, inplace=True)\n",
    "\n",
    "df_stops.info()"
   ]
  },
  {
   "cell_type": "code",
   "execution_count": 7,
   "metadata": {},
   "outputs": [],
   "source": [
    "df_line = pd.read_csv(\"line_data_1976.csv\")  "
   ]
  },
  {
   "cell_type": "code",
   "execution_count": 8,
   "metadata": {},
   "outputs": [],
   "source": [
    "# Replace U+00a0 with regular whitespace in the entire DataFrame\n",
    "df_line.replace('\\u00a0', ' ', regex=True, inplace=True)"
   ]
  },
  {
   "cell_type": "code",
   "execution_count": 9,
   "metadata": {},
   "outputs": [
    {
     "data": {
      "text/html": [
       "<div>\n",
       "<style scoped>\n",
       "    .dataframe tbody tr th:only-of-type {\n",
       "        vertical-align: middle;\n",
       "    }\n",
       "\n",
       "    .dataframe tbody tr th {\n",
       "        vertical-align: top;\n",
       "    }\n",
       "\n",
       "    .dataframe thead th {\n",
       "        text-align: right;\n",
       "    }\n",
       "</style>\n",
       "<table border=\"1\" class=\"dataframe\">\n",
       "  <thead>\n",
       "    <tr style=\"text-align: right;\">\n",
       "      <th></th>\n",
       "      <th>Line description</th>\n",
       "      <th>Stops</th>\n",
       "      <th>Frequency</th>\n",
       "      <th>Length (time)</th>\n",
       "      <th>Length (km)</th>\n",
       "      <th>year</th>\n",
       "    </tr>\n",
       "  </thead>\n",
       "  <tbody>\n",
       "    <tr>\n",
       "      <th>0</th>\n",
       "      <td>1_bus_West</td>\n",
       "      <td>Moabit, Waldstrasse - Turmstrasse - Alt-Moabit...</td>\n",
       "      <td>12</td>\n",
       "      <td>66.0</td>\n",
       "      <td>NaN</td>\n",
       "      <td>1976</td>\n",
       "    </tr>\n",
       "    <tr>\n",
       "      <th>1</th>\n",
       "      <td>10_bus_West</td>\n",
       "      <td>Haselhorster Damm - Gartenfelder Strasse - Pau...</td>\n",
       "      <td>12</td>\n",
       "      <td>NaN</td>\n",
       "      <td>NaN</td>\n",
       "      <td>1976</td>\n",
       "    </tr>\n",
       "  </tbody>\n",
       "</table>\n",
       "</div>"
      ],
      "text/plain": [
       "  Line description                                              Stops  \\\n",
       "0       1_bus_West  Moabit, Waldstrasse - Turmstrasse - Alt-Moabit...   \n",
       "1      10_bus_West  Haselhorster Damm - Gartenfelder Strasse - Pau...   \n",
       "\n",
       "  Frequency  Length (time)  Length (km)  year  \n",
       "0        12           66.0          NaN  1976  \n",
       "1        12            NaN          NaN  1976  "
      ]
     },
     "execution_count": 9,
     "metadata": {},
     "output_type": "execute_result"
    }
   ],
   "source": [
    "df_line.head(2)"
   ]
  },
  {
   "cell_type": "code",
   "execution_count": 10,
   "metadata": {},
   "outputs": [
    {
     "data": {
      "text/html": [
       "<div>\n",
       "<style scoped>\n",
       "    .dataframe tbody tr th:only-of-type {\n",
       "        vertical-align: middle;\n",
       "    }\n",
       "\n",
       "    .dataframe tbody tr th {\n",
       "        vertical-align: top;\n",
       "    }\n",
       "\n",
       "    .dataframe thead th {\n",
       "        text-align: right;\n",
       "    }\n",
       "</style>\n",
       "<table border=\"1\" class=\"dataframe\">\n",
       "  <thead>\n",
       "    <tr style=\"text-align: right;\">\n",
       "      <th></th>\n",
       "      <th>stop_id</th>\n",
       "      <th>stop_name</th>\n",
       "      <th>type</th>\n",
       "      <th>location</th>\n",
       "      <th>in_lines</th>\n",
       "      <th>identifier</th>\n",
       "    </tr>\n",
       "  </thead>\n",
       "  <tbody>\n",
       "    <tr>\n",
       "      <th>0</th>\n",
       "      <td>19760</td>\n",
       "      <td>Achtermannstrasse</td>\n",
       "      <td>bus</td>\n",
       "      <td>52.57652468032656, 13.418517187666131</td>\n",
       "      <td>['52']</td>\n",
       "      <td>nan</td>\n",
       "    </tr>\n",
       "    <tr>\n",
       "      <th>1</th>\n",
       "      <td>19761</td>\n",
       "      <td>Adalbertstrasse</td>\n",
       "      <td>bus</td>\n",
       "      <td>52.50548699996121, 13.42221404498021</td>\n",
       "      <td>['75', '78']</td>\n",
       "      <td>nan</td>\n",
       "    </tr>\n",
       "  </tbody>\n",
       "</table>\n",
       "</div>"
      ],
      "text/plain": [
       "  stop_id          stop_name type                               location  \\\n",
       "0   19760  Achtermannstrasse  bus  52.57652468032656, 13.418517187666131   \n",
       "1   19761    Adalbertstrasse  bus   52.50548699996121, 13.42221404498021   \n",
       "\n",
       "       in_lines identifier  \n",
       "0        ['52']        nan  \n",
       "1  ['75', '78']        nan  "
      ]
     },
     "execution_count": 10,
     "metadata": {},
     "output_type": "execute_result"
    }
   ],
   "source": [
    "# Assuming df is your DataFrame and 'stop_id' is the column you want to modify\n",
    "df_stops['stop_id'] = '1976' + df_stops['stop_id'].astype(str)\n",
    "df_stops.head(2)"
   ]
  },
  {
   "cell_type": "code",
   "execution_count": 11,
   "metadata": {},
   "outputs": [],
   "source": [
    "df_line[['line_name', \"type\", \"east-west\"]] = df_line['Line description'].str.split('_', expand=True)\n",
    "df_line.drop(columns=['Line description'], inplace=True)\n",
    "\n",
    "df_line.rename(columns={'1946': 'year'}, inplace=True)"
   ]
  },
  {
   "cell_type": "code",
   "execution_count": 12,
   "metadata": {},
   "outputs": [],
   "source": [
    "df_line['line_name'] = df_line['line_name'].astype(str).str.strip()\n",
    "df_line['Stops'] = df_line['Stops'].astype(str).str.strip()\n",
    "df_line['year'] = df_line['year'].astype(int)\n",
    "df_line['Frequency'] = pd.to_numeric(df_line['Frequency'], errors='coerce').fillna(0).astype(int)\n",
    "df_line['Length (time)'] = pd.to_numeric(df_line['Length (time)'], errors='coerce').fillna(0).astype(int)"
   ]
  },
  {
   "cell_type": "code",
   "execution_count": 13,
   "metadata": {},
   "outputs": [],
   "source": [
    "# Define a function to remove leftover parentheses from a column\n",
    "def remove_double_whitespace(text):\n",
    "    text = text.replace(\"   \", \" \")\n",
    "    text = text.replace(\"  \", \" \")\n",
    "    text = text.replace(\"–\", \"-\")\n",
    "    text = text.replace(\" - \", \" - \")\n",
    "    return text\n",
    "\n",
    "# Apply the function to the 'line_stops' column\n",
    "df_line['Stops'] = df_line['Stops'].apply(remove_double_whitespace)\n",
    "df_line['Stops'] = df_line['Stops'].str.replace(r'\\s*–\\s*', ' - ', regex=True)"
   ]
  },
  {
   "cell_type": "code",
   "execution_count": 14,
   "metadata": {},
   "outputs": [
    {
     "data": {
      "text/html": [
       "<div>\n",
       "<style scoped>\n",
       "    .dataframe tbody tr th:only-of-type {\n",
       "        vertical-align: middle;\n",
       "    }\n",
       "\n",
       "    .dataframe tbody tr th {\n",
       "        vertical-align: top;\n",
       "    }\n",
       "\n",
       "    .dataframe thead th {\n",
       "        text-align: right;\n",
       "    }\n",
       "</style>\n",
       "<table border=\"1\" class=\"dataframe\">\n",
       "  <thead>\n",
       "    <tr style=\"text-align: right;\">\n",
       "      <th></th>\n",
       "      <th>Stops</th>\n",
       "      <th>Frequency</th>\n",
       "      <th>Length (time)</th>\n",
       "      <th>Length (km)</th>\n",
       "      <th>year</th>\n",
       "      <th>line_name</th>\n",
       "      <th>type</th>\n",
       "      <th>east-west</th>\n",
       "    </tr>\n",
       "  </thead>\n",
       "  <tbody>\n",
       "  </tbody>\n",
       "</table>\n",
       "</div>"
      ],
      "text/plain": [
       "Empty DataFrame\n",
       "Columns: [Stops, Frequency, Length (time), Length (km), year, line_name, type, east-west]\n",
       "Index: []"
      ]
     },
     "execution_count": 14,
     "metadata": {},
     "output_type": "execute_result"
    }
   ],
   "source": [
    "mask = df_line['Stops'].str.contains(\" - \").fillna(True)\n",
    "none_df = df_line[~mask]\n",
    "none_df"
   ]
  },
  {
   "cell_type": "code",
   "execution_count": 15,
   "metadata": {},
   "outputs": [
    {
     "data": {
      "text/html": [
       "<div>\n",
       "<style scoped>\n",
       "    .dataframe tbody tr th:only-of-type {\n",
       "        vertical-align: middle;\n",
       "    }\n",
       "\n",
       "    .dataframe tbody tr th {\n",
       "        vertical-align: top;\n",
       "    }\n",
       "\n",
       "    .dataframe thead th {\n",
       "        text-align: right;\n",
       "    }\n",
       "</style>\n",
       "<table border=\"1\" class=\"dataframe\">\n",
       "  <thead>\n",
       "    <tr style=\"text-align: right;\">\n",
       "      <th></th>\n",
       "      <th>Stops</th>\n",
       "      <th>Frequency</th>\n",
       "      <th>Length (time)</th>\n",
       "      <th>Length (km)</th>\n",
       "      <th>year</th>\n",
       "      <th>line_name</th>\n",
       "      <th>type</th>\n",
       "      <th>east-west</th>\n",
       "    </tr>\n",
       "  </thead>\n",
       "  <tbody>\n",
       "  </tbody>\n",
       "</table>\n",
       "</div>"
      ],
      "text/plain": [
       "Empty DataFrame\n",
       "Columns: [Stops, Frequency, Length (time), Length (km), year, line_name, type, east-west]\n",
       "Index: []"
      ]
     },
     "execution_count": 15,
     "metadata": {},
     "output_type": "execute_result"
    }
   ],
   "source": [
    "# Filter rows where 'line_stops' is not a string\n",
    "non_string_rows = df_line[~df_line['Stops'].apply(lambda x: isinstance(x, str))]\n",
    "non_string_rows"
   ]
  },
  {
   "cell_type": "code",
   "execution_count": 16,
   "metadata": {},
   "outputs": [],
   "source": [
    "### Creating related tables"
   ]
  },
  {
   "cell_type": "code",
   "execution_count": 17,
   "metadata": {},
   "outputs": [],
   "source": [
    "def extract_first_start_stop(string):\n",
    "    stations = string.split(\" - \")\n",
    "    first_station = stations[0]\n",
    "    last_station = stations[-1]\n",
    "    return f\"{first_station}<> {last_station}\""
   ]
  },
  {
   "cell_type": "code",
   "execution_count": 18,
   "metadata": {},
   "outputs": [],
   "source": [
    "def create_line_df(df):\n",
    "    line_df = pd.DataFrame({\n",
    "        'line_id': range(1, 1+len(df)),\n",
    "        'year': df['year'],\n",
    "        'line_name': df['line_name'],\n",
    "        'type': df[\"type\"],\n",
    "        \"start_stop\": df['Stops'].apply(extract_first_start_stop),\n",
    "        \"Length (time)\": df['Length (time)'],\n",
    "        \"east_west\": df['east-west'],\n",
    "        \"Frequency\": df['Frequency']\n",
    "    })\n",
    "    return line_df"
   ]
  },
  {
   "cell_type": "code",
   "execution_count": 19,
   "metadata": {},
   "outputs": [],
   "source": [
    "line_df = create_line_df(df_line)"
   ]
  },
  {
   "cell_type": "code",
   "execution_count": 20,
   "metadata": {},
   "outputs": [
    {
     "data": {
      "text/html": [
       "<div>\n",
       "<style scoped>\n",
       "    .dataframe tbody tr th:only-of-type {\n",
       "        vertical-align: middle;\n",
       "    }\n",
       "\n",
       "    .dataframe tbody tr th {\n",
       "        vertical-align: top;\n",
       "    }\n",
       "\n",
       "    .dataframe thead th {\n",
       "        text-align: right;\n",
       "    }\n",
       "</style>\n",
       "<table border=\"1\" class=\"dataframe\">\n",
       "  <thead>\n",
       "    <tr style=\"text-align: right;\">\n",
       "      <th></th>\n",
       "      <th>line_id</th>\n",
       "      <th>year</th>\n",
       "      <th>line_name</th>\n",
       "      <th>type</th>\n",
       "      <th>start_stop</th>\n",
       "      <th>Length (time)</th>\n",
       "      <th>east_west</th>\n",
       "      <th>Frequency</th>\n",
       "    </tr>\n",
       "  </thead>\n",
       "  <tbody>\n",
       "    <tr>\n",
       "      <th>0</th>\n",
       "      <td>1</td>\n",
       "      <td>1976</td>\n",
       "      <td>1</td>\n",
       "      <td>bus</td>\n",
       "      <td>Moabit, Waldstrasse&lt;&gt; Lichterfelde, Lindenstrasse</td>\n",
       "      <td>66</td>\n",
       "      <td>West</td>\n",
       "      <td>12</td>\n",
       "    </tr>\n",
       "    <tr>\n",
       "      <th>1</th>\n",
       "      <td>2</td>\n",
       "      <td>1976</td>\n",
       "      <td>10</td>\n",
       "      <td>bus</td>\n",
       "      <td>Haselhorster Damm&lt;&gt; Zehlendorf-Süd, Sachtleben...</td>\n",
       "      <td>0</td>\n",
       "      <td>West</td>\n",
       "      <td>12</td>\n",
       "    </tr>\n",
       "  </tbody>\n",
       "</table>\n",
       "</div>"
      ],
      "text/plain": [
       "   line_id  year line_name type  \\\n",
       "0        1  1976         1  bus   \n",
       "1        2  1976        10  bus   \n",
       "\n",
       "                                          start_stop  Length (time) east_west  \\\n",
       "0  Moabit, Waldstrasse<> Lichterfelde, Lindenstrasse             66      West   \n",
       "1  Haselhorster Damm<> Zehlendorf-Süd, Sachtleben...              0      West   \n",
       "\n",
       "   Frequency  \n",
       "0         12  \n",
       "1         12  "
      ]
     },
     "execution_count": 20,
     "metadata": {},
     "output_type": "execute_result"
    }
   ],
   "source": [
    "line_df.head(2)"
   ]
  },
  {
   "cell_type": "code",
   "execution_count": 21,
   "metadata": {},
   "outputs": [
    {
     "data": {
      "text/html": [
       "<div>\n",
       "<style scoped>\n",
       "    .dataframe tbody tr th:only-of-type {\n",
       "        vertical-align: middle;\n",
       "    }\n",
       "\n",
       "    .dataframe tbody tr th {\n",
       "        vertical-align: top;\n",
       "    }\n",
       "\n",
       "    .dataframe thead th {\n",
       "        text-align: right;\n",
       "    }\n",
       "</style>\n",
       "<table border=\"1\" class=\"dataframe\">\n",
       "  <thead>\n",
       "    <tr style=\"text-align: right;\">\n",
       "      <th></th>\n",
       "      <th>line_id</th>\n",
       "      <th>year</th>\n",
       "      <th>line_name</th>\n",
       "      <th>type</th>\n",
       "      <th>start_stop</th>\n",
       "      <th>Length (time)</th>\n",
       "      <th>east_west</th>\n",
       "      <th>Frequency</th>\n",
       "    </tr>\n",
       "  </thead>\n",
       "  <tbody>\n",
       "    <tr>\n",
       "      <th>0</th>\n",
       "      <td>19761</td>\n",
       "      <td>1976</td>\n",
       "      <td>1</td>\n",
       "      <td>bus</td>\n",
       "      <td>Moabit, Waldstrasse&lt;&gt; Lichterfelde, Lindenstrasse</td>\n",
       "      <td>66</td>\n",
       "      <td>West</td>\n",
       "      <td>12</td>\n",
       "    </tr>\n",
       "    <tr>\n",
       "      <th>1</th>\n",
       "      <td>19762</td>\n",
       "      <td>1976</td>\n",
       "      <td>10</td>\n",
       "      <td>bus</td>\n",
       "      <td>Haselhorster Damm&lt;&gt; Zehlendorf-Süd, Sachtleben...</td>\n",
       "      <td>0</td>\n",
       "      <td>West</td>\n",
       "      <td>12</td>\n",
       "    </tr>\n",
       "  </tbody>\n",
       "</table>\n",
       "</div>"
      ],
      "text/plain": [
       "  line_id  year line_name type  \\\n",
       "0   19761  1976         1  bus   \n",
       "1   19762  1976        10  bus   \n",
       "\n",
       "                                          start_stop  Length (time) east_west  \\\n",
       "0  Moabit, Waldstrasse<> Lichterfelde, Lindenstrasse             66      West   \n",
       "1  Haselhorster Damm<> Zehlendorf-Süd, Sachtleben...              0      West   \n",
       "\n",
       "   Frequency  \n",
       "0         12  \n",
       "1         12  "
      ]
     },
     "execution_count": 21,
     "metadata": {},
     "output_type": "execute_result"
    }
   ],
   "source": [
    "# Assuming df is your DataFrame and 'stop_id' is the column you want to modify\n",
    "line_df['line_id'] = '1976' + line_df['line_id'].astype(str)\n",
    "line_df.head(2)"
   ]
  },
  {
   "cell_type": "code",
   "execution_count": 22,
   "metadata": {},
   "outputs": [],
   "source": [
    "def create_line_stops_df(df):\n",
    "    line_stops = df['Stops'].str.split(' - ', expand=True).stack().reset_index(level=1, drop=True).reset_index(name='stop_name')\n",
    "\n",
    "    line_stops['stop_order'] = line_stops.groupby('index').cumcount()\n",
    "    #index starts from 0 so it looks like 1 row is missing but this is not true\n",
    "\n",
    "    # Clean the 'Stop Name' column by removing whitespace and non-breaking spaces\n",
    "    line_stops['stop_name'] = line_stops['stop_name'].str.replace(u'\\xa0', ' ').str.strip()\n",
    "\n",
    "    # reset index so that it can be used for foreign key\n",
    "\n",
    "    return line_stops"
   ]
  },
  {
   "cell_type": "code",
   "execution_count": 23,
   "metadata": {},
   "outputs": [],
   "source": [
    "line_stops_df = create_line_stops_df(df_line)"
   ]
  },
  {
   "cell_type": "code",
   "execution_count": 24,
   "metadata": {},
   "outputs": [
    {
     "data": {
      "text/html": [
       "<div>\n",
       "<style scoped>\n",
       "    .dataframe tbody tr th:only-of-type {\n",
       "        vertical-align: middle;\n",
       "    }\n",
       "\n",
       "    .dataframe tbody tr th {\n",
       "        vertical-align: top;\n",
       "    }\n",
       "\n",
       "    .dataframe thead th {\n",
       "        text-align: right;\n",
       "    }\n",
       "</style>\n",
       "<table border=\"1\" class=\"dataframe\">\n",
       "  <thead>\n",
       "    <tr style=\"text-align: right;\">\n",
       "      <th></th>\n",
       "      <th>line_id</th>\n",
       "      <th>stop_name</th>\n",
       "      <th>stop_order</th>\n",
       "    </tr>\n",
       "  </thead>\n",
       "  <tbody>\n",
       "    <tr>\n",
       "      <th>0</th>\n",
       "      <td>1</td>\n",
       "      <td>Moabit, Waldstrasse</td>\n",
       "      <td>0</td>\n",
       "    </tr>\n",
       "    <tr>\n",
       "      <th>1</th>\n",
       "      <td>1</td>\n",
       "      <td>Turmstrasse</td>\n",
       "      <td>1</td>\n",
       "    </tr>\n",
       "    <tr>\n",
       "      <th>2</th>\n",
       "      <td>1</td>\n",
       "      <td>Alt-Moabit</td>\n",
       "      <td>2</td>\n",
       "    </tr>\n",
       "    <tr>\n",
       "      <th>3</th>\n",
       "      <td>1</td>\n",
       "      <td>Franklinstrasse</td>\n",
       "      <td>3</td>\n",
       "    </tr>\n",
       "    <tr>\n",
       "      <th>4</th>\n",
       "      <td>1</td>\n",
       "      <td>Otto-Suhr-Allee</td>\n",
       "      <td>4</td>\n",
       "    </tr>\n",
       "    <tr>\n",
       "      <th>...</th>\n",
       "      <td>...</td>\n",
       "      <td>...</td>\n",
       "      <td>...</td>\n",
       "    </tr>\n",
       "    <tr>\n",
       "      <th>2776</th>\n",
       "      <td>175</td>\n",
       "      <td>Beusselstr.</td>\n",
       "      <td>0</td>\n",
       "    </tr>\n",
       "    <tr>\n",
       "      <th>2777</th>\n",
       "      <td>175</td>\n",
       "      <td>Jungfernheide</td>\n",
       "      <td>1</td>\n",
       "    </tr>\n",
       "    <tr>\n",
       "      <th>2778</th>\n",
       "      <td>175</td>\n",
       "      <td>Wernerwerk</td>\n",
       "      <td>2</td>\n",
       "    </tr>\n",
       "    <tr>\n",
       "      <th>2779</th>\n",
       "      <td>175</td>\n",
       "      <td>Siemensstadt</td>\n",
       "      <td>3</td>\n",
       "    </tr>\n",
       "    <tr>\n",
       "      <th>2780</th>\n",
       "      <td>175</td>\n",
       "      <td>Gartenfeld</td>\n",
       "      <td>4</td>\n",
       "    </tr>\n",
       "  </tbody>\n",
       "</table>\n",
       "<p>2781 rows × 3 columns</p>\n",
       "</div>"
      ],
      "text/plain": [
       "      line_id            stop_name  stop_order\n",
       "0           1  Moabit, Waldstrasse           0\n",
       "1           1          Turmstrasse           1\n",
       "2           1           Alt-Moabit           2\n",
       "3           1      Franklinstrasse           3\n",
       "4           1      Otto-Suhr-Allee           4\n",
       "...       ...                  ...         ...\n",
       "2776      175          Beusselstr.           0\n",
       "2777      175        Jungfernheide           1\n",
       "2778      175           Wernerwerk           2\n",
       "2779      175         Siemensstadt           3\n",
       "2780      175           Gartenfeld           4\n",
       "\n",
       "[2781 rows x 3 columns]"
      ]
     },
     "execution_count": 24,
     "metadata": {},
     "output_type": "execute_result"
    }
   ],
   "source": [
    "for index, row in line_stops_df.iterrows():\n",
    "    line_stops_df.at[index, \"index\"] = row[\"index\"] + 1\n",
    "line_stops_df.rename(columns={'index': 'line_id'}, inplace=True)\n",
    "\n",
    "line_stops_df"
   ]
  },
  {
   "cell_type": "code",
   "execution_count": 25,
   "metadata": {},
   "outputs": [
    {
     "data": {
      "text/html": [
       "<div>\n",
       "<style scoped>\n",
       "    .dataframe tbody tr th:only-of-type {\n",
       "        vertical-align: middle;\n",
       "    }\n",
       "\n",
       "    .dataframe tbody tr th {\n",
       "        vertical-align: top;\n",
       "    }\n",
       "\n",
       "    .dataframe thead th {\n",
       "        text-align: right;\n",
       "    }\n",
       "</style>\n",
       "<table border=\"1\" class=\"dataframe\">\n",
       "  <thead>\n",
       "    <tr style=\"text-align: right;\">\n",
       "      <th></th>\n",
       "      <th>line_id</th>\n",
       "      <th>stop_name</th>\n",
       "      <th>stop_order</th>\n",
       "    </tr>\n",
       "  </thead>\n",
       "  <tbody>\n",
       "    <tr>\n",
       "      <th>0</th>\n",
       "      <td>19761</td>\n",
       "      <td>Moabit, Waldstrasse</td>\n",
       "      <td>0</td>\n",
       "    </tr>\n",
       "    <tr>\n",
       "      <th>1</th>\n",
       "      <td>19761</td>\n",
       "      <td>Turmstrasse</td>\n",
       "      <td>1</td>\n",
       "    </tr>\n",
       "  </tbody>\n",
       "</table>\n",
       "</div>"
      ],
      "text/plain": [
       "  line_id            stop_name  stop_order\n",
       "0   19761  Moabit, Waldstrasse           0\n",
       "1   19761          Turmstrasse           1"
      ]
     },
     "execution_count": 25,
     "metadata": {},
     "output_type": "execute_result"
    }
   ],
   "source": [
    "# Assuming df is your DataFrame and 'stop_id' is the column you want to modify\n",
    "line_stops_df['line_id'] = '1976' + line_stops_df['line_id'].astype(str)\n",
    "line_stops_df.head(2)"
   ]
  },
  {
   "cell_type": "code",
   "execution_count": 26,
   "metadata": {},
   "outputs": [],
   "source": [
    "# get a list of unique Line IDs in the line_stops DataFrame\n",
    "line_ids = line_stops_df['line_id'].unique()\n",
    "\n",
    "# loop through each unique Line ID\n",
    "for line_id in line_ids:\n",
    "    # get the first and last Stop Name for this Line ID\n",
    "    first_stop_name = line_stops_df.loc[line_stops_df['line_id'] == line_id, 'stop_name'].iloc[0]\n",
    "    last_stop_name = line_stops_df.loc[line_stops_df['line_id'] == line_id, 'stop_name'].iloc[-1]\n",
    "    \n",
    "    # get the corresponding Start-Stop value from line_df for this Line ID\n",
    "    start_stop = line_df.loc[line_df['line_id'] == line_id, 'start_stop'].iloc[0]\n",
    "    \n",
    "    # check if the first and last Stop Names are contained in the Start-Stop value\n",
    "    if first_stop_name not in start_stop or last_stop_name not in start_stop:\n",
    "        print(f\"Quality control check failed for line_id {line_id}.\")\n",
    "\n",
    "# I checked that this works using the following code:\n",
    "# line_stops_df.loc[0, \"stop_name\"] = \"test\"\n",
    "# and got the right result: Quality control check failed for line_id 1001.\n"
   ]
  },
  {
   "cell_type": "code",
   "execution_count": 27,
   "metadata": {},
   "outputs": [
    {
     "data": {
      "text/html": [
       "<div>\n",
       "<style scoped>\n",
       "    .dataframe tbody tr th:only-of-type {\n",
       "        vertical-align: middle;\n",
       "    }\n",
       "\n",
       "    .dataframe tbody tr th {\n",
       "        vertical-align: top;\n",
       "    }\n",
       "\n",
       "    .dataframe thead th {\n",
       "        text-align: right;\n",
       "    }\n",
       "</style>\n",
       "<table border=\"1\" class=\"dataframe\">\n",
       "  <thead>\n",
       "    <tr style=\"text-align: right;\">\n",
       "      <th></th>\n",
       "      <th>line_id</th>\n",
       "      <th>year</th>\n",
       "      <th>line_name</th>\n",
       "      <th>type</th>\n",
       "      <th>start_stop</th>\n",
       "      <th>Length (time)</th>\n",
       "      <th>east_west</th>\n",
       "      <th>Frequency</th>\n",
       "    </tr>\n",
       "  </thead>\n",
       "  <tbody>\n",
       "    <tr>\n",
       "      <th>0</th>\n",
       "      <td>19761</td>\n",
       "      <td>1976</td>\n",
       "      <td>1</td>\n",
       "      <td>bus</td>\n",
       "      <td>Moabit, Waldstrasse&lt;&gt; Lichterfelde, Lindenstrasse</td>\n",
       "      <td>66</td>\n",
       "      <td>West</td>\n",
       "      <td>12</td>\n",
       "    </tr>\n",
       "    <tr>\n",
       "      <th>1</th>\n",
       "      <td>19762</td>\n",
       "      <td>1976</td>\n",
       "      <td>10</td>\n",
       "      <td>bus</td>\n",
       "      <td>Haselhorster Damm&lt;&gt; Zehlendorf-Süd, Sachtleben...</td>\n",
       "      <td>0</td>\n",
       "      <td>West</td>\n",
       "      <td>12</td>\n",
       "    </tr>\n",
       "    <tr>\n",
       "      <th>2</th>\n",
       "      <td>19763</td>\n",
       "      <td>1976</td>\n",
       "      <td>11</td>\n",
       "      <td>bus</td>\n",
       "      <td>Dahlem Waldfriedhof&lt;&gt; U-Bhf. Alt-Mariendorf</td>\n",
       "      <td>43</td>\n",
       "      <td>West</td>\n",
       "      <td>7</td>\n",
       "    </tr>\n",
       "  </tbody>\n",
       "</table>\n",
       "</div>"
      ],
      "text/plain": [
       "  line_id  year line_name type  \\\n",
       "0   19761  1976         1  bus   \n",
       "1   19762  1976        10  bus   \n",
       "2   19763  1976        11  bus   \n",
       "\n",
       "                                          start_stop  Length (time) east_west  \\\n",
       "0  Moabit, Waldstrasse<> Lichterfelde, Lindenstrasse             66      West   \n",
       "1  Haselhorster Damm<> Zehlendorf-Süd, Sachtleben...              0      West   \n",
       "2        Dahlem Waldfriedhof<> U-Bhf. Alt-Mariendorf             43      West   \n",
       "\n",
       "   Frequency  \n",
       "0         12  \n",
       "1         12  \n",
       "2          7  "
      ]
     },
     "execution_count": 27,
     "metadata": {},
     "output_type": "execute_result"
    }
   ],
   "source": [
    "line_df.head(3)"
   ]
  },
  {
   "cell_type": "code",
   "execution_count": 28,
   "metadata": {},
   "outputs": [],
   "source": [
    "def add_type(line_stops, line_df):\n",
    "    # Assuming line_id is the common column between line_stops and line_df\n",
    "    merged_df = pd.merge(line_stops, line_df[['line_id', 'type', \"line_name\"]], on='line_id', how='left')\n",
    "    \n",
    "    # Rename the 'type' column from line_df to 'type_from_line_df' to avoid conflicts\n",
    "    merged_df.rename(columns={'type': 'type'}, inplace=True)\n",
    "    \n",
    "    # Drop the 'type_from_line_df' column if it's not needed in the final result\n",
    "    # merged_df.drop(columns=['type_from_line_df'], inplace=True)\n",
    "    \n",
    "    return merged_df"
   ]
  },
  {
   "cell_type": "code",
   "execution_count": 29,
   "metadata": {},
   "outputs": [],
   "source": [
    "line_stops_df = add_type(line_stops_df, line_df)"
   ]
  },
  {
   "cell_type": "code",
   "execution_count": 30,
   "metadata": {},
   "outputs": [],
   "source": [
    "def add_fk(line_stops_df, df_stops):\n",
    "    # Create a new dataframe with the Stop Name and Stop ID columns\n",
    "    stop_id_df = df_stops[['stop_name', 'stop_id', 'type', 'in_lines']]\n",
    "\n",
    "    # Merge the line_stops_df and stop_id_df dataframes based on matching stop names and line_name condition\n",
    "    line_stops_df = line_stops_df.merge(stop_id_df,\n",
    "                                        left_on=['stop_name', 'type'],\n",
    "                                        right_on=['stop_name', 'type'],\n",
    "                                        how='left')\n",
    "\n",
    "    # Filter the rows based on the condition that line_name is contained in in_lines\n",
    "    line_stops_df = line_stops_df[line_stops_df.apply(lambda row: str(row['line_name']) in str(row['in_lines']), axis=1)]\n",
    "\n",
    "    return line_stops_df\n",
    "\n",
    "# Assuming line_stops_df and df_stops are your dataframes\n",
    "# Replace 'stop_name', 'stop_id', 'type', and 'in_lines' with the actual column names you have\n",
    "\n",
    "line_stops_df = add_fk(line_stops_df, df_stops)\n"
   ]
  },
  {
   "cell_type": "code",
   "execution_count": 31,
   "metadata": {},
   "outputs": [
    {
     "data": {
      "text/html": [
       "<div>\n",
       "<style scoped>\n",
       "    .dataframe tbody tr th:only-of-type {\n",
       "        vertical-align: middle;\n",
       "    }\n",
       "\n",
       "    .dataframe tbody tr th {\n",
       "        vertical-align: top;\n",
       "    }\n",
       "\n",
       "    .dataframe thead th {\n",
       "        text-align: right;\n",
       "    }\n",
       "</style>\n",
       "<table border=\"1\" class=\"dataframe\">\n",
       "  <thead>\n",
       "    <tr style=\"text-align: right;\">\n",
       "      <th></th>\n",
       "      <th>line_id</th>\n",
       "      <th>stop_name</th>\n",
       "      <th>stop_order</th>\n",
       "      <th>type</th>\n",
       "      <th>line_name</th>\n",
       "      <th>stop_id</th>\n",
       "      <th>in_lines</th>\n",
       "      <th>diff</th>\n",
       "    </tr>\n",
       "  </thead>\n",
       "  <tbody>\n",
       "    <tr>\n",
       "      <th>2977</th>\n",
       "      <td>1976164</td>\n",
       "      <td>Möckernbrücke</td>\n",
       "      <td>7</td>\n",
       "      <td>u-bahn</td>\n",
       "      <td>7</td>\n",
       "      <td>1976994</td>\n",
       "      <td>['7', '1']</td>\n",
       "      <td>2.0</td>\n",
       "    </tr>\n",
       "  </tbody>\n",
       "</table>\n",
       "</div>"
      ],
      "text/plain": [
       "      line_id      stop_name  stop_order    type line_name  stop_id  \\\n",
       "2977  1976164  Möckernbrücke           7  u-bahn         7  1976994   \n",
       "\n",
       "        in_lines  diff  \n",
       "2977  ['7', '1']   2.0  "
      ]
     },
     "execution_count": 31,
     "metadata": {},
     "output_type": "execute_result"
    }
   ],
   "source": [
    "# Calculate the difference between consecutive 'stop_order' values\n",
    "line_stops_df['diff'] = line_stops_df['stop_order'].diff()\n",
    "\n",
    "# Use the following line to drop rows where the 'diff' column is 0.0\n",
    "line_stops_df = line_stops_df[line_stops_df['diff'] != 0.0]\n",
    "\n",
    "# Identify faulty rows where the difference is not 1 digit behind\n",
    "faulty_rows = line_stops_df[(line_stops_df['diff'] != 1) & (line_stops_df['stop_order'] != 0)]\n",
    "faulty_rows"
   ]
  },
  {
   "cell_type": "code",
   "execution_count": 32,
   "metadata": {},
   "outputs": [
    {
     "name": "stdout",
     "output_type": "stream",
     "text": [
      "<class 'pandas.core.frame.DataFrame'>\n",
      "Index: 1 entries, 2977 to 2977\n",
      "Data columns (total 8 columns):\n",
      " #   Column      Non-Null Count  Dtype  \n",
      "---  ------      --------------  -----  \n",
      " 0   line_id     1 non-null      object \n",
      " 1   stop_name   1 non-null      object \n",
      " 2   stop_order  1 non-null      int64  \n",
      " 3   type        1 non-null      object \n",
      " 4   line_name   1 non-null      object \n",
      " 5   stop_id     1 non-null      object \n",
      " 6   in_lines    1 non-null      object \n",
      " 7   diff        1 non-null      float64\n",
      "dtypes: float64(1), int64(1), object(6)\n",
      "memory usage: 72.0+ bytes\n"
     ]
    }
   ],
   "source": [
    "faulty_rows.info()"
   ]
  },
  {
   "cell_type": "code",
   "execution_count": 33,
   "metadata": {},
   "outputs": [
    {
     "name": "stdout",
     "output_type": "stream",
     "text": [
      "All values in 'stop_id' column are numeric\n"
     ]
    }
   ],
   "source": [
    "# convert 'Stop ID' column to numeric values, coercing errors to NaN\n",
    "line_stops_df['stop_id'] = pd.to_numeric(line_stops_df['stop_id'], errors='coerce')\n",
    "\n",
    "# check if all values in 'Stop ID' column are numeric\n",
    "if line_stops_df['stop_id'].notnull().all():\n",
    "    print(\"All values in 'stop_id' column are numeric\")\n",
    "else:\n",
    "    print(\"There are non-numeric values in 'stop_id' column\")\n",
    "    print(line_stops_df[line_stops_df['stop_id'].isnull()])\n"
   ]
  },
  {
   "cell_type": "code",
   "execution_count": 34,
   "metadata": {},
   "outputs": [],
   "source": [
    "line_stops_df.drop(['line_name', \"in_lines\", \"type\", \"diff\"], axis=1, inplace=True)"
   ]
  },
  {
   "cell_type": "code",
   "execution_count": 35,
   "metadata": {},
   "outputs": [],
   "source": [
    "line_stops_df.to_csv(\"line_stops_1976-final.csv\")\n",
    "line_df.to_csv(\"line_df_1976-final.csv\")\n",
    "df_stops.to_csv(\"stops_df_1976-final.csv\")"
   ]
  }
 ],
 "metadata": {
  "kernelspec": {
   "display_name": "thesis-coding",
   "language": "python",
   "name": "python3"
  },
  "language_info": {
   "codemirror_mode": {
    "name": "ipython",
    "version": 3
   },
   "file_extension": ".py",
   "mimetype": "text/x-python",
   "name": "python",
   "nbconvert_exporter": "python",
   "pygments_lexer": "ipython3",
   "version": "3.11.8"
  }
 },
 "nbformat": 4,
 "nbformat_minor": 2
}
