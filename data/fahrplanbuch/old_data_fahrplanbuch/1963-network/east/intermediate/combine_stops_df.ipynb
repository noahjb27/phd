{
 "cells": [
  {
   "cell_type": "code",
   "execution_count": 86,
   "metadata": {},
   "outputs": [],
   "source": [
    "import pandas as pd\n",
    "import ast"
   ]
  },
  {
   "cell_type": "code",
   "execution_count": 87,
   "metadata": {},
   "outputs": [],
   "source": [
    "df_stops_total = pd.read_csv(\"../../../../1_data_fahrplanbuch/final-tables/stations.csv\")\n",
    "df_1963 = pd.read_csv('../initial/stops_df_1963-initial.csv')"
   ]
  },
  {
   "cell_type": "code",
   "execution_count": 88,
   "metadata": {},
   "outputs": [
    {
     "data": {
      "text/html": [
       "<div>\n",
       "<style scoped>\n",
       "    .dataframe tbody tr th:only-of-type {\n",
       "        vertical-align: middle;\n",
       "    }\n",
       "\n",
       "    .dataframe tbody tr th {\n",
       "        vertical-align: top;\n",
       "    }\n",
       "\n",
       "    .dataframe thead th {\n",
       "        text-align: right;\n",
       "    }\n",
       "</style>\n",
       "<table border=\"1\" class=\"dataframe\">\n",
       "  <thead>\n",
       "    <tr style=\"text-align: right;\">\n",
       "      <th></th>\n",
       "      <th>Unnamed: 0</th>\n",
       "      <th>station_id</th>\n",
       "      <th>stop_name</th>\n",
       "      <th>line_count</th>\n",
       "      <th>type</th>\n",
       "      <th>in_lines</th>\n",
       "    </tr>\n",
       "  </thead>\n",
       "  <tbody>\n",
       "    <tr>\n",
       "      <th>0</th>\n",
       "      <td>0</td>\n",
       "      <td>1</td>\n",
       "      <td>Pankow (Vinetastr.)</td>\n",
       "      <td>1</td>\n",
       "      <td>u-bahn</td>\n",
       "      <td>['A']</td>\n",
       "    </tr>\n",
       "    <tr>\n",
       "      <th>1</th>\n",
       "      <td>1</td>\n",
       "      <td>2</td>\n",
       "      <td>Schönhauser Allee</td>\n",
       "      <td>2</td>\n",
       "      <td>u-bahn</td>\n",
       "      <td>['A']</td>\n",
       "    </tr>\n",
       "    <tr>\n",
       "      <th>2</th>\n",
       "      <td>2</td>\n",
       "      <td>2</td>\n",
       "      <td>Schönhauser Allee</td>\n",
       "      <td>2</td>\n",
       "      <td>strassenbahn</td>\n",
       "      <td>['3']</td>\n",
       "    </tr>\n",
       "  </tbody>\n",
       "</table>\n",
       "</div>"
      ],
      "text/plain": [
       "   Unnamed: 0  station_id            stop_name  line_count          type  \\\n",
       "0           0           1  Pankow (Vinetastr.)           1        u-bahn   \n",
       "1           1           2    Schönhauser Allee           2        u-bahn   \n",
       "2           2           2    Schönhauser Allee           2  strassenbahn   \n",
       "\n",
       "  in_lines  \n",
       "0    ['A']  \n",
       "1    ['A']  \n",
       "2    ['3']  "
      ]
     },
     "execution_count": 88,
     "metadata": {},
     "output_type": "execute_result"
    }
   ],
   "source": [
    "df_1963.head(3)"
   ]
  },
  {
   "cell_type": "code",
   "execution_count": 89,
   "metadata": {},
   "outputs": [],
   "source": [
    "df_1963.drop(columns=['Unnamed: 0'], inplace=True)\n",
    "df_1963[\"location\"] = \"\"\n",
    "df_1963[\"identifier\"] = \"\"\n",
    "df_1963[\"stop_id_other\"] = \"\"\n",
    "df_1963[\"previous_in_lines\"] = \"\""
   ]
  },
  {
   "cell_type": "code",
   "execution_count": 90,
   "metadata": {},
   "outputs": [
    {
     "data": {
      "text/html": [
       "<div>\n",
       "<style scoped>\n",
       "    .dataframe tbody tr th:only-of-type {\n",
       "        vertical-align: middle;\n",
       "    }\n",
       "\n",
       "    .dataframe tbody tr th {\n",
       "        vertical-align: top;\n",
       "    }\n",
       "\n",
       "    .dataframe thead th {\n",
       "        text-align: right;\n",
       "    }\n",
       "</style>\n",
       "<table border=\"1\" class=\"dataframe\">\n",
       "  <thead>\n",
       "    <tr style=\"text-align: right;\">\n",
       "      <th></th>\n",
       "      <th>stop_id</th>\n",
       "      <th>stop_name</th>\n",
       "      <th>type</th>\n",
       "      <th>location</th>\n",
       "      <th>in_lines</th>\n",
       "      <th>identifier</th>\n",
       "      <th>stop_description</th>\n",
       "    </tr>\n",
       "  </thead>\n",
       "  <tbody>\n",
       "    <tr>\n",
       "      <th>19728</th>\n",
       "      <td>19892665</td>\n",
       "      <td>neuhofer Strasse</td>\n",
       "      <td>bus</td>\n",
       "      <td>52.411694901653036, 13.503489970696608</td>\n",
       "      <td>{'58'}</td>\n",
       "      <td>NaN</td>\n",
       "      <td>NaN</td>\n",
       "    </tr>\n",
       "    <tr>\n",
       "      <th>19729</th>\n",
       "      <td>19892666</td>\n",
       "      <td>Öschebronner Weg</td>\n",
       "      <td>bus</td>\n",
       "      <td>52.61154475375042, 13.337669105320359</td>\n",
       "      <td>{'20'}</td>\n",
       "      <td>NaN</td>\n",
       "      <td>NaN</td>\n",
       "    </tr>\n",
       "    <tr>\n",
       "      <th>19730</th>\n",
       "      <td>19892667</td>\n",
       "      <td>Übergang</td>\n",
       "      <td>bus</td>\n",
       "      <td>52.543078667825824, 13.157884773521127</td>\n",
       "      <td>{'63'}</td>\n",
       "      <td>NaN</td>\n",
       "      <td>NaN</td>\n",
       "    </tr>\n",
       "  </tbody>\n",
       "</table>\n",
       "</div>"
      ],
      "text/plain": [
       "        stop_id         stop_name type  \\\n",
       "19728  19892665  neuhofer Strasse  bus   \n",
       "19729  19892666  Öschebronner Weg  bus   \n",
       "19730  19892667          Übergang  bus   \n",
       "\n",
       "                                     location in_lines identifier  \\\n",
       "19728  52.411694901653036, 13.503489970696608   {'58'}        NaN   \n",
       "19729   52.61154475375042, 13.337669105320359   {'20'}        NaN   \n",
       "19730  52.543078667825824, 13.157884773521127   {'63'}        NaN   \n",
       "\n",
       "      stop_description  \n",
       "19728              NaN  \n",
       "19729              NaN  \n",
       "19730              NaN  "
      ]
     },
     "execution_count": 90,
     "metadata": {},
     "output_type": "execute_result"
    }
   ],
   "source": [
    "df_stops_total.tail(3)"
   ]
  },
  {
   "cell_type": "code",
   "execution_count": 91,
   "metadata": {},
   "outputs": [],
   "source": [
    "# Function to convert string representation of set to list\n",
    "def convert_to_list(value):\n",
    "    try:\n",
    "        # Use ast.literal_eval to safely convert string to set\n",
    "        items = ast.literal_eval(value)\n",
    "        \n",
    "        # Check if the result is a set, and convert it to a list\n",
    "        if isinstance(items, set):\n",
    "            return list(items)\n",
    "        # Check if the result is an integer, and convert it to a list with a single element\n",
    "        elif isinstance(items, int):\n",
    "            return [items]\n",
    "        # For other types, return a list with the original value\n",
    "        else:\n",
    "            return [value]\n",
    "    except (SyntaxError, ValueError):\n",
    "        # Handle the case where literal_eval fails (e.g., invalid string)\n",
    "        # Try to convert the value to an integer, and return a list with a single element if successful\n",
    "        try:\n",
    "            return [int(value)]\n",
    "        except ValueError:\n",
    "            return [value]\n",
    "\n",
    "# Apply the function to the 'in_lines' column\n",
    "df_stops_total['in_lines'] = df_stops_total['in_lines'].apply(convert_to_list)\n",
    "df_1963['in_lines'] = df_1963['in_lines'].apply(convert_to_list)"
   ]
  },
  {
   "cell_type": "code",
   "execution_count": 92,
   "metadata": {},
   "outputs": [],
   "source": [
    "df_stops_total['in_lines'] = df_stops_total['in_lines'].apply(lambda x: ','.join(map(str, x)))\n",
    "df_1963['in_lines'] = df_1963['in_lines'].apply(lambda x: ','.join(map(str, x)))"
   ]
  },
  {
   "cell_type": "code",
   "execution_count": 93,
   "metadata": {},
   "outputs": [
    {
     "data": {
      "text/html": [
       "<div>\n",
       "<style scoped>\n",
       "    .dataframe tbody tr th:only-of-type {\n",
       "        vertical-align: middle;\n",
       "    }\n",
       "\n",
       "    .dataframe tbody tr th {\n",
       "        vertical-align: top;\n",
       "    }\n",
       "\n",
       "    .dataframe thead th {\n",
       "        text-align: right;\n",
       "    }\n",
       "</style>\n",
       "<table border=\"1\" class=\"dataframe\">\n",
       "  <thead>\n",
       "    <tr style=\"text-align: right;\">\n",
       "      <th></th>\n",
       "      <th>stop_id</th>\n",
       "      <th>stop_name</th>\n",
       "      <th>type</th>\n",
       "      <th>location</th>\n",
       "      <th>in_lines</th>\n",
       "      <th>identifier</th>\n",
       "      <th>stop_description</th>\n",
       "    </tr>\n",
       "  </thead>\n",
       "  <tbody>\n",
       "    <tr>\n",
       "      <th>0</th>\n",
       "      <td>19460</td>\n",
       "      <td>Adlershof</td>\n",
       "      <td>s-bahn</td>\n",
       "      <td>52.434722222222,13.541388888889</td>\n",
       "      <td>['KBS 100a', 'KBS 100c']</td>\n",
       "      <td>Q323551</td>\n",
       "      <td>NaN</td>\n",
       "    </tr>\n",
       "    <tr>\n",
       "      <th>1</th>\n",
       "      <td>19461</td>\n",
       "      <td>Akazienallee</td>\n",
       "      <td>bus</td>\n",
       "      <td>52.47849809201335, 13.607179083668733</td>\n",
       "      <td>['D']</td>\n",
       "      <td>NaN</td>\n",
       "      <td>NaN</td>\n",
       "    </tr>\n",
       "    <tr>\n",
       "      <th>2</th>\n",
       "      <td>19462</td>\n",
       "      <td>Alexanderplatz</td>\n",
       "      <td>bus</td>\n",
       "      <td>52.52005246558073, 13.413957243449447</td>\n",
       "      <td>['1', '9']</td>\n",
       "      <td>NaN</td>\n",
       "      <td>NaN</td>\n",
       "    </tr>\n",
       "  </tbody>\n",
       "</table>\n",
       "</div>"
      ],
      "text/plain": [
       "   stop_id       stop_name    type                               location  \\\n",
       "0    19460       Adlershof  s-bahn        52.434722222222,13.541388888889   \n",
       "1    19461    Akazienallee     bus  52.47849809201335, 13.607179083668733   \n",
       "2    19462  Alexanderplatz     bus  52.52005246558073, 13.413957243449447   \n",
       "\n",
       "                   in_lines identifier stop_description  \n",
       "0  ['KBS 100a', 'KBS 100c']    Q323551              NaN  \n",
       "1                     ['D']        NaN              NaN  \n",
       "2                ['1', '9']        NaN              NaN  "
      ]
     },
     "execution_count": 93,
     "metadata": {},
     "output_type": "execute_result"
    }
   ],
   "source": [
    "df_stops_total.head(3)"
   ]
  },
  {
   "cell_type": "markdown",
   "metadata": {},
   "source": [
    "I have two dataframes df_long and df_short, I want to add the information from df_long columns combined_location and combined_identifier to df_short if there is a match between the original_name column from df_long with the stop_name column of df_short. I have to create combined_location and combined_identifier columns in df_short first"
   ]
  },
  {
   "cell_type": "code",
   "execution_count": 94,
   "metadata": {},
   "outputs": [],
   "source": [
    "df_stops_total['type'] = df_stops_total['type'].replace('bus', 'Autobus')"
   ]
  },
  {
   "cell_type": "code",
   "execution_count": 96,
   "metadata": {},
   "outputs": [],
   "source": [
    "for index, row in df_1963.iterrows():\n",
    "    # Check if row[\"stop_name\"] is in df_1960[\"original_name\"]\n",
    "    if row[\"stop_name\"] in df_stops_total[\"stop_name\"].values:\n",
    "        # Find matching rows in df_1960\n",
    "        matching_rows = df_stops_total[df_stops_total[\"stop_name\"] == row[\"stop_name\"]]\n",
    "        \n",
    "        # Check if those two rows have matching row[\"type\"] values\n",
    "        matching_rows = matching_rows[matching_rows[\"type\"] == row[\"type\"]]\n",
    "        \n",
    "        # Check if there are any matching rows\n",
    "        if not matching_rows.empty:\n",
    "            df_1963.at[index, 'location'] = '+ '.join(matching_rows['location'].astype(str).values)\n",
    "            df_1963.at[index, 'identifier'] = '+ '.join(matching_rows['identifier'].astype(str).values)\n",
    "            df_1963.at[index, 'stop_description'] = '+ '.join(matching_rows['stop_description'].astype(str).values)\n",
    "            df_1963.at[index, 'stop_id_other'] = '+ '.join(matching_rows['stop_id'].astype(str).values)\n",
    "            df_1963.at[index, 'previous_in_lines'] = '+ '.join(matching_rows['in_lines'].astype(str).values)\n",
    "        else:\n",
    "            # Handle the case where there are no matching rows in df_1960\n",
    "            df_1963.at[index, 'location'] = ''\n",
    "            df_1963.at[index, 'identifier'] = ''\n",
    "            df_1963.at[index, 'stop_description'] = ''\n",
    "            df_1963.at[index, 'stop_id_other'] = ''\n",
    "            df_1963.at[index, 'previous_in_lines'] = ''\n",
    "\n",
    "\n",
    "\n",
    "\n",
    "        # # Convert values to strings and replace NaN with empty strings\n",
    "        # combined_location = \" + \".join(matching_rows[\"combined_location\"].astype(str).fillna(''))\n",
    "        # combined_identifier = \" + \".join(matching_rows[\"combined_identifier\"].astype(str).fillna(''))\n",
    "            \n",
    "        # # Update row[\"location\"] and row[\"identifier\"]\n",
    "        # row[\"location\"] += \" + \" + combined_location\n",
    "        # row[\"identifier\"] += \" + \" + combined_identifier\n",
    "\n",
    "# Now, df_1961 should have updated \"location\" and \"identifier\" columns based on the conditions.\n"
   ]
  },
  {
   "cell_type": "code",
   "execution_count": 97,
   "metadata": {},
   "outputs": [],
   "source": [
    "# Function to split string values containing '+' and convert to a unique string\n",
    "def split_values(cell_value):\n",
    "    unique_values = sorted(set(element.strip() for element in cell_value.split('+')))\n",
    "    return '+'.join(unique_values)\n",
    "\n",
    "# Apply the function to each cell in the specified columns\n",
    "df_1963['location'] = df_1963['location'].apply(split_values)\n",
    "df_1963['identifier'] = df_1963['identifier'].apply(split_values)"
   ]
  },
  {
   "cell_type": "code",
   "execution_count": 98,
   "metadata": {},
   "outputs": [],
   "source": [
    "df_1963.drop(columns=['stop_description', \"stop_id_other\"], inplace=True)"
   ]
  },
  {
   "cell_type": "code",
   "execution_count": 99,
   "metadata": {},
   "outputs": [],
   "source": [
    "# Function to concatenate unique values in other columns\n",
    "def concat_unique_values(series):\n",
    "    unique_values = set(series)\n",
    "    return '+ '.join(unique_values)\n",
    "\n",
    "# Group by specified columns and aggregate the other columns\n",
    "df_1963 = df_1963.groupby(['stop_name', 'type', 'in_lines', 'location']).agg({\n",
    "    'identifier': concat_unique_values,\n",
    "    'previous_in_lines': concat_unique_values\n",
    "}).reset_index()"
   ]
  },
  {
   "cell_type": "code",
   "execution_count": 100,
   "metadata": {},
   "outputs": [],
   "source": [
    "df_1963.to_csv('1963-stops-combined.csv')"
   ]
  }
 ],
 "metadata": {
  "kernelspec": {
   "display_name": ".venv",
   "language": "python",
   "name": "python3"
  },
  "language_info": {
   "codemirror_mode": {
    "name": "ipython",
    "version": 3
   },
   "file_extension": ".py",
   "mimetype": "text/x-python",
   "name": "python",
   "nbconvert_exporter": "python",
   "pygments_lexer": "ipython3",
   "version": "3.12.6"
  }
 },
 "nbformat": 4,
 "nbformat_minor": 2
}
