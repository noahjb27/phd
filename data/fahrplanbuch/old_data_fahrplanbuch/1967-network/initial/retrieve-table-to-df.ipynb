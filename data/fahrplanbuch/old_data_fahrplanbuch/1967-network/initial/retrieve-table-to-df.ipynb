{
 "cells": [
  {
   "cell_type": "code",
   "execution_count": 1,
   "metadata": {},
   "outputs": [],
   "source": [
    "import pandas as pd"
   ]
  },
  {
   "cell_type": "code",
   "execution_count": 2,
   "metadata": {},
   "outputs": [],
   "source": [
    "# Read the CSV files into DataFrames\n",
    "df = pd.read_csv('line_data_1967.csv', encoding='utf-8')"
   ]
  },
  {
   "cell_type": "code",
   "execution_count": 3,
   "metadata": {},
   "outputs": [],
   "source": [
    "# Replace U+00a0 with regular whitespace in the entire DataFrame\n",
    "df.replace('\\u00a0', ' ', regex=True, inplace=True)"
   ]
  },
  {
   "cell_type": "code",
   "execution_count": 4,
   "metadata": {},
   "outputs": [
    {
     "data": {
      "text/html": [
       "<div>\n",
       "<style scoped>\n",
       "    .dataframe tbody tr th:only-of-type {\n",
       "        vertical-align: middle;\n",
       "    }\n",
       "\n",
       "    .dataframe tbody tr th {\n",
       "        vertical-align: top;\n",
       "    }\n",
       "\n",
       "    .dataframe thead th {\n",
       "        text-align: right;\n",
       "    }\n",
       "</style>\n",
       "<table border=\"1\" class=\"dataframe\">\n",
       "  <thead>\n",
       "    <tr style=\"text-align: right;\">\n",
       "      <th></th>\n",
       "      <th>line_name</th>\n",
       "      <th>Stops</th>\n",
       "      <th>Frequency</th>\n",
       "      <th>Length (time)</th>\n",
       "      <th>type</th>\n",
       "      <th>east-west</th>\n",
       "      <th>year</th>\n",
       "    </tr>\n",
       "  </thead>\n",
       "  <tbody>\n",
       "    <tr>\n",
       "      <th>0</th>\n",
       "      <td>3</td>\n",
       "      <td>Revalerstrasse - Warschauer Strasse - Holteist...</td>\n",
       "      <td>15.0</td>\n",
       "      <td>42.0</td>\n",
       "      <td>strassenbahn</td>\n",
       "      <td>Ost</td>\n",
       "      <td>1967</td>\n",
       "    </tr>\n",
       "    <tr>\n",
       "      <th>1</th>\n",
       "      <td>4</td>\n",
       "      <td>Markusstrasse - Ostbahnhof - Mühlenstrasse - R...</td>\n",
       "      <td>8.0</td>\n",
       "      <td>36.0</td>\n",
       "      <td>strassenbahn</td>\n",
       "      <td>Ost</td>\n",
       "      <td>1967</td>\n",
       "    </tr>\n",
       "    <tr>\n",
       "      <th>2</th>\n",
       "      <td>13</td>\n",
       "      <td>Hönower Wiesenweg Ecke Blockdammweg - Kraftwer...</td>\n",
       "      <td>8.0</td>\n",
       "      <td>42.0</td>\n",
       "      <td>strassenbahn</td>\n",
       "      <td>Ost</td>\n",
       "      <td>1967</td>\n",
       "    </tr>\n",
       "    <tr>\n",
       "      <th>3</th>\n",
       "      <td>22</td>\n",
       "      <td>Rosenthal, Hauptstrasse - Nordendstrasse - Kur...</td>\n",
       "      <td>12.0</td>\n",
       "      <td>29.0</td>\n",
       "      <td>strassenbahn</td>\n",
       "      <td>Ost</td>\n",
       "      <td>1967</td>\n",
       "    </tr>\n",
       "    <tr>\n",
       "      <th>4</th>\n",
       "      <td>46</td>\n",
       "      <td>Nordend - Ossietzkyplatz - Kurt-Fischer-Platz ...</td>\n",
       "      <td>10.0</td>\n",
       "      <td>44.0</td>\n",
       "      <td>strassenbahn</td>\n",
       "      <td>Ost</td>\n",
       "      <td>1967</td>\n",
       "    </tr>\n",
       "  </tbody>\n",
       "</table>\n",
       "</div>"
      ],
      "text/plain": [
       "  line_name                                              Stops  Frequency  \\\n",
       "0         3  Revalerstrasse - Warschauer Strasse - Holteist...       15.0   \n",
       "1         4  Markusstrasse - Ostbahnhof - Mühlenstrasse - R...        8.0   \n",
       "2        13  Hönower Wiesenweg Ecke Blockdammweg - Kraftwer...        8.0   \n",
       "3        22  Rosenthal, Hauptstrasse - Nordendstrasse - Kur...       12.0   \n",
       "4        46  Nordend - Ossietzkyplatz - Kurt-Fischer-Platz ...       10.0   \n",
       "\n",
       "   Length (time)          type east-west  year  \n",
       "0           42.0  strassenbahn       Ost  1967  \n",
       "1           36.0  strassenbahn       Ost  1967  \n",
       "2           42.0  strassenbahn       Ost  1967  \n",
       "3           29.0  strassenbahn       Ost  1967  \n",
       "4           44.0  strassenbahn       Ost  1967  "
      ]
     },
     "execution_count": 4,
     "metadata": {},
     "output_type": "execute_result"
    }
   ],
   "source": [
    "df.head()"
   ]
  },
  {
   "cell_type": "code",
   "execution_count": 10,
   "metadata": {},
   "outputs": [],
   "source": [
    "df['line_name'] = df['line_name'].astype(str).str.strip()\n",
    "df['Stops'] = df['Stops'].astype(str).str.strip()\n",
    "df['year'] = df['year'].astype(int)\n",
    "df['Frequency'] = pd.to_numeric(df['Frequency'], errors='coerce').fillna(0).astype(int)\n",
    "df['Length (time)'] = pd.to_numeric(df['Length (time)'], errors='coerce').fillna(0).astype(int)\n",
    "df['type'] = df['type'].astype(str).str.strip()\n",
    "df['east-west'] = df['east-west'].astype(str).str.strip()"
   ]
  },
  {
   "cell_type": "code",
   "execution_count": 5,
   "metadata": {},
   "outputs": [],
   "source": [
    "# Define a function to remove leftover parentheses from a column\n",
    "def remove_double_whitespace(text):\n",
    "    text = text.replace(\"   \", \" \")\n",
    "    text = text.replace(\"  \", \" \")\n",
    "    text = text.replace(\"–\", \"-\")\n",
    "    text = text.replace(\" - \", \" - \")\n",
    "    return text\n",
    "\n",
    "# Apply the function to the 'line_stops' column\n",
    "df['Stops'] = df['Stops'].apply(remove_double_whitespace)\n",
    "df['Stops'] = df['Stops'].str.replace(r'\\s*–\\s*', ' - ', regex=True)\n"
   ]
  },
  {
   "cell_type": "code",
   "execution_count": 6,
   "metadata": {},
   "outputs": [
    {
     "data": {
      "text/html": [
       "<div>\n",
       "<style scoped>\n",
       "    .dataframe tbody tr th:only-of-type {\n",
       "        vertical-align: middle;\n",
       "    }\n",
       "\n",
       "    .dataframe tbody tr th {\n",
       "        vertical-align: top;\n",
       "    }\n",
       "\n",
       "    .dataframe thead th {\n",
       "        text-align: right;\n",
       "    }\n",
       "</style>\n",
       "<table border=\"1\" class=\"dataframe\">\n",
       "  <thead>\n",
       "    <tr style=\"text-align: right;\">\n",
       "      <th></th>\n",
       "      <th>line_name</th>\n",
       "      <th>Stops</th>\n",
       "      <th>Frequency</th>\n",
       "      <th>Length (time)</th>\n",
       "      <th>type</th>\n",
       "      <th>east-west</th>\n",
       "      <th>year</th>\n",
       "    </tr>\n",
       "  </thead>\n",
       "  <tbody>\n",
       "  </tbody>\n",
       "</table>\n",
       "</div>"
      ],
      "text/plain": [
       "Empty DataFrame\n",
       "Columns: [line_name, Stops, Frequency, Length (time), type, east-west, year]\n",
       "Index: []"
      ]
     },
     "execution_count": 6,
     "metadata": {},
     "output_type": "execute_result"
    }
   ],
   "source": [
    "mask = df['Stops'].str.contains(\" - \").fillna(True)\n",
    "none_df = df[~mask]\n",
    "none_df"
   ]
  },
  {
   "cell_type": "code",
   "execution_count": 7,
   "metadata": {},
   "outputs": [
    {
     "data": {
      "text/html": [
       "<div>\n",
       "<style scoped>\n",
       "    .dataframe tbody tr th:only-of-type {\n",
       "        vertical-align: middle;\n",
       "    }\n",
       "\n",
       "    .dataframe tbody tr th {\n",
       "        vertical-align: top;\n",
       "    }\n",
       "\n",
       "    .dataframe thead th {\n",
       "        text-align: right;\n",
       "    }\n",
       "</style>\n",
       "<table border=\"1\" class=\"dataframe\">\n",
       "  <thead>\n",
       "    <tr style=\"text-align: right;\">\n",
       "      <th></th>\n",
       "      <th>line_name</th>\n",
       "      <th>Stops</th>\n",
       "      <th>Frequency</th>\n",
       "      <th>Length (time)</th>\n",
       "      <th>type</th>\n",
       "      <th>east-west</th>\n",
       "      <th>year</th>\n",
       "    </tr>\n",
       "  </thead>\n",
       "  <tbody>\n",
       "  </tbody>\n",
       "</table>\n",
       "</div>"
      ],
      "text/plain": [
       "Empty DataFrame\n",
       "Columns: [line_name, Stops, Frequency, Length (time), type, east-west, year]\n",
       "Index: []"
      ]
     },
     "execution_count": 7,
     "metadata": {},
     "output_type": "execute_result"
    }
   ],
   "source": [
    "# Filter rows where 'line_stops' is not a string\n",
    "non_string_rows = df[~df['Stops'].apply(lambda x: isinstance(x, str))]\n",
    "non_string_rows"
   ]
  },
  {
   "cell_type": "code",
   "execution_count": 8,
   "metadata": {},
   "outputs": [],
   "source": [
    "def extract_first_start_stop(string):\n",
    "    stations = string.split(\" - \")\n",
    "    first_station = stations[0]\n",
    "    last_station = stations[-1]\n",
    "    return f\"{first_station}<> {last_station}\""
   ]
  },
  {
   "cell_type": "code",
   "execution_count": 12,
   "metadata": {},
   "outputs": [],
   "source": [
    "def create_line_df(df):\n",
    "    line_df = pd.DataFrame({\n",
    "        'line_id': range(1, 1+len(df)),\n",
    "        'year': df['year'],\n",
    "        'line_name': df['line_name'],\n",
    "        'type': df[\"type\"],\n",
    "        \"start_stop\": df['Stops'].apply(extract_first_start_stop),\n",
    "        \"east_west\": df['east-west'],\n",
    "        \"Frequency\": df['Frequency'],\n",
    "        \"Length (time)\": df['Length (time)']\n",
    "    })\n",
    "    return line_df"
   ]
  },
  {
   "cell_type": "code",
   "execution_count": 10,
   "metadata": {},
   "outputs": [],
   "source": [
    "def create_stops_df(df):\n",
    "    # Split line1 into individual stops and stack them into a new dataframe\n",
    "    stops_df = df['Stops'].str.split(' - ', expand=True).stack().reset_index(level=1, drop=True).reset_index(name='stop_name')\n",
    "        \n",
    "    # Count the occurrences of each stop_name\n",
    "    stop_counts = stops_df['stop_name'].value_counts().reset_index()\n",
    "    stop_counts.columns = ['stop_name', 'line_count']\n",
    "\n",
    "    # Merge the count information back into the original DataFrame\n",
    "    stops_df = pd.merge(stops_df, stop_counts, on='stop_name', how='left')\n",
    "\n",
    "    # Clean the 'Stop Name' column by removing whitespace and non-breaking spaces\n",
    "    stops_df['stop_name'] = stops_df['stop_name'].str.replace(u'\\xa0', ' ').str.replace(u\"U+00a0\", \"\").str.replace(r'\\.{2,}', '.').str.replace(\"[Früh]\", \"\").str.strip()\n",
    "\n",
    "    # Create a dictionary where the keys are the stop names and the values are lists of line names that contain the stop.\n",
    "    stop_lines_dict = {}\n",
    "\n",
    "    # Iterate over the rows in the line_stops dataframe and update the dictionary with the line name for each stop in the line\n",
    "    for index, row in df.iterrows():\n",
    "        line_name = row['line_name']\n",
    "        stops = row['Stops'].split(' - ')\n",
    "        stop_type = row[\"type\"]\n",
    "        for stop in stops:\n",
    "            stop_name = stop.replace(u'\\xa0', ' ').replace(u\"U+00a0\", \"\").strip()\n",
    "            if stop_name in stop_lines_dict:\n",
    "                if stop_type in stop_lines_dict[stop_name]:\n",
    "                    stop_lines_dict[stop_name][stop_type].append(line_name)\n",
    "                else:\n",
    "                    stop_lines_dict[stop_name][stop_type] = [line_name]\n",
    "            else:\n",
    "                stop_lines_dict[stop_name] = {stop_type: [line_name]}\n",
    "\n",
    "    # Create a new DataFrame with the stops and their corresponding lines\n",
    "    stops_data = []\n",
    "    for stop_name, lines_by_type in stop_lines_dict.items():\n",
    "        row = {'stop_name': stop_name, 'type': lines_by_type}\n",
    "        stops_data.append(row)\n",
    "    stops_in_lines_df = pd.DataFrame(stops_data)\n",
    "\n",
    "    # Merge the count information back into the original DataFrame\n",
    "    stops_df = pd.merge(stops_df, stops_in_lines_df, on='stop_name', how='left')\n",
    "\n",
    "    return stops_df\n"
   ]
  },
  {
   "cell_type": "code",
   "execution_count": 13,
   "metadata": {},
   "outputs": [],
   "source": [
    "line_df = create_line_df(df)\n",
    "stops_df = create_stops_df(df)"
   ]
  },
  {
   "cell_type": "code",
   "execution_count": 14,
   "metadata": {},
   "outputs": [],
   "source": [
    "# Function to transform dictionary values to nested lists\n",
    "def transform_dict_to_nested_list(d):\n",
    "    if isinstance(d, dict):\n",
    "        nested_list = []\n",
    "        for key, value in d.items():\n",
    "            nested_list.append([key, value])\n",
    "        return nested_list\n",
    "    else:\n",
    "        print(d)\n",
    "        return d\n",
    "\n",
    "# Apply the transformation to the 'type' column\n",
    "stops_df['type'] = stops_df['type'].apply(transform_dict_to_nested_list)\n",
    "stops_df = stops_df.explode('type').reset_index(drop=True)"
   ]
  },
  {
   "cell_type": "code",
   "execution_count": 15,
   "metadata": {},
   "outputs": [],
   "source": [
    "stops_df[\"row_type\"] = None\n",
    "stops_df[\"in_lines\"] = None\n",
    "for index, row in stops_df.iterrows():\n",
    "    try:\n",
    "        row_type = row[\"type\"][0]\n",
    "        stops_df.at[index, \"row_type\"] = row_type\n",
    "        if len(row[\"type\"]) > 1:\n",
    "            lines = row[\"type\"][1]\n",
    "            lines = list(set(lines))\n",
    "            stops_df.at[index, \"in_lines\"] = lines\n",
    "    except:\n",
    "        print(row)\n",
    "stops_df.drop(columns=\"type\", inplace=True)\n",
    "stops_df.drop(columns=\"index\", inplace=True)\n",
    "\n",
    "# Rename the 'row_type' column to 'type'\n",
    "stops_df.rename(columns={'row_type': 'type'}, inplace=True)"
   ]
  },
  {
   "cell_type": "code",
   "execution_count": 16,
   "metadata": {},
   "outputs": [
    {
     "data": {
      "text/html": [
       "<div>\n",
       "<style scoped>\n",
       "    .dataframe tbody tr th:only-of-type {\n",
       "        vertical-align: middle;\n",
       "    }\n",
       "\n",
       "    .dataframe tbody tr th {\n",
       "        vertical-align: top;\n",
       "    }\n",
       "\n",
       "    .dataframe thead th {\n",
       "        text-align: right;\n",
       "    }\n",
       "</style>\n",
       "<table border=\"1\" class=\"dataframe\">\n",
       "  <thead>\n",
       "    <tr style=\"text-align: right;\">\n",
       "      <th></th>\n",
       "      <th>stop_name</th>\n",
       "      <th>line_count</th>\n",
       "      <th>type</th>\n",
       "      <th>in_lines</th>\n",
       "    </tr>\n",
       "  </thead>\n",
       "  <tbody>\n",
       "    <tr>\n",
       "      <th>0</th>\n",
       "      <td>Revalerstrasse</td>\n",
       "      <td>2</td>\n",
       "      <td>strassenbahn</td>\n",
       "      <td>[4, 3]</td>\n",
       "    </tr>\n",
       "    <tr>\n",
       "      <th>1</th>\n",
       "      <td>Warschauer Strasse</td>\n",
       "      <td>3</td>\n",
       "      <td>strassenbahn</td>\n",
       "      <td>[82, 3]</td>\n",
       "    </tr>\n",
       "    <tr>\n",
       "      <th>2</th>\n",
       "      <td>Warschauer Strasse</td>\n",
       "      <td>3</td>\n",
       "      <td>bus</td>\n",
       "      <td>[O30]</td>\n",
       "    </tr>\n",
       "    <tr>\n",
       "      <th>3</th>\n",
       "      <td>Holteistrasse Ecke Boxhagenerstrasse</td>\n",
       "      <td>2</td>\n",
       "      <td>strassenbahn</td>\n",
       "      <td>[13, 3]</td>\n",
       "    </tr>\n",
       "    <tr>\n",
       "      <th>4</th>\n",
       "      <td>Bhf. Frankfurter Allee</td>\n",
       "      <td>1</td>\n",
       "      <td>strassenbahn</td>\n",
       "      <td>[3]</td>\n",
       "    </tr>\n",
       "  </tbody>\n",
       "</table>\n",
       "</div>"
      ],
      "text/plain": [
       "                              stop_name  line_count          type in_lines\n",
       "0                        Revalerstrasse           2  strassenbahn   [4, 3]\n",
       "1                    Warschauer Strasse           3  strassenbahn  [82, 3]\n",
       "2                    Warschauer Strasse           3           bus    [O30]\n",
       "3  Holteistrasse Ecke Boxhagenerstrasse           2  strassenbahn  [13, 3]\n",
       "4                Bhf. Frankfurter Allee           1  strassenbahn      [3]"
      ]
     },
     "execution_count": 16,
     "metadata": {},
     "output_type": "execute_result"
    }
   ],
   "source": [
    "stops_df.head()"
   ]
  },
  {
   "cell_type": "code",
   "execution_count": 17,
   "metadata": {},
   "outputs": [],
   "source": [
    "stops_df.to_csv(\"stops_df_1967-initial.csv\")"
   ]
  }
 ],
 "metadata": {
  "kernelspec": {
   "display_name": "thesis-coding",
   "language": "python",
   "name": "python3"
  },
  "language_info": {
   "codemirror_mode": {
    "name": "ipython",
    "version": 3
   },
   "file_extension": ".py",
   "mimetype": "text/x-python",
   "name": "python",
   "nbconvert_exporter": "python",
   "pygments_lexer": "ipython3",
   "version": "3.11.6"
  },
  "orig_nbformat": 4
 },
 "nbformat": 4,
 "nbformat_minor": 2
}
