{
 "cells": [
  {
   "cell_type": "code",
   "execution_count": 36,
   "metadata": {},
   "outputs": [],
   "source": [
    "import pandas as pd\n",
    "import re"
   ]
  },
  {
   "cell_type": "code",
   "execution_count": 37,
   "metadata": {},
   "outputs": [],
   "source": [
    "df_stops = pd.read_csv(\"1967-stops-localised-final.csv\")  "
   ]
  },
  {
   "cell_type": "code",
   "execution_count": 38,
   "metadata": {},
   "outputs": [],
   "source": [
    "df_stops.drop(['Column'], axis=1, inplace=True)\n",
    "df_stops['stop_name'] = df_stops['stop_name'].astype(str).str.strip()\n",
    "df_stops['location'] = df_stops['location'].astype(str).str.strip()"
   ]
  },
  {
   "cell_type": "code",
   "execution_count": 39,
   "metadata": {},
   "outputs": [
    {
     "name": "stdout",
     "output_type": "stream",
     "text": [
      "<class 'pandas.core.frame.DataFrame'>\n",
      "RangeIndex: 1370 entries, 0 to 1369\n",
      "Data columns (total 7 columns):\n",
      " #   Column             Non-Null Count  Dtype \n",
      "---  ------             --------------  ----- \n",
      " 0   stop_name          1370 non-null   object\n",
      " 1   type               1370 non-null   object\n",
      " 2   in_lines           1370 non-null   object\n",
      " 3   location           1370 non-null   object\n",
      " 4   identifier         360 non-null    object\n",
      " 5   previous_in_lines  981 non-null    object\n",
      " 6   stop_description   722 non-null    object\n",
      "dtypes: object(7)\n",
      "memory usage: 75.1+ KB\n"
     ]
    }
   ],
   "source": [
    "df_stops.info()"
   ]
  },
  {
   "cell_type": "code",
   "execution_count": 40,
   "metadata": {},
   "outputs": [],
   "source": [
    "split_df = pd.concat([df_stops[col].astype(str).str.split(';', expand=True).stack().str.strip() for col in df_stops.columns], axis=1, keys=df_stops.columns)\n",
    "df_stops = split_df.groupby(level=0).ffill().reset_index(drop=True)"
   ]
  },
  {
   "cell_type": "code",
   "execution_count": 41,
   "metadata": {},
   "outputs": [
    {
     "name": "stdout",
     "output_type": "stream",
     "text": [
      "<class 'pandas.core.frame.DataFrame'>\n",
      "RangeIndex: 1372 entries, 0 to 1371\n",
      "Data columns (total 6 columns):\n",
      " #   Column      Non-Null Count  Dtype \n",
      "---  ------      --------------  ----- \n",
      " 0   stop_id     1372 non-null   int64 \n",
      " 1   stop_name   1372 non-null   object\n",
      " 2   type        1372 non-null   object\n",
      " 3   location    1372 non-null   object\n",
      " 4   in_lines    1372 non-null   object\n",
      " 5   identifier  1372 non-null   object\n",
      "dtypes: int64(1), object(5)\n",
      "memory usage: 64.4+ KB\n"
     ]
    }
   ],
   "source": [
    "df_stops = df_stops.fillna('').groupby(['stop_name', 'type', 'location']).agg({\n",
    "    'in_lines': ', '.join,\n",
    "    'identifier': ', '.join\n",
    "}).reset_index()\n",
    "\n",
    "# Reset the index\n",
    "df_stops.reset_index(inplace=True)\n",
    "df_stops.rename(columns={'index': 'stop_id'}, inplace=True)\n",
    "\n",
    "df_stops.info()"
   ]
  },
  {
   "cell_type": "code",
   "execution_count": 42,
   "metadata": {},
   "outputs": [],
   "source": [
    "df_line = pd.read_csv(\"line_data_1967.csv\")  "
   ]
  },
  {
   "cell_type": "code",
   "execution_count": 43,
   "metadata": {},
   "outputs": [],
   "source": [
    "for index, row in df_line.iterrows():\n",
    "    # Check if the regex pattern (lowercase 's' or 'x' at the end) is found in the \"in_lines\" column\n",
    "    if re.search(r'[sx]$', row[\"line_name\"].lower()):\n",
    "        # Delete the section called for in the regex\n",
    "        df_line.at[index, \"line_name\"] = re.sub(r'[sx]$', '', row[\"line_name\"])\n"
   ]
  },
  {
   "cell_type": "code",
   "execution_count": 44,
   "metadata": {},
   "outputs": [],
   "source": [
    "# Replace U+00a0 with regular whitespace in the entire DataFrame\n",
    "df_line.replace('\\u00a0', ' ', regex=True, inplace=True)"
   ]
  },
  {
   "cell_type": "code",
   "execution_count": 45,
   "metadata": {},
   "outputs": [
    {
     "data": {
      "text/html": [
       "<div>\n",
       "<style scoped>\n",
       "    .dataframe tbody tr th:only-of-type {\n",
       "        vertical-align: middle;\n",
       "    }\n",
       "\n",
       "    .dataframe tbody tr th {\n",
       "        vertical-align: top;\n",
       "    }\n",
       "\n",
       "    .dataframe thead th {\n",
       "        text-align: right;\n",
       "    }\n",
       "</style>\n",
       "<table border=\"1\" class=\"dataframe\">\n",
       "  <thead>\n",
       "    <tr style=\"text-align: right;\">\n",
       "      <th></th>\n",
       "      <th>line_name</th>\n",
       "      <th>Stops</th>\n",
       "      <th>Frequency</th>\n",
       "      <th>Length (time)</th>\n",
       "      <th>type</th>\n",
       "      <th>east-west</th>\n",
       "      <th>year</th>\n",
       "    </tr>\n",
       "  </thead>\n",
       "  <tbody>\n",
       "    <tr>\n",
       "      <th>0</th>\n",
       "      <td>3</td>\n",
       "      <td>Revalerstrasse - Warschauer Strasse - Holteist...</td>\n",
       "      <td>15.0</td>\n",
       "      <td>42.0</td>\n",
       "      <td>strassenbahn</td>\n",
       "      <td>Ost</td>\n",
       "      <td>1967</td>\n",
       "    </tr>\n",
       "    <tr>\n",
       "      <th>1</th>\n",
       "      <td>4</td>\n",
       "      <td>Markusstrasse - Ostbahnhof - Mühlenstrasse - R...</td>\n",
       "      <td>8.0</td>\n",
       "      <td>36.0</td>\n",
       "      <td>strassenbahn</td>\n",
       "      <td>Ost</td>\n",
       "      <td>1967</td>\n",
       "    </tr>\n",
       "  </tbody>\n",
       "</table>\n",
       "</div>"
      ],
      "text/plain": [
       "  line_name                                              Stops  Frequency  \\\n",
       "0         3  Revalerstrasse - Warschauer Strasse - Holteist...       15.0   \n",
       "1         4  Markusstrasse - Ostbahnhof - Mühlenstrasse - R...        8.0   \n",
       "\n",
       "   Length (time)          type east-west  year  \n",
       "0           42.0  strassenbahn       Ost  1967  \n",
       "1           36.0  strassenbahn       Ost  1967  "
      ]
     },
     "execution_count": 45,
     "metadata": {},
     "output_type": "execute_result"
    }
   ],
   "source": [
    "df_line.head(2)"
   ]
  },
  {
   "cell_type": "code",
   "execution_count": 46,
   "metadata": {},
   "outputs": [
    {
     "data": {
      "text/html": [
       "<div>\n",
       "<style scoped>\n",
       "    .dataframe tbody tr th:only-of-type {\n",
       "        vertical-align: middle;\n",
       "    }\n",
       "\n",
       "    .dataframe tbody tr th {\n",
       "        vertical-align: top;\n",
       "    }\n",
       "\n",
       "    .dataframe thead th {\n",
       "        text-align: right;\n",
       "    }\n",
       "</style>\n",
       "<table border=\"1\" class=\"dataframe\">\n",
       "  <thead>\n",
       "    <tr style=\"text-align: right;\">\n",
       "      <th></th>\n",
       "      <th>stop_id</th>\n",
       "      <th>stop_name</th>\n",
       "      <th>type</th>\n",
       "      <th>location</th>\n",
       "      <th>in_lines</th>\n",
       "      <th>identifier</th>\n",
       "    </tr>\n",
       "  </thead>\n",
       "  <tbody>\n",
       "    <tr>\n",
       "      <th>0</th>\n",
       "      <td>19670</td>\n",
       "      <td>4. Ring</td>\n",
       "      <td>bus</td>\n",
       "      <td>52.42250630689789, 13.2869490566549</td>\n",
       "      <td>['A53']</td>\n",
       "      <td>nan</td>\n",
       "    </tr>\n",
       "    <tr>\n",
       "      <th>1</th>\n",
       "      <td>19671</td>\n",
       "      <td>Aalemannufer Ecke Nieder-Neuendorfer Allee</td>\n",
       "      <td>bus</td>\n",
       "      <td>52.57329463126187, 13.21256579715856</td>\n",
       "      <td>['A97']</td>\n",
       "      <td>nan</td>\n",
       "    </tr>\n",
       "  </tbody>\n",
       "</table>\n",
       "</div>"
      ],
      "text/plain": [
       "  stop_id                                   stop_name type  \\\n",
       "0   19670                                     4. Ring  bus   \n",
       "1   19671  Aalemannufer Ecke Nieder-Neuendorfer Allee  bus   \n",
       "\n",
       "                               location in_lines identifier  \n",
       "0   52.42250630689789, 13.2869490566549  ['A53']        nan  \n",
       "1  52.57329463126187, 13.21256579715856  ['A97']        nan  "
      ]
     },
     "execution_count": 46,
     "metadata": {},
     "output_type": "execute_result"
    }
   ],
   "source": [
    "# Assuming df is your DataFrame and 'stop_id' is the column you want to modify\n",
    "df_stops['stop_id'] = '1967' + df_stops['stop_id'].astype(str)\n",
    "df_stops.head(2)"
   ]
  },
  {
   "cell_type": "code",
   "execution_count": 47,
   "metadata": {},
   "outputs": [],
   "source": [
    "df_line['line_name'] = df_line['line_name'].astype(str).str.strip()\n",
    "df_line['Stops'] = df_line['Stops'].astype(str).str.strip()\n",
    "df_line['year'] = df_line['year'].astype(int)\n",
    "df_line['Frequency'] = pd.to_numeric(df_line['Frequency'], errors='coerce').fillna(0).astype(int)\n",
    "df_line['Length (time)'] = pd.to_numeric(df_line['Length (time)'], errors='coerce').fillna(0).astype(int)"
   ]
  },
  {
   "cell_type": "code",
   "execution_count": 48,
   "metadata": {},
   "outputs": [],
   "source": [
    "# Define a function to remove leftover parentheses from a column\n",
    "def remove_double_whitespace(text):\n",
    "    text = text.replace(\"   \", \" \")\n",
    "    text = text.replace(\"  \", \" \")\n",
    "    text = text.replace(\"–\", \"-\")\n",
    "    text = text.replace(\" - \", \" - \")\n",
    "    return text\n",
    "\n",
    "# Apply the function to the 'line_stops' column\n",
    "df_line['Stops'] = df_line['Stops'].apply(remove_double_whitespace)\n",
    "df_line['Stops'] = df_line['Stops'].str.replace(r'\\s*–\\s*', ' - ', regex=True)"
   ]
  },
  {
   "cell_type": "code",
   "execution_count": 49,
   "metadata": {},
   "outputs": [
    {
     "data": {
      "text/html": [
       "<div>\n",
       "<style scoped>\n",
       "    .dataframe tbody tr th:only-of-type {\n",
       "        vertical-align: middle;\n",
       "    }\n",
       "\n",
       "    .dataframe tbody tr th {\n",
       "        vertical-align: top;\n",
       "    }\n",
       "\n",
       "    .dataframe thead th {\n",
       "        text-align: right;\n",
       "    }\n",
       "</style>\n",
       "<table border=\"1\" class=\"dataframe\">\n",
       "  <thead>\n",
       "    <tr style=\"text-align: right;\">\n",
       "      <th></th>\n",
       "      <th>line_name</th>\n",
       "      <th>Stops</th>\n",
       "      <th>Frequency</th>\n",
       "      <th>Length (time)</th>\n",
       "      <th>type</th>\n",
       "      <th>east-west</th>\n",
       "      <th>year</th>\n",
       "    </tr>\n",
       "  </thead>\n",
       "  <tbody>\n",
       "  </tbody>\n",
       "</table>\n",
       "</div>"
      ],
      "text/plain": [
       "Empty DataFrame\n",
       "Columns: [line_name, Stops, Frequency, Length (time), type, east-west, year]\n",
       "Index: []"
      ]
     },
     "execution_count": 49,
     "metadata": {},
     "output_type": "execute_result"
    }
   ],
   "source": [
    "mask = df_line['Stops'].str.contains(\" - \").fillna(True)\n",
    "none_df = df_line[~mask]\n",
    "none_df"
   ]
  },
  {
   "cell_type": "code",
   "execution_count": 50,
   "metadata": {},
   "outputs": [
    {
     "data": {
      "text/html": [
       "<div>\n",
       "<style scoped>\n",
       "    .dataframe tbody tr th:only-of-type {\n",
       "        vertical-align: middle;\n",
       "    }\n",
       "\n",
       "    .dataframe tbody tr th {\n",
       "        vertical-align: top;\n",
       "    }\n",
       "\n",
       "    .dataframe thead th {\n",
       "        text-align: right;\n",
       "    }\n",
       "</style>\n",
       "<table border=\"1\" class=\"dataframe\">\n",
       "  <thead>\n",
       "    <tr style=\"text-align: right;\">\n",
       "      <th></th>\n",
       "      <th>line_name</th>\n",
       "      <th>Stops</th>\n",
       "      <th>Frequency</th>\n",
       "      <th>Length (time)</th>\n",
       "      <th>type</th>\n",
       "      <th>east-west</th>\n",
       "      <th>year</th>\n",
       "    </tr>\n",
       "  </thead>\n",
       "  <tbody>\n",
       "  </tbody>\n",
       "</table>\n",
       "</div>"
      ],
      "text/plain": [
       "Empty DataFrame\n",
       "Columns: [line_name, Stops, Frequency, Length (time), type, east-west, year]\n",
       "Index: []"
      ]
     },
     "execution_count": 50,
     "metadata": {},
     "output_type": "execute_result"
    }
   ],
   "source": [
    "# Filter rows where 'line_stops' is not a string\n",
    "non_string_rows = df_line[~df_line['Stops'].apply(lambda x: isinstance(x, str))]\n",
    "non_string_rows"
   ]
  },
  {
   "cell_type": "code",
   "execution_count": 51,
   "metadata": {},
   "outputs": [],
   "source": [
    "### Creating related tables"
   ]
  },
  {
   "cell_type": "code",
   "execution_count": 52,
   "metadata": {},
   "outputs": [],
   "source": [
    "def extract_first_start_stop(string):\n",
    "    stations = string.split(\" - \")\n",
    "    first_station = stations[0]\n",
    "    last_station = stations[-1]\n",
    "    return f\"{first_station}<> {last_station}\""
   ]
  },
  {
   "cell_type": "code",
   "execution_count": 53,
   "metadata": {},
   "outputs": [],
   "source": [
    "def create_line_df(df):\n",
    "    line_df = pd.DataFrame({\n",
    "        'line_id': range(1, 1+len(df)),\n",
    "        'year': df['year'],\n",
    "        'line_name': df['line_name'],\n",
    "        'type': df[\"type\"],\n",
    "        \"start_stop\": df['Stops'].apply(extract_first_start_stop),\n",
    "        \"Length (time)\": df['Length (time)'],\n",
    "        \"east_west\": df['east-west'],\n",
    "        \"Frequency\": df['Frequency']\n",
    "    })\n",
    "    return line_df"
   ]
  },
  {
   "cell_type": "code",
   "execution_count": 54,
   "metadata": {},
   "outputs": [],
   "source": [
    "line_df = create_line_df(df_line)"
   ]
  },
  {
   "cell_type": "code",
   "execution_count": 55,
   "metadata": {},
   "outputs": [
    {
     "data": {
      "text/html": [
       "<div>\n",
       "<style scoped>\n",
       "    .dataframe tbody tr th:only-of-type {\n",
       "        vertical-align: middle;\n",
       "    }\n",
       "\n",
       "    .dataframe tbody tr th {\n",
       "        vertical-align: top;\n",
       "    }\n",
       "\n",
       "    .dataframe thead th {\n",
       "        text-align: right;\n",
       "    }\n",
       "</style>\n",
       "<table border=\"1\" class=\"dataframe\">\n",
       "  <thead>\n",
       "    <tr style=\"text-align: right;\">\n",
       "      <th></th>\n",
       "      <th>line_id</th>\n",
       "      <th>year</th>\n",
       "      <th>line_name</th>\n",
       "      <th>type</th>\n",
       "      <th>start_stop</th>\n",
       "      <th>Length (time)</th>\n",
       "      <th>east_west</th>\n",
       "      <th>Frequency</th>\n",
       "    </tr>\n",
       "  </thead>\n",
       "  <tbody>\n",
       "    <tr>\n",
       "      <th>0</th>\n",
       "      <td>1</td>\n",
       "      <td>1967</td>\n",
       "      <td>3</td>\n",
       "      <td>strassenbahn</td>\n",
       "      <td>Revalerstrasse&lt;&gt; Björnsonstrasse</td>\n",
       "      <td>42</td>\n",
       "      <td>Ost</td>\n",
       "      <td>15</td>\n",
       "    </tr>\n",
       "    <tr>\n",
       "      <th>1</th>\n",
       "      <td>2</td>\n",
       "      <td>1967</td>\n",
       "      <td>4</td>\n",
       "      <td>strassenbahn</td>\n",
       "      <td>Markusstrasse&lt;&gt; Eberswalderstrasse Ecke Oderbe...</td>\n",
       "      <td>36</td>\n",
       "      <td>Ost</td>\n",
       "      <td>8</td>\n",
       "    </tr>\n",
       "  </tbody>\n",
       "</table>\n",
       "</div>"
      ],
      "text/plain": [
       "   line_id  year line_name          type  \\\n",
       "0        1  1967         3  strassenbahn   \n",
       "1        2  1967         4  strassenbahn   \n",
       "\n",
       "                                          start_stop  Length (time) east_west  \\\n",
       "0                   Revalerstrasse<> Björnsonstrasse             42       Ost   \n",
       "1  Markusstrasse<> Eberswalderstrasse Ecke Oderbe...             36       Ost   \n",
       "\n",
       "   Frequency  \n",
       "0         15  \n",
       "1          8  "
      ]
     },
     "execution_count": 55,
     "metadata": {},
     "output_type": "execute_result"
    }
   ],
   "source": [
    "line_df.head(2)"
   ]
  },
  {
   "cell_type": "code",
   "execution_count": 56,
   "metadata": {},
   "outputs": [
    {
     "data": {
      "text/html": [
       "<div>\n",
       "<style scoped>\n",
       "    .dataframe tbody tr th:only-of-type {\n",
       "        vertical-align: middle;\n",
       "    }\n",
       "\n",
       "    .dataframe tbody tr th {\n",
       "        vertical-align: top;\n",
       "    }\n",
       "\n",
       "    .dataframe thead th {\n",
       "        text-align: right;\n",
       "    }\n",
       "</style>\n",
       "<table border=\"1\" class=\"dataframe\">\n",
       "  <thead>\n",
       "    <tr style=\"text-align: right;\">\n",
       "      <th></th>\n",
       "      <th>line_id</th>\n",
       "      <th>year</th>\n",
       "      <th>line_name</th>\n",
       "      <th>type</th>\n",
       "      <th>start_stop</th>\n",
       "      <th>Length (time)</th>\n",
       "      <th>east_west</th>\n",
       "      <th>Frequency</th>\n",
       "    </tr>\n",
       "  </thead>\n",
       "  <tbody>\n",
       "    <tr>\n",
       "      <th>0</th>\n",
       "      <td>19671</td>\n",
       "      <td>1967</td>\n",
       "      <td>3</td>\n",
       "      <td>strassenbahn</td>\n",
       "      <td>Revalerstrasse&lt;&gt; Björnsonstrasse</td>\n",
       "      <td>42</td>\n",
       "      <td>Ost</td>\n",
       "      <td>15</td>\n",
       "    </tr>\n",
       "    <tr>\n",
       "      <th>1</th>\n",
       "      <td>19672</td>\n",
       "      <td>1967</td>\n",
       "      <td>4</td>\n",
       "      <td>strassenbahn</td>\n",
       "      <td>Markusstrasse&lt;&gt; Eberswalderstrasse Ecke Oderbe...</td>\n",
       "      <td>36</td>\n",
       "      <td>Ost</td>\n",
       "      <td>8</td>\n",
       "    </tr>\n",
       "  </tbody>\n",
       "</table>\n",
       "</div>"
      ],
      "text/plain": [
       "  line_id  year line_name          type  \\\n",
       "0   19671  1967         3  strassenbahn   \n",
       "1   19672  1967         4  strassenbahn   \n",
       "\n",
       "                                          start_stop  Length (time) east_west  \\\n",
       "0                   Revalerstrasse<> Björnsonstrasse             42       Ost   \n",
       "1  Markusstrasse<> Eberswalderstrasse Ecke Oderbe...             36       Ost   \n",
       "\n",
       "   Frequency  \n",
       "0         15  \n",
       "1          8  "
      ]
     },
     "execution_count": 56,
     "metadata": {},
     "output_type": "execute_result"
    }
   ],
   "source": [
    "# Assuming df is your DataFrame and 'stop_id' is the column you want to modify\n",
    "line_df['line_id'] = '1967' + line_df['line_id'].astype(str)\n",
    "line_df.head(2)"
   ]
  },
  {
   "cell_type": "code",
   "execution_count": 57,
   "metadata": {},
   "outputs": [],
   "source": [
    "def create_line_stops_df(df):\n",
    "    line_stops = df['Stops'].str.split(' - ', expand=True).stack().reset_index(level=1, drop=True).reset_index(name='stop_name')\n",
    "\n",
    "    line_stops['stop_order'] = line_stops.groupby('index').cumcount()\n",
    "    #index starts from 0 so it looks like 1 row is missing but this is not true\n",
    "\n",
    "    # Clean the 'Stop Name' column by removing whitespace and non-breaking spaces\n",
    "    line_stops['stop_name'] = line_stops['stop_name'].str.replace(u'\\xa0', ' ').str.strip()\n",
    "\n",
    "    # reset index so that it can be used for foreign key\n",
    "\n",
    "    return line_stops"
   ]
  },
  {
   "cell_type": "code",
   "execution_count": 58,
   "metadata": {},
   "outputs": [],
   "source": [
    "line_stops_df = create_line_stops_df(df_line)"
   ]
  },
  {
   "cell_type": "code",
   "execution_count": 59,
   "metadata": {},
   "outputs": [
    {
     "data": {
      "text/html": [
       "<div>\n",
       "<style scoped>\n",
       "    .dataframe tbody tr th:only-of-type {\n",
       "        vertical-align: middle;\n",
       "    }\n",
       "\n",
       "    .dataframe tbody tr th {\n",
       "        vertical-align: top;\n",
       "    }\n",
       "\n",
       "    .dataframe thead th {\n",
       "        text-align: right;\n",
       "    }\n",
       "</style>\n",
       "<table border=\"1\" class=\"dataframe\">\n",
       "  <thead>\n",
       "    <tr style=\"text-align: right;\">\n",
       "      <th></th>\n",
       "      <th>line_id</th>\n",
       "      <th>stop_name</th>\n",
       "      <th>stop_order</th>\n",
       "    </tr>\n",
       "  </thead>\n",
       "  <tbody>\n",
       "    <tr>\n",
       "      <th>0</th>\n",
       "      <td>1</td>\n",
       "      <td>Revalerstrasse</td>\n",
       "      <td>0</td>\n",
       "    </tr>\n",
       "    <tr>\n",
       "      <th>1</th>\n",
       "      <td>1</td>\n",
       "      <td>Warschauer Strasse</td>\n",
       "      <td>1</td>\n",
       "    </tr>\n",
       "    <tr>\n",
       "      <th>2</th>\n",
       "      <td>1</td>\n",
       "      <td>Holteistrasse Ecke Boxhagenerstrasse</td>\n",
       "      <td>2</td>\n",
       "    </tr>\n",
       "    <tr>\n",
       "      <th>3</th>\n",
       "      <td>1</td>\n",
       "      <td>Bhf. Frankfurter Allee</td>\n",
       "      <td>3</td>\n",
       "    </tr>\n",
       "    <tr>\n",
       "      <th>4</th>\n",
       "      <td>1</td>\n",
       "      <td>Roederplatz</td>\n",
       "      <td>4</td>\n",
       "    </tr>\n",
       "    <tr>\n",
       "      <th>...</th>\n",
       "      <td>...</td>\n",
       "      <td>...</td>\n",
       "      <td>...</td>\n",
       "    </tr>\n",
       "    <tr>\n",
       "      <th>1964</th>\n",
       "      <td>176</td>\n",
       "      <td>Herzbergstrasse</td>\n",
       "      <td>9</td>\n",
       "    </tr>\n",
       "    <tr>\n",
       "      <th>1965</th>\n",
       "      <td>176</td>\n",
       "      <td>Roederplatz</td>\n",
       "      <td>10</td>\n",
       "    </tr>\n",
       "    <tr>\n",
       "      <th>1966</th>\n",
       "      <td>176</td>\n",
       "      <td>Steuerhaus</td>\n",
       "      <td>11</td>\n",
       "    </tr>\n",
       "    <tr>\n",
       "      <th>1967</th>\n",
       "      <td>176</td>\n",
       "      <td>Dimitroffstrasse Ecke Landsberger Allee</td>\n",
       "      <td>12</td>\n",
       "    </tr>\n",
       "    <tr>\n",
       "      <th>1968</th>\n",
       "      <td>176</td>\n",
       "      <td>Kniprodestrasse</td>\n",
       "      <td>13</td>\n",
       "    </tr>\n",
       "  </tbody>\n",
       "</table>\n",
       "<p>1969 rows × 3 columns</p>\n",
       "</div>"
      ],
      "text/plain": [
       "      line_id                                stop_name  stop_order\n",
       "0           1                           Revalerstrasse           0\n",
       "1           1                       Warschauer Strasse           1\n",
       "2           1     Holteistrasse Ecke Boxhagenerstrasse           2\n",
       "3           1                   Bhf. Frankfurter Allee           3\n",
       "4           1                              Roederplatz           4\n",
       "...       ...                                      ...         ...\n",
       "1964      176                          Herzbergstrasse           9\n",
       "1965      176                              Roederplatz          10\n",
       "1966      176                               Steuerhaus          11\n",
       "1967      176  Dimitroffstrasse Ecke Landsberger Allee          12\n",
       "1968      176                          Kniprodestrasse          13\n",
       "\n",
       "[1969 rows x 3 columns]"
      ]
     },
     "execution_count": 59,
     "metadata": {},
     "output_type": "execute_result"
    }
   ],
   "source": [
    "for index, row in line_stops_df.iterrows():\n",
    "    line_stops_df.at[index, \"index\"] = row[\"index\"] + 1\n",
    "line_stops_df.rename(columns={'index': 'line_id'}, inplace=True)\n",
    "\n",
    "line_stops_df"
   ]
  },
  {
   "cell_type": "code",
   "execution_count": 60,
   "metadata": {},
   "outputs": [
    {
     "data": {
      "text/html": [
       "<div>\n",
       "<style scoped>\n",
       "    .dataframe tbody tr th:only-of-type {\n",
       "        vertical-align: middle;\n",
       "    }\n",
       "\n",
       "    .dataframe tbody tr th {\n",
       "        vertical-align: top;\n",
       "    }\n",
       "\n",
       "    .dataframe thead th {\n",
       "        text-align: right;\n",
       "    }\n",
       "</style>\n",
       "<table border=\"1\" class=\"dataframe\">\n",
       "  <thead>\n",
       "    <tr style=\"text-align: right;\">\n",
       "      <th></th>\n",
       "      <th>line_id</th>\n",
       "      <th>stop_name</th>\n",
       "      <th>stop_order</th>\n",
       "    </tr>\n",
       "  </thead>\n",
       "  <tbody>\n",
       "    <tr>\n",
       "      <th>0</th>\n",
       "      <td>19671</td>\n",
       "      <td>Revalerstrasse</td>\n",
       "      <td>0</td>\n",
       "    </tr>\n",
       "    <tr>\n",
       "      <th>1</th>\n",
       "      <td>19671</td>\n",
       "      <td>Warschauer Strasse</td>\n",
       "      <td>1</td>\n",
       "    </tr>\n",
       "  </tbody>\n",
       "</table>\n",
       "</div>"
      ],
      "text/plain": [
       "  line_id           stop_name  stop_order\n",
       "0   19671      Revalerstrasse           0\n",
       "1   19671  Warschauer Strasse           1"
      ]
     },
     "execution_count": 60,
     "metadata": {},
     "output_type": "execute_result"
    }
   ],
   "source": [
    "# Assuming df is your DataFrame and 'stop_id' is the column you want to modify\n",
    "line_stops_df['line_id'] = '1967' + line_stops_df['line_id'].astype(str)\n",
    "line_stops_df.head(2)"
   ]
  },
  {
   "cell_type": "code",
   "execution_count": 61,
   "metadata": {},
   "outputs": [],
   "source": [
    "# get a list of unique Line IDs in the line_stops DataFrame\n",
    "line_ids = line_stops_df['line_id'].unique()\n",
    "\n",
    "# loop through each unique Line ID\n",
    "for line_id in line_ids:\n",
    "    # get the first and last Stop Name for this Line ID\n",
    "    first_stop_name = line_stops_df.loc[line_stops_df['line_id'] == line_id, 'stop_name'].iloc[0]\n",
    "    last_stop_name = line_stops_df.loc[line_stops_df['line_id'] == line_id, 'stop_name'].iloc[-1]\n",
    "    \n",
    "    # get the corresponding Start-Stop value from line_df for this Line ID\n",
    "    start_stop = line_df.loc[line_df['line_id'] == line_id, 'start_stop'].iloc[0]\n",
    "    \n",
    "    # check if the first and last Stop Names are contained in the Start-Stop value\n",
    "    if first_stop_name not in start_stop or last_stop_name not in start_stop:\n",
    "        print(f\"Quality control check failed for line_id {line_id}.\")\n",
    "\n",
    "# I checked that this works using the following code:\n",
    "# line_stops_df.loc[0, \"stop_name\"] = \"test\"\n",
    "# and got the right result: Quality control check failed for line_id 1001.\n"
   ]
  },
  {
   "cell_type": "code",
   "execution_count": 62,
   "metadata": {},
   "outputs": [
    {
     "data": {
      "text/html": [
       "<div>\n",
       "<style scoped>\n",
       "    .dataframe tbody tr th:only-of-type {\n",
       "        vertical-align: middle;\n",
       "    }\n",
       "\n",
       "    .dataframe tbody tr th {\n",
       "        vertical-align: top;\n",
       "    }\n",
       "\n",
       "    .dataframe thead th {\n",
       "        text-align: right;\n",
       "    }\n",
       "</style>\n",
       "<table border=\"1\" class=\"dataframe\">\n",
       "  <thead>\n",
       "    <tr style=\"text-align: right;\">\n",
       "      <th></th>\n",
       "      <th>line_id</th>\n",
       "      <th>year</th>\n",
       "      <th>line_name</th>\n",
       "      <th>type</th>\n",
       "      <th>start_stop</th>\n",
       "      <th>Length (time)</th>\n",
       "      <th>east_west</th>\n",
       "      <th>Frequency</th>\n",
       "    </tr>\n",
       "  </thead>\n",
       "  <tbody>\n",
       "    <tr>\n",
       "      <th>0</th>\n",
       "      <td>19671</td>\n",
       "      <td>1967</td>\n",
       "      <td>3</td>\n",
       "      <td>strassenbahn</td>\n",
       "      <td>Revalerstrasse&lt;&gt; Björnsonstrasse</td>\n",
       "      <td>42</td>\n",
       "      <td>Ost</td>\n",
       "      <td>15</td>\n",
       "    </tr>\n",
       "    <tr>\n",
       "      <th>1</th>\n",
       "      <td>19672</td>\n",
       "      <td>1967</td>\n",
       "      <td>4</td>\n",
       "      <td>strassenbahn</td>\n",
       "      <td>Markusstrasse&lt;&gt; Eberswalderstrasse Ecke Oderbe...</td>\n",
       "      <td>36</td>\n",
       "      <td>Ost</td>\n",
       "      <td>8</td>\n",
       "    </tr>\n",
       "    <tr>\n",
       "      <th>2</th>\n",
       "      <td>19673</td>\n",
       "      <td>1967</td>\n",
       "      <td>13</td>\n",
       "      <td>strassenbahn</td>\n",
       "      <td>Hönower Wiesenweg Ecke Blockdammweg&lt;&gt; Oderberg...</td>\n",
       "      <td>42</td>\n",
       "      <td>Ost</td>\n",
       "      <td>8</td>\n",
       "    </tr>\n",
       "  </tbody>\n",
       "</table>\n",
       "</div>"
      ],
      "text/plain": [
       "  line_id  year line_name          type  \\\n",
       "0   19671  1967         3  strassenbahn   \n",
       "1   19672  1967         4  strassenbahn   \n",
       "2   19673  1967        13  strassenbahn   \n",
       "\n",
       "                                          start_stop  Length (time) east_west  \\\n",
       "0                   Revalerstrasse<> Björnsonstrasse             42       Ost   \n",
       "1  Markusstrasse<> Eberswalderstrasse Ecke Oderbe...             36       Ost   \n",
       "2  Hönower Wiesenweg Ecke Blockdammweg<> Oderberg...             42       Ost   \n",
       "\n",
       "   Frequency  \n",
       "0         15  \n",
       "1          8  \n",
       "2          8  "
      ]
     },
     "execution_count": 62,
     "metadata": {},
     "output_type": "execute_result"
    }
   ],
   "source": [
    "line_df.head(3)"
   ]
  },
  {
   "cell_type": "code",
   "execution_count": 63,
   "metadata": {},
   "outputs": [],
   "source": [
    "def add_type(line_stops, line_df):\n",
    "    # Assuming line_id is the common column between line_stops and line_df\n",
    "    merged_df = pd.merge(line_stops, line_df[['line_id', 'type', \"line_name\"]], on='line_id', how='left')\n",
    "    \n",
    "    # Rename the 'type' column from line_df to 'type_from_line_df' to avoid conflicts\n",
    "    merged_df.rename(columns={'type': 'type'}, inplace=True)\n",
    "    \n",
    "    # Drop the 'type_from_line_df' column if it's not needed in the final result\n",
    "    # merged_df.drop(columns=['type_from_line_df'], inplace=True)\n",
    "    \n",
    "    return merged_df"
   ]
  },
  {
   "cell_type": "code",
   "execution_count": 64,
   "metadata": {},
   "outputs": [],
   "source": [
    "line_stops_df = add_type(line_stops_df, line_df)"
   ]
  },
  {
   "cell_type": "code",
   "execution_count": 65,
   "metadata": {},
   "outputs": [],
   "source": [
    "def add_fk(line_stops_df, df_stops):\n",
    "    # Create a new dataframe with the Stop Name and Stop ID columns\n",
    "    stop_id_df = df_stops[['stop_name', 'stop_id', 'type', 'in_lines']]\n",
    "\n",
    "    # Merge the line_stops_df and stop_id_df dataframes based on matching stop names and line_name condition\n",
    "    line_stops_df = line_stops_df.merge(stop_id_df,\n",
    "                                        left_on=['stop_name', 'type'],\n",
    "                                        right_on=['stop_name', 'type'],\n",
    "                                        how='left')\n",
    "\n",
    "    # Filter the rows based on the condition that line_name is contained in in_lines\n",
    "    line_stops_df = line_stops_df[line_stops_df.apply(lambda row: str(row['line_name']) in str(row['in_lines']), axis=1)]\n",
    "\n",
    "    return line_stops_df\n",
    "\n",
    "# Assuming line_stops_df and df_stops are your dataframes\n",
    "# Replace 'stop_name', 'stop_id', 'type', and 'in_lines' with the actual column names you have\n",
    "\n",
    "line_stops_df = add_fk(line_stops_df, df_stops)\n"
   ]
  },
  {
   "cell_type": "code",
   "execution_count": 66,
   "metadata": {},
   "outputs": [
    {
     "data": {
      "text/html": [
       "<div>\n",
       "<style scoped>\n",
       "    .dataframe tbody tr th:only-of-type {\n",
       "        vertical-align: middle;\n",
       "    }\n",
       "\n",
       "    .dataframe tbody tr th {\n",
       "        vertical-align: top;\n",
       "    }\n",
       "\n",
       "    .dataframe thead th {\n",
       "        text-align: right;\n",
       "    }\n",
       "</style>\n",
       "<table border=\"1\" class=\"dataframe\">\n",
       "  <thead>\n",
       "    <tr style=\"text-align: right;\">\n",
       "      <th></th>\n",
       "      <th>line_id</th>\n",
       "      <th>stop_name</th>\n",
       "      <th>stop_order</th>\n",
       "      <th>type</th>\n",
       "      <th>line_name</th>\n",
       "      <th>stop_id</th>\n",
       "      <th>in_lines</th>\n",
       "      <th>diff</th>\n",
       "    </tr>\n",
       "  </thead>\n",
       "  <tbody>\n",
       "  </tbody>\n",
       "</table>\n",
       "</div>"
      ],
      "text/plain": [
       "Empty DataFrame\n",
       "Columns: [line_id, stop_name, stop_order, type, line_name, stop_id, in_lines, diff]\n",
       "Index: []"
      ]
     },
     "execution_count": 66,
     "metadata": {},
     "output_type": "execute_result"
    }
   ],
   "source": [
    "# Calculate the difference between consecutive 'stop_order' values\n",
    "line_stops_df['diff'] = line_stops_df['stop_order'].diff()\n",
    "\n",
    "# Use the following line to drop rows where the 'diff' column is 0.0\n",
    "line_stops_df = line_stops_df[line_stops_df['diff'] != 0.0]\n",
    "\n",
    "# Identify faulty rows where the difference is not 1 digit behind\n",
    "faulty_rows = line_stops_df[(line_stops_df['diff'] != 1) & (line_stops_df['stop_order'] != 0)]\n",
    "faulty_rows"
   ]
  },
  {
   "cell_type": "code",
   "execution_count": 67,
   "metadata": {},
   "outputs": [
    {
     "name": "stdout",
     "output_type": "stream",
     "text": [
      "<class 'pandas.core.frame.DataFrame'>\n",
      "Index: 0 entries\n",
      "Data columns (total 8 columns):\n",
      " #   Column      Non-Null Count  Dtype  \n",
      "---  ------      --------------  -----  \n",
      " 0   line_id     0 non-null      object \n",
      " 1   stop_name   0 non-null      object \n",
      " 2   stop_order  0 non-null      int64  \n",
      " 3   type        0 non-null      object \n",
      " 4   line_name   0 non-null      object \n",
      " 5   stop_id     0 non-null      object \n",
      " 6   in_lines    0 non-null      object \n",
      " 7   diff        0 non-null      float64\n",
      "dtypes: float64(1), int64(1), object(6)\n",
      "memory usage: 0.0+ bytes\n"
     ]
    }
   ],
   "source": [
    "faulty_rows.info()"
   ]
  },
  {
   "cell_type": "code",
   "execution_count": 68,
   "metadata": {},
   "outputs": [
    {
     "name": "stdout",
     "output_type": "stream",
     "text": [
      "All values in 'stop_id' column are numeric\n"
     ]
    }
   ],
   "source": [
    "# convert 'Stop ID' column to numeric values, coercing errors to NaN\n",
    "line_stops_df['stop_id'] = pd.to_numeric(line_stops_df['stop_id'], errors='coerce')\n",
    "\n",
    "# check if all values in 'Stop ID' column are numeric\n",
    "if line_stops_df['stop_id'].notnull().all():\n",
    "    print(\"All values in 'stop_id' column are numeric\")\n",
    "else:\n",
    "    print(\"There are non-numeric values in 'stop_id' column\")\n",
    "    print(line_stops_df[line_stops_df['stop_id'].isnull()])\n"
   ]
  },
  {
   "cell_type": "code",
   "execution_count": 69,
   "metadata": {},
   "outputs": [],
   "source": [
    "line_stops_df.drop(['line_name', \"in_lines\", \"type\", \"diff\"], axis=1, inplace=True)"
   ]
  },
  {
   "cell_type": "code",
   "execution_count": 70,
   "metadata": {},
   "outputs": [],
   "source": [
    "line_stops_df.to_csv(\"line_stops_1967-final.csv\")\n",
    "line_df.to_csv(\"line_df_1967-final.csv\")\n",
    "df_stops.to_csv(\"stops_df_1967-final.csv\")"
   ]
  }
 ],
 "metadata": {
  "kernelspec": {
   "display_name": "thesis-coding",
   "language": "python",
   "name": "python3"
  },
  "language_info": {
   "codemirror_mode": {
    "name": "ipython",
    "version": 3
   },
   "file_extension": ".py",
   "mimetype": "text/x-python",
   "name": "python",
   "nbconvert_exporter": "python",
   "pygments_lexer": "ipython3",
   "version": "3.11.8"
  }
 },
 "nbformat": 4,
 "nbformat_minor": 2
}
