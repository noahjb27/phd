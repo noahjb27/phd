{
 "cells": [
  {
   "cell_type": "code",
   "execution_count": 1,
   "metadata": {},
   "outputs": [],
   "source": [
    "import pandas as pd"
   ]
  },
  {
   "cell_type": "markdown",
   "metadata": {},
   "source": [
    "# first"
   ]
  },
  {
   "cell_type": "code",
   "execution_count": 4,
   "metadata": {},
   "outputs": [],
   "source": [
    "years = [1946, 1951, 1956, 1960, 1961,1964, 1967, 1971, 1976, 1980, 1982, 1984, 1989]"
   ]
  },
  {
   "cell_type": "code",
   "execution_count": 5,
   "metadata": {},
   "outputs": [
    {
     "name": "stdout",
     "output_type": "stream",
     "text": [
      "<class 'pandas.core.frame.DataFrame'>\n",
      "RangeIndex: 19724 entries, 0 to 19723\n",
      "Data columns (total 7 columns):\n",
      " #   Column            Non-Null Count  Dtype \n",
      "---  ------            --------------  ----- \n",
      " 0   stop_id           19724 non-null  int64 \n",
      " 1   stop_name         19724 non-null  object\n",
      " 2   type              19724 non-null  object\n",
      " 3   location          19724 non-null  object\n",
      " 4   in_lines          19724 non-null  object\n",
      " 5   identifier        4783 non-null   object\n",
      " 6   stop_description  812 non-null    object\n",
      "dtypes: int64(1), object(6)\n",
      "memory usage: 1.1+ MB\n"
     ]
    }
   ],
   "source": [
    "# Read CSV files into DataFrames and concatenate vertically\n",
    "combined_stops = pd.concat([pd.read_csv(f'../{year}-network/final/stops_df_{year}-final.csv') for year in years], ignore_index=True)\n",
    "\n",
    "# Drop the unnecessary columns if needed\n",
    "combined_stops = combined_stops.drop(columns=['Unnamed: 0'])\n",
    "\n",
    "combined_stops.info()"
   ]
  },
  {
   "cell_type": "code",
   "execution_count": 6,
   "metadata": {},
   "outputs": [
    {
     "name": "stdout",
     "output_type": "stream",
     "text": [
      "Empty DataFrame\n",
      "Columns: [stop_id, stop_name, type, location, in_lines, identifier, stop_description]\n",
      "Index: []\n"
     ]
    }
   ],
   "source": [
    "# Check for rows with empty string or NaN in 'location' column\n",
    "rows_with_empty_location = combined_stops[combined_stops['location'].isna() | (combined_stops['location'] == '') | (combined_stops['location'] == '0')]\n",
    "\n",
    "# Display the rows with empty or NaN values in 'location'\n",
    "print(rows_with_empty_location)\n"
   ]
  },
  {
   "cell_type": "code",
   "execution_count": 7,
   "metadata": {},
   "outputs": [],
   "source": [
    "# Write the combined table to a new CSV file\n",
    "combined_stops.to_csv('stations.csv', index=False)"
   ]
  },
  {
   "cell_type": "code",
   "execution_count": 8,
   "metadata": {},
   "outputs": [],
   "source": [
    "# Read CSV files into DataFrames and concatenate vertically\n",
    "combined_lines = pd.concat([pd.read_csv(f'../{year}-network/final/line_df_{year}-final.csv') for year in years], ignore_index=True)\n",
    "\n",
    "# Write the combined table to a new CSV file\n",
    "combined_lines.to_csv('lines.csv', index=False)\n"
   ]
  },
  {
   "cell_type": "code",
   "execution_count": 9,
   "metadata": {},
   "outputs": [],
   "source": [
    "# Read CSV files into DataFrames and concatenate vertically\n",
    "combined_line_stops = pd.concat([pd.read_csv(f'../{year}-network/final/line_stops_{year}-final.csv') for year in years], ignore_index=True)\n",
    "\n",
    "# Write the combined table to a new CSV file\n",
    "combined_line_stops.to_csv('line_stops.csv', index=False)\n"
   ]
  },
  {
   "cell_type": "markdown",
   "metadata": {},
   "source": [
    "# second"
   ]
  }
 ],
 "metadata": {
  "kernelspec": {
   "display_name": ".venv",
   "language": "python",
   "name": "python3"
  },
  "language_info": {
   "codemirror_mode": {
    "name": "ipython",
    "version": 3
   },
   "file_extension": ".py",
   "mimetype": "text/x-python",
   "name": "python",
   "nbconvert_exporter": "python",
   "pygments_lexer": "ipython3",
   "version": "3.12.6"
  }
 },
 "nbformat": 4,
 "nbformat_minor": 2
}
