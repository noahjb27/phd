{
 "cells": [
  {
   "cell_type": "code",
   "execution_count": null,
   "metadata": {},
   "outputs": [],
   "source": [
    "# 01_geolocation_verification_splitting.ipynb\n",
    "\n",
    "# Geolocation Verification and Station Splitting\n",
    "\"\"\"\n",
    "This notebook performs verification and cleanup of geolocation data for Berlin's transportation stations.\n",
    "\"\"\"\n",
    "\n",
    "import pandas as pd\n",
    "from pathlib import Path\n",
    "import logging\n",
    "\n",
    "# Import our module for geolocation verification\n",
    "import sys\n",
    "sys.path.append('../src')  # Adjust path if needed\n",
    "from geolocation import (\n",
    "    verify_geo_format, split_combined_stations, \n",
    "    visualize_stations, merge_refined_data\n",
    ")\n",
    "\n",
    "# Configure logging\n",
    "logging.basicConfig(level=logging.INFO, format='%(asctime)s - %(levelname)s - %(message)s')\n",
    "logger = logging.getLogger(__name__)"
   ]
  },
  {
   "cell_type": "markdown",
   "metadata": {},
   "source": [
    "# Geolocation Verification and Station Splitting\n",
    "\n",
    "This notebook handles the critical task of verifying and enhancing the geographic data for Berlin's public transportation stations. Geographic accuracy is essential for spatial analysis of the transportation network.\n",
    "\n",
    "## Purpose\n",
    "\n",
    "1. **Data Quality Assurance**: Verify that station coordinates are properly formatted and within expected geographic bounds\n",
    "2. **Station Splitting**: Process combined stations that need to be represented as separate entities\n",
    "3. **Visual Validation**: Generate maps of station locations for visual inspection\n",
    "4. **Data Enrichment**: Merge refined manual corrections with the original dataset\n",
    "\n",
    "## Process Overview\n",
    "\n",
    "1. We first load data from both the original processing and OpenRefine-enhanced records\n",
    "2. Next, we identify and split station entries that represent multiple physical locations\n",
    "3. We then verify coordinate formatting and geographic bounds\n",
    "4. Finally, we visualize the stations on an interactive map and save the verified dataset"
   ]
  },
  {
   "cell_type": "code",
   "execution_count": null,
   "metadata": {},
   "outputs": [],
   "source": [
    "# Configuration\n",
    "YEAR = 1965\n",
    "SIDE = \"west\"\n",
    "DATA_DIR = Path('../data') "
   ]
  },
  {
   "cell_type": "markdown",
   "metadata": {},
   "source": [
    "## Data Loading\n",
    "\n",
    "We load two key datasets:\n",
    "1. **OpenRefine-Enhanced Data**: Contains manually refined/corrected geographic coordinates\n",
    "2. **Original Processed Data**: The initial station dataset from the Fahrplanbuch processing\n",
    "\n",
    "OpenRefine is a powerful tool for data cleanup that allows for manual verification and correction of station coordinates. This process is particularly important for stations that couldn't be automatically matched to existing records."
   ]
  },
  {
   "cell_type": "code",
   "execution_count": null,
   "metadata": {},
   "outputs": [],
   "source": [
    "# Load the OpenRefine processed data\n",
    "refined_data_path = f\"../data/interim/stops_for_openrefine/unmatched_stops_{YEAR}_{SIDE}_refined.csv\"\n",
    "refined_stops = pd.read_csv(refined_data_path)\n",
    "logger.info(f\"Loaded {len(refined_stops)} stations from OpenRefine\")\n",
    "\n",
    "# Load the previously matched stops\n",
    "original_stops = pd.read_csv(f'../data/interim/stops_matched_initial/stops_{YEAR}_{SIDE}.csv')\n",
    "logger.info(f\"Loaded {len(original_stops)} stations from original data\")"
   ]
  },
  {
   "cell_type": "markdown",
   "metadata": {},
   "source": [
    "## Station Splitting\n",
    "\n",
    "Some station entries represent multiple physical locations that should be represented as separate entities in our dataset. This typically happens when:\n",
    "\n",
    "1. A single line entry contains multiple stops\n",
    "2. Stations were consolidated during data entry but represent distinct physical locations\n",
    "\n",
    "The splitting process:\n",
    "1. Identifies entries with hyphen-separated locations (format: \"lat1,lon1 - lat2,lon2\")\n",
    "2. Creates separate records for each location while maintaining appropriate relationships\n",
    "3. Assigns new unique identifiers to the newly created stations"
   ]
  },
  {
   "cell_type": "code",
   "execution_count": null,
   "metadata": {},
   "outputs": [],
   "source": [
    "# Split combined stations\n",
    "refined_stops = split_combined_stations(refined_stops, YEAR)"
   ]
  },
  {
   "cell_type": "markdown",
   "metadata": {},
   "source": [
    "## Merging Refined Data\n",
    "\n",
    "We now merge the refined coordinates from OpenRefine with our original dataset. This step:\n",
    "\n",
    "1. Updates existing station records with improved coordinates\n",
    "2. Adds new stations that were identified during manual refinement\n",
    "3. Preserves relationships between stations and lines\n",
    "\n",
    "This ensures we maintain data integrity while incorporating manual corrections."
   ]
  },
  {
   "cell_type": "code",
   "execution_count": null,
   "metadata": {},
   "outputs": [],
   "source": [
    "# Merge refined data with original stops\n",
    "merged_stops = merge_refined_data(original_stops, refined_stops)"
   ]
  },
  {
   "cell_type": "markdown",
   "metadata": {},
   "source": [
    "## Coordinate Format Verification\n",
    "\n",
    "Geographic coordinates must follow a consistent format for reliable analysis. This step:\n",
    "\n",
    "1. Standardizes coordinate formatting (consistent decimal places, separators)\n",
    "2. Validates that coordinates follow the expected pattern (latitude,longitude)\n",
    "3. Flags invalid coordinates for further review\n",
    "\n",
    "This standardization is crucial for spatial operations and visualization."
   ]
  },
  {
   "cell_type": "code",
   "execution_count": null,
   "metadata": {},
   "outputs": [],
   "source": [
    "# Verify and standardize coordinate format\n",
    "merged_stops = verify_geo_format(merged_stops)\n",
    "\n",
    "# For East Berlin, the some stations may lie outside the city limits"
   ]
  },
  {
   "cell_type": "markdown",
   "metadata": {},
   "source": [
    "## Geographic Bounds Verification\n",
    "\n",
    "We verify that station coordinates fall within the expected geographic bounds of Berlin. This helps identify:\n",
    "\n",
    "1. Incorrectly entered coordinates (e.g., reversed lat/lon)\n",
    "2. Stations that might be outside the study area\n",
    "3. Potential data entry errors\n",
    "\n",
    "The bounds for Berlin are approximately:\n",
    "- Latitude: 52.3° to 52.7° N\n",
    "- Longitude: 13.1° to 13.8° E"
   ]
  },
  {
   "cell_type": "markdown",
   "metadata": {},
   "source": [
    "## Visualization\n",
    "\n",
    "Creating a map visualization serves several purposes:\n",
    "\n",
    "1. **Visual Validation**: Quickly identify outliers or misplaced stations\n",
    "2. **Pattern Recognition**: Observe the spatial distribution of different transportation types\n",
    "3. **Documentation**: Provide a visual record of the network at this point in time\n",
    "\n",
    "The map uses color-coding by transport type:\n",
    "- U-Bahn (subway): Green\n",
    "- S-Bahn (city railway): Purple\n",
    "- Strassenbahn (tram): Red\n",
    "- Bus: Blue"
   ]
  },
  {
   "cell_type": "code",
   "execution_count": null,
   "metadata": {},
   "outputs": [],
   "source": [
    "# Create a map visualization of stations\n",
    "map_dir = DATA_DIR / 'visualizations'\n",
    "map_dir.mkdir(parents=True, exist_ok=True)\n",
    "visualize_stations(merged_stops, str(map_dir / f'stations_{YEAR}_{SIDE}.html'))"
   ]
  },
  {
   "cell_type": "markdown",
   "metadata": {},
   "source": [
    "## Saving Results\n",
    "\n",
    "The verified and enhanced dataset is saved for use in subsequent processing steps. This dataset now contains:\n",
    "\n",
    "1. Standardized geographic coordinates\n",
    "2. Split station entities\n",
    "3. Validated location data\n",
    "4. Enriched information from manual review\n",
    "\n",
    "This forms the foundation for spatial analysis of the Berlin transportation system."
   ]
  },
  {
   "cell_type": "code",
   "execution_count": null,
   "metadata": {},
   "outputs": [],
   "source": [
    "# Save verified data\n",
    "verified_dir = DATA_DIR / 'interim' / 'stops_verified'\n",
    "verified_dir.mkdir(parents=True, exist_ok=True)\n",
    "merged_stops.to_csv(verified_dir / f'stops_{YEAR}_{SIDE}.csv', index=False)"
   ]
  },
  {
   "cell_type": "code",
   "execution_count": null,
   "metadata": {},
   "outputs": [],
   "source": [
    "# Print summary statistics\n",
    "valid_locations = merged_stops['location'].notna().sum()\n",
    "total_stops = len(merged_stops)\n",
    "print(f\"\\nVerification complete:\")\n",
    "print(f\"Total stations: {total_stops}\")\n",
    "print(f\"Valid locations: {valid_locations} ({valid_locations/total_stops*100:.1f}%)\")\n",
    "print(f\"Split stations: {len(merged_stops) - len(original_stops)}\")"
   ]
  }
 ],
 "metadata": {
  "kernelspec": {
   "display_name": ".venv",
   "language": "python",
   "name": "python3"
  },
  "language_info": {
   "codemirror_mode": {
    "name": "ipython",
    "version": 3
   },
   "file_extension": ".py",
   "mimetype": "text/x-python",
   "name": "python",
   "nbconvert_exporter": "python",
   "pygments_lexer": "ipython3",
   "version": "3.12.6"
  }
 },
 "nbformat": 4,
 "nbformat_minor": 2
}
