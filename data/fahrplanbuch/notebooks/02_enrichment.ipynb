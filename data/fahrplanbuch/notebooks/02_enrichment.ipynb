{
 "cells": [
  {
   "cell_type": "markdown",
   "metadata": {},
   "source": [
    "# Berlin Transport Network - Data Enrichment\n",
    "\n",
    "This notebook processes and enriches Berlin public transportation data for a specific year and side (East/West). It performs the following steps:\n",
    "\n",
    "1. **Configuration**: Set up year and side to process\n",
    "2. **Data Loading**: Load base data and intermediate files\n",
    "3. **Line Enrichment**: Add profile and capacity information to lines\n",
    "4. **Administrative Data**: Add district/neighborhood information to stops\n",
    "5. **Postal Code Data**: Add postal code information to stops\n",
    "6. **Line-Stop Relationships**: Process relationships between lines and stops\n",
    "7. **Data Finalization**: Finalize and save processed data\n",
    "8. **Reference Data**: Update the reference stations dataset\n",
    "\n",
    "Most of the implementation logic is in the `src.enrichment` module."
   ]
  },
  {
   "cell_type": "code",
   "execution_count": null,
   "metadata": {},
   "outputs": [],
   "source": [
    "import sys\n",
    "import pandas as pd\n",
    "import logging\n",
    "from pathlib import Path\n",
    "\n",
    "# Set up logging\n",
    "logging.basicConfig(\n",
    "    level=logging.INFO,\n",
    "    format='%(asctime)s - %(levelname)s - %(message)s'\n",
    ")\n",
    "logger = logging.getLogger(__name__)\n",
    "\n",
    "# Import modules\n",
    "sys.path.append('..')\n",
    "from src import enricher"
   ]
  },
  {
   "cell_type": "markdown",
   "metadata": {},
   "source": [
    "## 1. Configuration\n",
    "\n",
    "Set up the year and side (east/west) to process, and define paths to data files."
   ]
  },
  {
   "cell_type": "code",
   "execution_count": null,
   "metadata": {},
   "outputs": [],
   "source": [
    "# Configuration\n",
    "YEAR = 1965\n",
    "SIDE = \"west\"\n",
    "\n",
    "# Set up paths\n",
    "BASE_DIR = Path('../data')\n",
    "paths = {\n",
    "    'base_dir': BASE_DIR,\n",
    "    'raw_dir': BASE_DIR / 'raw',\n",
    "    'interim_dir': BASE_DIR / 'interim',\n",
    "    'processed_dir': BASE_DIR / 'processed',\n",
    "    'geo_data_dir': BASE_DIR / 'data-external',\n",
    "}"
   ]
  },
  {
   "cell_type": "markdown",
   "metadata": {},
   "source": [
    "## 2. Data Loading\n",
    "\n",
    "Load the raw and intermediate data files required for processing."
   ]
  },
  {
   "cell_type": "code",
   "execution_count": null,
   "metadata": {},
   "outputs": [],
   "source": [
    "# Load data\n",
    "try:\n",
    "    line_df_initial, final_stops = enricher.load_data(paths, YEAR, SIDE)\n",
    "except Exception as e:\n",
    "    logger.error(f\"Error loading data: {e}\")\n",
    "    raise"
   ]
  },
  {
   "cell_type": "markdown",
   "metadata": {},
   "source": [
    "## 3. Line Enrichment\n",
    "\n",
    "Enrich line data with profile and capacity information based on transport type."
   ]
  },
  {
   "cell_type": "code",
   "execution_count": null,
   "metadata": {},
   "outputs": [],
   "source": [
    "# Enrich lines with profile and capacity information\n",
    "line_df = enricher.enrich_lines(line_df_initial, SIDE)\n",
    "\n",
    "# Display a sample of the enriched lines\n",
    "line_df.head()"
   ]
  },
  {
   "cell_type": "markdown",
   "metadata": {},
   "source": [
    "## 4. Administrative Data\n",
    "\n",
    "Add district and neighborhood information to stops based on their geographic location."
   ]
  },
  {
   "cell_type": "code",
   "execution_count": null,
   "metadata": {},
   "outputs": [],
   "source": [
    "# Load district data\n",
    "districts_gdf, west_berlin_districts = enricher.load_district_data(paths['geo_data_dir'])\n",
    "\n",
    "# Add administrative data\n",
    "if districts_gdf is not None and west_berlin_districts is not None:\n",
    "    enriched_stops_df = enricher.add_administrative_data(SIDE, final_stops, districts_gdf, west_berlin_districts)\n",
    "\n",
    "    logger.info(f\"Enriched stops created, not saved\")\n",
    "else:\n",
    "    logger.warning(\"Could not load district data, skipping administrative enrichment\")\n",
    "    enriched_stops_df = final_stops\n",
    "\n",
    "# Display a sample of the enriched stops\n",
    "enriched_stops_df.head()"
   ]
  },
  {
   "cell_type": "markdown",
   "metadata": {},
   "source": [
    "## 5. Postal Code Data\n",
    "\n",
    "Add postal code information to stops based on their geographic location."
   ]
  },
  {
   "cell_type": "code",
   "execution_count": null,
   "metadata": {},
   "outputs": [],
   "source": [
    "# Add postal code data\n",
    "enriched_stops_df = enricher.add_postal_code_data(\n",
    "    enriched_stops_df, \n",
    "    geo_data_dir=paths['geo_data_dir']\n",
    ")\n",
    "# Display a sample of the enriched stops\n",
    "enriched_stops_df.head()"
   ]
  },
  {
   "cell_type": "markdown",
   "metadata": {},
   "source": [
    "## 6. Line-Stop Relationships\n",
    "\n",
    "Process relationships between lines and stops, including creating a line-stops DataFrame, adding line type information, and adding stop foreign keys."
   ]
  },
  {
   "cell_type": "code",
   "execution_count": null,
   "metadata": {},
   "outputs": [],
   "source": [
    "raw_df = pd.read_csv(f\"../data/raw/{YEAR}_{SIDE}.csv\")"
   ]
  },
  {
   "cell_type": "code",
   "execution_count": null,
   "metadata": {},
   "outputs": [],
   "source": [
    "from src import table_creation\n",
    "\n",
    "# Create line-stops DataFrame\n",
    "line_stops = table_creation.create_line_stops_df(raw_df)\n",
    "\n",
    "# # Add stop foreign keys\n",
    "line_stops = table_creation.add_stop_foreign_keys(line_stops, enriched_stops_df, YEAR, SIDE)\n",
    "\n",
    "# Display a sample of the line-stops relationships\n",
    "line_stops.head()"
   ]
  },
  {
   "cell_type": "markdown",
   "metadata": {},
   "source": [
    "## 7. Data Finalization\n",
    "\n",
    "Finalize and save the processed data to the output directory."
   ]
  },
  {
   "cell_type": "code",
   "execution_count": null,
   "metadata": {},
   "outputs": [],
   "source": [
    "# Finalize data\n",
    "final_line_df, final_stops_df, final_line_stops_df = table_creation.finalize_data(\n",
    "    line_df, enriched_stops_df, line_stops\n",
    ")\n",
    "\n",
    "# Save final data\n",
    "table_creation.save_data(paths, final_line_df, final_stops_df, final_line_stops_df, YEAR, SIDE)"
   ]
  },
  {
   "cell_type": "markdown",
   "metadata": {},
   "source": [
    "## Summary\n",
    "\n",
    "Print a summary of the processed data and next steps."
   ]
  },
  {
   "cell_type": "code",
   "execution_count": null,
   "metadata": {},
   "outputs": [],
   "source": [
    "# Print summary\n",
    "table_creation.print_summary(YEAR, SIDE, final_line_df, final_stops_df, final_line_stops_df, paths)"
   ]
  }
 ],
 "metadata": {
  "kernelspec": {
   "display_name": ".venv",
   "language": "python",
   "name": "python3"
  },
  "language_info": {
   "codemirror_mode": {
    "name": "ipython",
    "version": 3
   },
   "file_extension": ".py",
   "mimetype": "text/x-python",
   "name": "python",
   "nbconvert_exporter": "python",
   "pygments_lexer": "ipython3",
   "version": "3.12.6"
  }
 },
 "nbformat": 4,
 "nbformat_minor": 2
}
